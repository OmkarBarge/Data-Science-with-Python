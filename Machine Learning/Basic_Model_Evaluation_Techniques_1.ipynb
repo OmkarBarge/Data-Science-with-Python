{
  "nbformat": 4,
  "nbformat_minor": 0,
  "metadata": {
    "colab": {
      "provenance": [],
      "collapsed_sections": []
    },
    "kernelspec": {
      "name": "python3",
      "display_name": "Python 3"
    },
    "language_info": {
      "name": "python"
    }
  },
  "cells": [
    {
      "cell_type": "markdown",
      "source": [
        "#Confusion Matrix\n",
        ">   \n",
        "    1- It is a square matrix<br>\n",
        "    2- It consists of 4 terms: TP, FN, FP and TN <br>\n",
        "    TP(True Positive)\n",
        "    FN(False Negative)\n",
        "    FP(False Positive)\n",
        "    TN(True Negative)"
      ],
      "metadata": {
        "id": "GyV8Hc6cSZvp"
      }
    },
    {
      "cell_type": "code",
      "execution_count": 3,
      "metadata": {
        "colab": {
          "base_uri": "https://localhost:8080/"
        },
        "id": "-NBLr4VtSF89",
        "outputId": "4ab3a95b-0ce8-462a-ebcb-40608d534cf1"
      },
      "outputs": [
        {
          "output_type": "stream",
          "name": "stdout",
          "text": [
            "14 14\n"
          ]
        }
      ],
      "source": [
        "#example\n",
        "#0 = Positive(True),  1 = Negative(False)\n",
        "\n",
        "y_true = [1,0,0,1,1,1,0,0,0,0,0,1,0,1]\n",
        "y_pred = [0,0,1,1,0,1,0,0,0,0,1,0,1,0]\n",
        "\n",
        "print(len(y_true), len(y_pred))"
      ]
    },
    {
      "cell_type": "code",
      "source": [
        "from sklearn.metrics import confusion_matrix, classification_report"
      ],
      "metadata": {
        "id": "w03x7yjLSxe0"
      },
      "execution_count": 4,
      "outputs": []
    },
    {
      "cell_type": "code",
      "source": [
        "cm = confusion_matrix(y_true, y_pred)\n",
        "cm"
      ],
      "metadata": {
        "colab": {
          "base_uri": "https://localhost:8080/"
        },
        "id": "5OtMwPTj0cQQ",
        "outputId": "1f909a1d-cbc0-4989-a096-81e1cefc97d0"
      },
      "execution_count": 5,
      "outputs": [
        {
          "output_type": "execute_result",
          "data": {
            "text/plain": [
              "array([[5, 3],\n",
              "       [4, 2]])"
            ]
          },
          "metadata": {},
          "execution_count": 5
        }
      ]
    },
    {
      "cell_type": "markdown",
      "source": [
        "[TP FN]<br>\n",
        "[FP TN]<br>\n",
        "\n",
        "Actual value = 0, Predicted value = 0 => 5<br>\n",
        "Actual value = 0, Predicted value = 1 => 3<br>\n",
        "Actual value = 1, Predicted value = 0 => 4<br>\n",
        "Actual value = 1, Predicted value = 1 => 2"
      ],
      "metadata": {
        "id": "gvFXDDQh0w_V"
      }
    },
    {
      "cell_type": "markdown",
      "source": [
        "# Classification Metrics"
      ],
      "metadata": {
        "id": "GmUpK6z02hFz"
      }
    },
    {
      "cell_type": "markdown",
      "source": [
        "<b>Note: </b><br>\n",
        "1) Sum of actual positive cases = TP + FN <br>\n",
        "2) Sum of actual negative cases = FP + TN <br>\n",
        "3) Sum of all the cases, where ML model predicted a positive value = TP + FP <br>\n",
        "4) Sum of all the casese, where ML model predicted a negative value = TN + FN<br>"
      ],
      "metadata": {
        "id": "eDtoHkNt3rMc"
      }
    },
    {
      "cell_type": "markdown",
      "source": [
        "<b>1) Precision - </b><br>\n",
        ">    TP/(TP+FP) (for 0),<br>\n",
        "    TN/(TN+FN) (for 1)\n",
        "\n",
        "<b>2) Recall - </b><br>\n",
        ">    TP/(TP+FN) (for 0),<br>\n",
        "    TN/(TN+FP) (for 1)\n",
        "    \n",
        "<b>3) F1-Score - </b><br>\n",
        ">   2*Precision * Recall / (Precision + Recall)\n",
        "\n",
        "<b>4) Accuracy - </b><br>\n",
        ">   (TP+TN)/(TP+FN+FP+TN)"
      ],
      "metadata": {
        "id": "X-hly4Pk2nh3"
      }
    },
    {
      "cell_type": "code",
      "source": [
        "print(classification_report(y_true, y_pred))"
      ],
      "metadata": {
        "colab": {
          "base_uri": "https://localhost:8080/"
        },
        "id": "M5kgh3pp0ig3",
        "outputId": "d79b94fd-23a1-416d-f8d8-20c24c3baaa5"
      },
      "execution_count": 6,
      "outputs": [
        {
          "output_type": "stream",
          "name": "stdout",
          "text": [
            "              precision    recall  f1-score   support\n",
            "\n",
            "           0       0.56      0.62      0.59         8\n",
            "           1       0.40      0.33      0.36         6\n",
            "\n",
            "    accuracy                           0.50        14\n",
            "   macro avg       0.48      0.48      0.48        14\n",
            "weighted avg       0.49      0.50      0.49        14\n",
            "\n"
          ]
        }
      ]
    },
    {
      "cell_type": "code",
      "source": [
        "print(cm)"
      ],
      "metadata": {
        "colab": {
          "base_uri": "https://localhost:8080/"
        },
        "id": "lNsajxLp6X97",
        "outputId": "e6b924aa-a6d8-4cd0-fd57-c91d6cd6680d"
      },
      "execution_count": 7,
      "outputs": [
        {
          "output_type": "stream",
          "name": "stdout",
          "text": [
            "[[5 3]\n",
            " [4 2]]\n"
          ]
        }
      ]
    },
    {
      "cell_type": "markdown",
      "source": [
        "[TP FN]<br>\n",
        "[FP TN]<br>"
      ],
      "metadata": {
        "id": "BIvmEMzr6uUp"
      }
    },
    {
      "cell_type": "markdown",
      "source": [
        "## Executing without function\n",
        "## validation of classification report"
      ],
      "metadata": {
        "id": "hAl6vQ4M7SL3"
      }
    },
    {
      "cell_type": "code",
      "source": [
        "#precision\n",
        "\n",
        "p0 = 5/(5+4)  #TP/(TP+FP),\n",
        "p1 = 2/(2+3)  #TN/(TN+FN)"
      ],
      "metadata": {
        "id": "sCYV5lOB6ghD"
      },
      "execution_count": 16,
      "outputs": []
    },
    {
      "cell_type": "code",
      "source": [
        "print(p0)\n",
        "print(p1)"
      ],
      "metadata": {
        "colab": {
          "base_uri": "https://localhost:8080/"
        },
        "id": "RUyE7Zkm7C4K",
        "outputId": "d77b0163-57df-4071-97e4-a6b2089498e9"
      },
      "execution_count": 17,
      "outputs": [
        {
          "output_type": "stream",
          "name": "stdout",
          "text": [
            "0.5555555555555556\n",
            "0.4\n"
          ]
        }
      ]
    },
    {
      "cell_type": "code",
      "source": [
        "#Recall\n",
        "\n",
        "r0 = 5/(5+3)   # TP/(TP+FN)\n",
        "r1 = 2/(2+4)   # TN/(TN+FP)"
      ],
      "metadata": {
        "id": "EU0CyXr07Ex5"
      },
      "execution_count": 18,
      "outputs": []
    },
    {
      "cell_type": "code",
      "source": [
        "print(r0)\n",
        "print(r1)"
      ],
      "metadata": {
        "colab": {
          "base_uri": "https://localhost:8080/"
        },
        "id": "vsnInvJ97rGz",
        "outputId": "cc0e5955-5ab8-471e-e11c-befe55253782"
      },
      "execution_count": 19,
      "outputs": [
        {
          "output_type": "stream",
          "name": "stdout",
          "text": [
            "0.625\n",
            "0.3333333333333333\n"
          ]
        }
      ]
    },
    {
      "cell_type": "code",
      "source": [
        "# F1-Score - for 0\n",
        "# 2*Precision * Recall / (Precision + Recall)\n",
        "\n",
        "f1_0 = 2* p0 * r0 / (p0 + r0)\n",
        "\n",
        "# F1-Score - for 1\n",
        "f1_1 = 2* p1 * r1 / (p1 + r1)"
      ],
      "metadata": {
        "id": "Yhj3mTwb7wI3"
      },
      "execution_count": 20,
      "outputs": []
    },
    {
      "cell_type": "code",
      "source": [
        "print(f1_0)\n",
        "print(f1_1)"
      ],
      "metadata": {
        "colab": {
          "base_uri": "https://localhost:8080/"
        },
        "id": "8c_XKgmm8hUo",
        "outputId": "735912a0-a5be-4ad6-c9c1-a7c9404cf2e4"
      },
      "execution_count": 21,
      "outputs": [
        {
          "output_type": "stream",
          "name": "stdout",
          "text": [
            "0.5882352941176471\n",
            "0.3636363636363636\n"
          ]
        }
      ]
    },
    {
      "cell_type": "code",
      "source": [
        "# Accuracy = (TP+TN)/(TP+FN+FP+TN)\n",
        "\n",
        "acc = (5+2)/(5+3+4+2)"
      ],
      "metadata": {
        "id": "NMdO8Up38jT-"
      },
      "execution_count": 22,
      "outputs": []
    },
    {
      "cell_type": "code",
      "source": [
        "acc"
      ],
      "metadata": {
        "colab": {
          "base_uri": "https://localhost:8080/"
        },
        "id": "z7mqo1lI8zRD",
        "outputId": "38088d32-d70d-4559-e6be-8086f7cc21a8"
      },
      "execution_count": 23,
      "outputs": [
        {
          "output_type": "execute_result",
          "data": {
            "text/plain": [
              "0.5"
            ]
          },
          "metadata": {},
          "execution_count": 23
        }
      ]
    },
    {
      "cell_type": "code",
      "source": [
        "#macro avg\n",
        "\n",
        "ma_pre = (p0 + p1)/2\n",
        "ma_recall = (r0 + r1)/2 \n",
        "ma_f1_score= (f1_0 + f1_1)/2"
      ],
      "metadata": {
        "id": "SPEsrKV09QXr"
      },
      "execution_count": 25,
      "outputs": []
    },
    {
      "cell_type": "code",
      "source": [
        "print(ma_pre)\n",
        "print(ma_recall)\n",
        "print(ma_f1_score)"
      ],
      "metadata": {
        "colab": {
          "base_uri": "https://localhost:8080/"
        },
        "id": "UXZh_bbr9uhH",
        "outputId": "7378b512-f01b-4482-c6e4-13ba5ba3dfb5"
      },
      "execution_count": 26,
      "outputs": [
        {
          "output_type": "stream",
          "name": "stdout",
          "text": [
            "0.4777777777777778\n",
            "0.47916666666666663\n",
            "0.47593582887700536\n"
          ]
        }
      ]
    },
    {
      "cell_type": "code",
      "source": [
        "# weight avg\n",
        "\n",
        "wa_pre = (p0 * 8 + p1 * 6)/14\n",
        "wa_recall = (r0 * 8 + r1 * 6)/14\n",
        "wa_f1_score= (f1_0 * 8 + f1_1 * 6)/14"
      ],
      "metadata": {
        "id": "Z5dfLDbs90SF"
      },
      "execution_count": 27,
      "outputs": []
    },
    {
      "cell_type": "code",
      "source": [
        "print(wa_pre)\n",
        "print(wa_recall)\n",
        "print(wa_f1_score)"
      ],
      "metadata": {
        "colab": {
          "base_uri": "https://localhost:8080/"
        },
        "id": "iqST17gV-N32",
        "outputId": "3b3016e6-5ce1-42d3-9bdd-6678f71a4124"
      },
      "execution_count": 28,
      "outputs": [
        {
          "output_type": "stream",
          "name": "stdout",
          "text": [
            "0.48888888888888893\n",
            "0.5\n",
            "0.4919786096256685\n"
          ]
        }
      ]
    }
  ]
}