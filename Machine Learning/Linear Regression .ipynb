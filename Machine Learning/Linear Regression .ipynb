{
 "cells": [
  {
   "cell_type": "markdown",
   "id": "aUBBk6BZOeoZ",
   "metadata": {
    "id": "aUBBk6BZOeoZ"
   },
   "source": [
    "### Regression\n",
    "1) It is a predictive modeling technique which investigates the realtionship between dependent and independent variables(one or more) <br>\n",
    "2) <b>Dependent/Target variable is continuous in nature</b> eg - Sales, Weight, Profit, Revenue, Price,Distance, Magintude,Height, Weight etc<br>\n",
    "\n",
    "3) <pre>\n",
    "   y = depenedent varaible/output/target variable\n",
    "   x = independent variable/input(s)\n",
    "   </pre>"
   ]
  },
  {
   "cell_type": "markdown",
   "id": "iW6klQ1wOeoj",
   "metadata": {
    "id": "iW6klQ1wOeoj"
   },
   "source": [
    "### Simple Linear Regression\n",
    "1) It is a regression model that estimates the relationship between<b> one independent variable and one dependent variable</b> using a straight line.<br>\n",
    "2) It has an equation of the form <b> y = mx + c</b><br>\n",
    "\n",
    "Where-<br>\n",
    "x = independent variable/ input feature/input attribute/input column/(s)<br>\n",
    "y = dependent variable / output feature/target attribute/ output column<br>\n",
    "m = slope or coefficient or weight or how much we expect y to change as x changes       \n",
    "c = intercept / constant / bias<br>\n",
    "\n",
    "In this graph, x = Time spent Studying, y = Marks obtained. The orange dots are the corresponding data points. The blue line is the best fit line for Linear regression(y = mx +c)\n",
    "\n",
    "<p align=\"center\">\n",
    "  <img  src=\"https://drive.google.com/uc?id=1ECq0SzCjIwKU0KipXC0_KxPrc1TXY75D\">\n",
    "</p>\n",
    "\n"
   ]
  },
  {
   "cell_type": "markdown",
   "id": "DADnhe0OOeol",
   "metadata": {
    "id": "DADnhe0OOeol"
   },
   "source": [
    "### Best Fit Line\n",
    "The Linear Regression model finds the best fit line that minimizes the squared error between the actual data points and its perpendicular dropped on the predicted line(prediction)<br>\n",
    "\n",
    "SST = Total Sum of Squares <br>\n",
    "SSE = Error Sum of squares <br>\n",
    "SSR = Regression sum of squares<br>\n",
    "\n",
    "\n",
    "<p align=\"center\">\n",
    "  <img  src=\"https://drive.google.com/uc?id=1b_pDQkxnUfoIrh7dPMmjHfj6qDxiWVa7\">\n",
    "</p>"
   ]
  },
  {
   "cell_type": "markdown",
   "id": "Go6zhIPROeom",
   "metadata": {
    "id": "Go6zhIPROeom"
   },
   "source": [
    "\n",
    "<p align=\"center\">\n",
    "  <img  src=\"https://drive.google.com/uc?id=1b65-pyTSs5yEdwNZh1bPw0jHYcmOOzRu\">\n",
    "</p>\n"
   ]
  },
  {
   "cell_type": "markdown",
   "id": "4IPYagevOeon",
   "metadata": {
    "id": "4IPYagevOeon"
   },
   "source": [
    "### R2 score (Coefficient of Determination or Goodness of Fit)\n",
    "\n",
    "The coefficient of determination is the portion of the total variation in the dependent variable that is explained by variation in the independent variable\n",
    "\n",
    "<p align=\"center\">\n",
    "  <img  src=\"https://drive.google.com/uc?id=1EEQhekZFeZ1y5uqWwvCw0jUPEK53ZbAq\">\n",
    "</p>\n",
    "\n",
    "<b>SST = SSE + SSR</b><br>\n",
    "=> SSR = SST-SSE<br>\n",
    "R2 score  = SSR/SST = (SST- SSE)/ SST = 1 – SSE/SST<br>\n",
    "When SSE= 0, R2 score = 1 (Best Case Scenario)<br>\n",
    "and when SSE = SST, R2 score = 0 (Worst Case Scenario)\n",
    "\n"
   ]
  },
  {
   "cell_type": "markdown",
   "id": "J9wzh1bxOeop",
   "metadata": {
    "id": "J9wzh1bxOeop"
   },
   "source": [
    "### Regression Metrics\n",
    "\n",
    "<p align=\"center\">\n",
    "  <img src=\"https://drive.google.com/uc?id=1Nyz3S3gsK3qa1mNle6OD2azy8165w70a\">\n",
    "</p>\n"
   ]
  },
  {
   "cell_type": "markdown",
   "id": "m6z_KrNAOeor",
   "metadata": {
    "id": "m6z_KrNAOeor"
   },
   "source": [
    "### Multiple Linear Regression\n",
    "\n",
    "1)\tMultiple linear regression is used to estimate the relationship between <b>two or more independent variables and one dependent variable</b> <br>\n",
    "\n",
    "2)\tIt has an equation of the form <b>y = m1x1 + m2x2 + m3x3 +…..+ mnxn + c </b><br>\n",
    "where:-<br>\n",
    "x1,x2,x3,...,xn = independent variables/ input features<br>\n",
    "y = dependent variable / output feature<br>\n",
    "m1,m2,m3...,mn = coefficients/slope  corresponding to x1 - xn             \n",
    "c = intercept / constant / bias<br>"
   ]
  },
  {
   "cell_type": "code",
   "execution_count": 1,
   "id": "Iq1JYsfIOeot",
   "metadata": {
    "id": "Iq1JYsfIOeot"
   },
   "outputs": [],
   "source": [
    "import pandas as pd\n",
    "# pandas is aliased as pd\n",
    "import numpy as np\n",
    "# numpy is aliased as np\n",
    "import matplotlib.pyplot as plt\n",
    "# # pyplot is aliased as plt"
   ]
  },
  {
   "cell_type": "markdown",
   "id": "O_VEmRwbOeow",
   "metadata": {
    "id": "O_VEmRwbOeow"
   },
   "source": [
    "### LinearRegression Using Sklearn"
   ]
  },
  {
   "cell_type": "code",
   "execution_count": 2,
   "id": "bGgce9-4Oeox",
   "metadata": {
    "id": "bGgce9-4Oeox",
    "outputId": "2201e14d-ba8a-4954-80e7-3c9893f5a189"
   },
   "outputs": [
    {
     "name": "stdout",
     "output_type": "stream",
     "text": [
      "21\n",
      "21\n"
     ]
    }
   ],
   "source": [
    "x = [20,30,25,17,36,40,46,55,52,27,50,33,42,21,48,37,23,33,14,19,52]\n",
    "y = [41,63,51,39,78,75,87,98,102,60,101,70,86,47,90,69,58,64,41,47,98]\n",
    "print(len(x))\n",
    "print(len(y))"
   ]
  },
  {
   "cell_type": "markdown",
   "id": "5qHXwRcLOeo0",
   "metadata": {
    "id": "5qHXwRcLOeo0"
   },
   "source": [
    "#### Problem Statement - Based on the values of x, predict the values of y using Linear Regression"
   ]
  },
  {
   "cell_type": "code",
   "execution_count": 3,
   "id": "9_5PWZNhOeo1",
   "metadata": {
    "id": "9_5PWZNhOeo1",
    "outputId": "d27a7d75-8219-4546-d912-9b6d939a88f2"
   },
   "outputs": [
    {
     "data": {
      "text/html": [
       "<div>\n",
       "<style scoped>\n",
       "    .dataframe tbody tr th:only-of-type {\n",
       "        vertical-align: middle;\n",
       "    }\n",
       "\n",
       "    .dataframe tbody tr th {\n",
       "        vertical-align: top;\n",
       "    }\n",
       "\n",
       "    .dataframe thead th {\n",
       "        text-align: right;\n",
       "    }\n",
       "</style>\n",
       "<table border=\"1\" class=\"dataframe\">\n",
       "  <thead>\n",
       "    <tr style=\"text-align: right;\">\n",
       "      <th></th>\n",
       "      <th>x</th>\n",
       "      <th>y</th>\n",
       "    </tr>\n",
       "  </thead>\n",
       "  <tbody>\n",
       "    <tr>\n",
       "      <th>0</th>\n",
       "      <td>20</td>\n",
       "      <td>41</td>\n",
       "    </tr>\n",
       "    <tr>\n",
       "      <th>1</th>\n",
       "      <td>30</td>\n",
       "      <td>63</td>\n",
       "    </tr>\n",
       "    <tr>\n",
       "      <th>2</th>\n",
       "      <td>25</td>\n",
       "      <td>51</td>\n",
       "    </tr>\n",
       "    <tr>\n",
       "      <th>3</th>\n",
       "      <td>17</td>\n",
       "      <td>39</td>\n",
       "    </tr>\n",
       "    <tr>\n",
       "      <th>4</th>\n",
       "      <td>36</td>\n",
       "      <td>78</td>\n",
       "    </tr>\n",
       "  </tbody>\n",
       "</table>\n",
       "</div>"
      ],
      "text/plain": [
       "    x   y\n",
       "0  20  41\n",
       "1  30  63\n",
       "2  25  51\n",
       "3  17  39\n",
       "4  36  78"
      ]
     },
     "execution_count": 3,
     "metadata": {},
     "output_type": "execute_result"
    }
   ],
   "source": [
    "df = pd.DataFrame({'x':x,'y':y})\n",
    "df.head()"
   ]
  },
  {
   "cell_type": "markdown",
   "id": "akjG27A1Oeo1",
   "metadata": {
    "id": "akjG27A1Oeo1"
   },
   "source": [
    "#### General Protocol for a Regression Model - using sklearn\n",
    "1) ML model will not accept any null value<br>\n",
    "2) ML will not accept datatypes other than int or float<br>\n",
    "3) x(independent variable) has to be a DataFrame or a 2D numpy array or a 2D list.<br>\n",
    "4) y(dependent variable) has to be a Series or a 1D numpy array or a 1D list."
   ]
  },
  {
   "cell_type": "code",
   "execution_count": 4,
   "id": "Ig8CFjWTOeo2",
   "metadata": {
    "id": "Ig8CFjWTOeo2",
    "outputId": "39d324a0-5a58-4295-a61f-0c48306aa874"
   },
   "outputs": [
    {
     "data": {
      "text/plain": [
       "(21, 2)"
      ]
     },
     "execution_count": 4,
     "metadata": {},
     "output_type": "execute_result"
    }
   ],
   "source": [
    "df.shape\n",
    "# num of rows=21, num of cols=2"
   ]
  },
  {
   "cell_type": "markdown",
   "id": "0lUmhQoFOeo3",
   "metadata": {
    "id": "0lUmhQoFOeo3"
   },
   "source": [
    "### Handling null values"
   ]
  },
  {
   "cell_type": "code",
   "execution_count": 5,
   "id": "WOxnULBGOeo3",
   "metadata": {
    "id": "WOxnULBGOeo3",
    "outputId": "82cea490-ccbc-40eb-ee8e-f861ad852ab9"
   },
   "outputs": [
    {
     "data": {
      "text/plain": [
       "x    0\n",
       "y    0\n",
       "dtype: int64"
      ]
     },
     "execution_count": 5,
     "metadata": {},
     "output_type": "execute_result"
    }
   ],
   "source": [
    "df.isnull().sum()"
   ]
  },
  {
   "cell_type": "markdown",
   "id": "35JASJ8jOeo4",
   "metadata": {
    "id": "35JASJ8jOeo4"
   },
   "source": [
    "### Checking the data types"
   ]
  },
  {
   "cell_type": "code",
   "execution_count": 6,
   "id": "llI1s14NOeo5",
   "metadata": {
    "id": "llI1s14NOeo5",
    "outputId": "7fdcef83-93d8-4750-d231-3c4d12ba45c2"
   },
   "outputs": [
    {
     "data": {
      "text/plain": [
       "x    int64\n",
       "y    int64\n",
       "dtype: object"
      ]
     },
     "execution_count": 6,
     "metadata": {},
     "output_type": "execute_result"
    }
   ],
   "source": [
    "df.dtypes"
   ]
  },
  {
   "cell_type": "markdown",
   "id": "YYPh4xx_Oeo5",
   "metadata": {
    "id": "YYPh4xx_Oeo5"
   },
   "source": [
    "### Plot of y vs x"
   ]
  },
  {
   "cell_type": "code",
   "execution_count": 7,
   "id": "GDIg9RCjOeo6",
   "metadata": {
    "id": "GDIg9RCjOeo6",
    "outputId": "a5a708cf-33c4-4d2b-f6ba-014d6ad4cac4"
   },
   "outputs": [
    {
     "data": {
      "image/png": "[encoded data removed]",
      "text/plain": [
       "<Figure size 640x480 with 1 Axes>"
      ]
     },
     "metadata": {},
     "output_type": "display_data"
    }
   ],
   "source": [
    "plt.scatter(df['x'],df['y'],color='orange',label='Actual data')\n",
    "plt.title('x vs y - Scatter plot')\n",
    "plt.xlabel('x')\n",
    "plt.ylabel('y')\n",
    "plt.legend()\n",
    "plt.grid()\n",
    "plt.show()"
   ]
  },
  {
   "cell_type": "markdown",
   "id": "S78XGn1lOeo7",
   "metadata": {
    "id": "S78XGn1lOeo7"
   },
   "source": [
    "### Selecting x and y (Independent Feature and Dependent Feature)"
   ]
  },
  {
   "cell_type": "code",
   "execution_count": 8,
   "id": "kw3NetjfOeo8",
   "metadata": {
    "id": "kw3NetjfOeo8",
    "outputId": "b435d69b-829d-406d-aeae-de1793dccf6f"
   },
   "outputs": [
    {
     "name": "stdout",
     "output_type": "stream",
     "text": [
      "<class 'pandas.core.frame.DataFrame'>\n",
      "<class 'pandas.core.series.Series'>\n"
     ]
    }
   ],
   "source": [
    "x = df[['x']]\n",
    "y = df['y']\n",
    "print(type(x))\n",
    "print(type(y))"
   ]
  },
  {
   "cell_type": "code",
   "execution_count": 9,
   "id": "wfUrcYuYOeo9",
   "metadata": {
    "id": "wfUrcYuYOeo9",
    "outputId": "75b75b2c-fd9e-4186-a9fa-5c98597be2b1"
   },
   "outputs": [
    {
     "name": "stdout",
     "output_type": "stream",
     "text": [
      "(21, 1)\n",
      "(21,)\n"
     ]
    }
   ],
   "source": [
    "print(x.shape)\n",
    "print(y.shape)"
   ]
  },
  {
   "cell_type": "code",
   "execution_count": 10,
   "id": "Uds3hMs_Oeo-",
   "metadata": {
    "id": "Uds3hMs_Oeo-",
    "outputId": "8d7fbaa5-b9b8-4a23-9aa3-4953a0995298"
   },
   "outputs": [
    {
     "data": {
      "text/html": [
       "<div>\n",
       "<style scoped>\n",
       "    .dataframe tbody tr th:only-of-type {\n",
       "        vertical-align: middle;\n",
       "    }\n",
       "\n",
       "    .dataframe tbody tr th {\n",
       "        vertical-align: top;\n",
       "    }\n",
       "\n",
       "    .dataframe thead th {\n",
       "        text-align: right;\n",
       "    }\n",
       "</style>\n",
       "<table border=\"1\" class=\"dataframe\">\n",
       "  <thead>\n",
       "    <tr style=\"text-align: right;\">\n",
       "      <th></th>\n",
       "      <th>x</th>\n",
       "    </tr>\n",
       "  </thead>\n",
       "  <tbody>\n",
       "    <tr>\n",
       "      <th>0</th>\n",
       "      <td>20</td>\n",
       "    </tr>\n",
       "    <tr>\n",
       "      <th>1</th>\n",
       "      <td>30</td>\n",
       "    </tr>\n",
       "    <tr>\n",
       "      <th>2</th>\n",
       "      <td>25</td>\n",
       "    </tr>\n",
       "    <tr>\n",
       "      <th>3</th>\n",
       "      <td>17</td>\n",
       "    </tr>\n",
       "    <tr>\n",
       "      <th>4</th>\n",
       "      <td>36</td>\n",
       "    </tr>\n",
       "  </tbody>\n",
       "</table>\n",
       "</div>"
      ],
      "text/plain": [
       "    x\n",
       "0  20\n",
       "1  30\n",
       "2  25\n",
       "3  17\n",
       "4  36"
      ]
     },
     "execution_count": 10,
     "metadata": {},
     "output_type": "execute_result"
    }
   ],
   "source": [
    "x.head()"
   ]
  },
  {
   "cell_type": "code",
   "execution_count": 11,
   "id": "fWRfMCu3Oeo_",
   "metadata": {
    "id": "fWRfMCu3Oeo_",
    "outputId": "06bd1b1d-9867-46fe-ee54-0b36928fd6a2"
   },
   "outputs": [
    {
     "data": {
      "text/plain": [
       "0    41\n",
       "1    63\n",
       "2    51\n",
       "3    39\n",
       "4    78\n",
       "Name: y, dtype: int64"
      ]
     },
     "execution_count": 11,
     "metadata": {},
     "output_type": "execute_result"
    }
   ],
   "source": [
    "y.head()"
   ]
  },
  {
   "cell_type": "markdown",
   "id": "28jDbvOQOepA",
   "metadata": {
    "id": "28jDbvOQOepA"
   },
   "source": [
    "### Model Buidling"
   ]
  },
  {
   "cell_type": "markdown",
   "id": "bIbjRu2jOepB",
   "metadata": {
    "id": "bIbjRu2jOepB"
   },
   "source": [
    "#### 1) Import the LinearRegression from sklearn"
   ]
  },
  {
   "cell_type": "code",
   "execution_count": 12,
   "id": "Px8R5Ns8OepB",
   "metadata": {
    "id": "Px8R5Ns8OepB"
   },
   "outputs": [],
   "source": [
    "from sklearn.linear_model import LinearRegression"
   ]
  },
  {
   "cell_type": "code",
   "execution_count": 13,
   "id": "_aDWIWx6OepC",
   "metadata": {
    "id": "_aDWIWx6OepC",
    "outputId": "2ba65af1-fb6a-4bff-cabd-f254c9fd0912"
   },
   "outputs": [
    {
     "data": {
      "text/html": [
       "<style>#sk-container-id-1 {color: black;background-color: white;}#sk-container-id-1 pre{padding: 0;}#sk-container-id-1 div.sk-toggleable {background-color: white;}#sk-container-id-1 label.sk-toggleable__label {cursor: pointer;display: block;width: 100%;margin-bottom: 0;padding: 0.3em;box-sizing: border-box;text-align: center;}#sk-container-id-1 label.sk-toggleable__label-arrow:before {content: \"▸\";float: left;margin-right: 0.25em;color: #696969;}#sk-container-id-1 label.sk-toggleable__label-arrow:hover:before {color: black;}#sk-container-id-1 div.sk-estimator:hover label.sk-toggleable__label-arrow:before {color: black;}#sk-container-id-1 div.sk-toggleable__content {max-height: 0;max-width: 0;overflow: hidden;text-align: left;background-color: #f0f8ff;}#sk-container-id-1 div.sk-toggleable__content pre {margin: 0.2em;color: black;border-radius: 0.25em;background-color: #f0f8ff;}#sk-container-id-1 input.sk-toggleable__control:checked~div.sk-toggleable__content {max-height: 200px;max-width: 100%;overflow: auto;}#sk-container-id-1 input.sk-toggleable__control:checked~label.sk-toggleable__label-arrow:before {content: \"▾\";}#sk-container-id-1 div.sk-estimator input.sk-toggleable__control:checked~label.sk-toggleable__label {background-color: #d4ebff;}#sk-container-id-1 div.sk-label input.sk-toggleable__control:checked~label.sk-toggleable__label {background-color: #d4ebff;}#sk-container-id-1 input.sk-hidden--visually {border: 0;clip: rect(1px 1px 1px 1px);clip: rect(1px, 1px, 1px, 1px);height: 1px;margin: -1px;overflow: hidden;padding: 0;position: absolute;width: 1px;}#sk-container-id-1 div.sk-estimator {font-family: monospace;background-color: #f0f8ff;border: 1px dotted black;border-radius: 0.25em;box-sizing: border-box;margin-bottom: 0.5em;}#sk-container-id-1 div.sk-estimator:hover {background-color: #d4ebff;}#sk-container-id-1 div.sk-parallel-item::after {content: \"\";width: 100%;border-bottom: 1px solid gray;flex-grow: 1;}#sk-container-id-1 div.sk-label:hover label.sk-toggleable__label {background-color: #d4ebff;}#sk-container-id-1 div.sk-serial::before {content: \"\";position: absolute;border-left: 1px solid gray;box-sizing: border-box;top: 0;bottom: 0;left: 50%;z-index: 0;}#sk-container-id-1 div.sk-serial {display: flex;flex-direction: column;align-items: center;background-color: white;padding-right: 0.2em;padding-left: 0.2em;position: relative;}#sk-container-id-1 div.sk-item {position: relative;z-index: 1;}#sk-container-id-1 div.sk-parallel {display: flex;align-items: stretch;justify-content: center;background-color: white;position: relative;}#sk-container-id-1 div.sk-item::before, #sk-container-id-1 div.sk-parallel-item::before {content: \"\";position: absolute;border-left: 1px solid gray;box-sizing: border-box;top: 0;bottom: 0;left: 50%;z-index: -1;}#sk-container-id-1 div.sk-parallel-item {display: flex;flex-direction: column;z-index: 1;position: relative;background-color: white;}#sk-container-id-1 div.sk-parallel-item:first-child::after {align-self: flex-end;width: 50%;}#sk-container-id-1 div.sk-parallel-item:last-child::after {align-self: flex-start;width: 50%;}#sk-container-id-1 div.sk-parallel-item:only-child::after {width: 0;}#sk-container-id-1 div.sk-dashed-wrapped {border: 1px dashed gray;margin: 0 0.4em 0.5em 0.4em;box-sizing: border-box;padding-bottom: 0.4em;background-color: white;}#sk-container-id-1 div.sk-label label {font-family: monospace;font-weight: bold;display: inline-block;line-height: 1.2em;}#sk-container-id-1 div.sk-label-container {text-align: center;}#sk-container-id-1 div.sk-container {/* jupyter's `normalize.less` sets `[hidden] { display: none; }` but bootstrap.min.css set `[hidden] { display: none !important; }` so we also need the `!important` here to be able to override the default hidden behavior on the sphinx rendered scikit-learn.org. See: https://github.com/scikit-learn/scikit-learn/issues/21755 */display: inline-block !important;position: relative;}#sk-container-id-1 div.sk-text-repr-fallback {display: none;}</style><div id=\"sk-container-id-1\" class=\"sk-top-container\"><div class=\"sk-text-repr-fallback\"><pre>LinearRegression()</pre><b>In a Jupyter environment, please rerun this cell to show the HTML representation or trust the notebook. <br />On GitHub, the HTML representation is unable to render, please try loading this page with nbviewer.org.</b></div><div class=\"sk-container\" hidden><div class=\"sk-item\"><div class=\"sk-estimator sk-toggleable\"><input class=\"sk-toggleable__control sk-hidden--visually\" id=\"sk-estimator-id-1\" type=\"checkbox\" checked><label for=\"sk-estimator-id-1\" class=\"sk-toggleable__label sk-toggleable__label-arrow\">LinearRegression</label><div class=\"sk-toggleable__content\"><pre>LinearRegression()</pre></div></div></div></div></div>"
      ],
      "text/plain": [
       "LinearRegression()"
      ]
     },
     "execution_count": 13,
     "metadata": {},
     "output_type": "execute_result"
    }
   ],
   "source": [
    "model = LinearRegression()\n",
    "model.fit(x,y)\n",
    "\n",
    "# model.fit(x,y) - ML model is getting trained on the (x,y) data"
   ]
  },
  {
   "cell_type": "code",
   "execution_count": 14,
   "id": "JJ45TywYOepC",
   "metadata": {
    "id": "JJ45TywYOepC",
    "outputId": "b5ea1100-3380-431d-cc5d-d6c3f98aad13"
   },
   "outputs": [
    {
     "name": "stdout",
     "output_type": "stream",
     "text": [
      "<class 'pandas.core.frame.DataFrame'>\n"
     ]
    }
   ],
   "source": [
    "print(type(x))"
   ]
  },
  {
   "cell_type": "markdown",
   "id": "-VG_MQ5UOepD",
   "metadata": {
    "id": "-VG_MQ5UOepD"
   },
   "source": [
    "#### 2) Generate the predictions"
   ]
  },
  {
   "cell_type": "code",
   "execution_count": 15,
   "id": "a46k3GUfOepD",
   "metadata": {
    "id": "a46k3GUfOepD",
    "outputId": "0e3ea707-2e43-40da-9ae9-c79936aca3c5"
   },
   "outputs": [
    {
     "name": "stdout",
     "output_type": "stream",
     "text": [
      "[ 46.76135555  62.86174     54.81154777  41.93124021  72.52197067\n",
      "  78.96212445  88.62235512 103.11270112  98.28258579  58.03162466\n",
      "  95.0625089   67.69185533  82.18220134  48.37139399  91.84243201\n",
      "  74.13200911  51.59147088  67.69185533  37.10112488  45.1513171\n",
      "  98.28258579]\n"
     ]
    }
   ],
   "source": [
    "ypred = model.predict(x)\n",
    "print(ypred)"
   ]
  },
  {
   "cell_type": "code",
   "execution_count": 16,
   "id": "gM2rJ2fJOepD",
   "metadata": {
    "id": "gM2rJ2fJOepD",
    "outputId": "974d8944-076b-4fcd-a12f-244fd31f875d"
   },
   "outputs": [
    {
     "data": {
      "text/html": [
       "<div>\n",
       "<style scoped>\n",
       "    .dataframe tbody tr th:only-of-type {\n",
       "        vertical-align: middle;\n",
       "    }\n",
       "\n",
       "    .dataframe tbody tr th {\n",
       "        vertical-align: top;\n",
       "    }\n",
       "\n",
       "    .dataframe thead th {\n",
       "        text-align: right;\n",
       "    }\n",
       "</style>\n",
       "<table border=\"1\" class=\"dataframe\">\n",
       "  <thead>\n",
       "    <tr style=\"text-align: right;\">\n",
       "      <th></th>\n",
       "      <th>x</th>\n",
       "      <th>y</th>\n",
       "      <th>y_pred</th>\n",
       "    </tr>\n",
       "  </thead>\n",
       "  <tbody>\n",
       "    <tr>\n",
       "      <th>0</th>\n",
       "      <td>20</td>\n",
       "      <td>41</td>\n",
       "      <td>46.761356</td>\n",
       "    </tr>\n",
       "    <tr>\n",
       "      <th>1</th>\n",
       "      <td>30</td>\n",
       "      <td>63</td>\n",
       "      <td>62.861740</td>\n",
       "    </tr>\n",
       "    <tr>\n",
       "      <th>2</th>\n",
       "      <td>25</td>\n",
       "      <td>51</td>\n",
       "      <td>54.811548</td>\n",
       "    </tr>\n",
       "    <tr>\n",
       "      <th>3</th>\n",
       "      <td>17</td>\n",
       "      <td>39</td>\n",
       "      <td>41.931240</td>\n",
       "    </tr>\n",
       "    <tr>\n",
       "      <th>4</th>\n",
       "      <td>36</td>\n",
       "      <td>78</td>\n",
       "      <td>72.521971</td>\n",
       "    </tr>\n",
       "  </tbody>\n",
       "</table>\n",
       "</div>"
      ],
      "text/plain": [
       "    x   y     y_pred\n",
       "0  20  41  46.761356\n",
       "1  30  63  62.861740\n",
       "2  25  51  54.811548\n",
       "3  17  39  41.931240\n",
       "4  36  78  72.521971"
      ]
     },
     "execution_count": 16,
     "metadata": {},
     "output_type": "execute_result"
    }
   ],
   "source": [
    "df['y_pred'] = ypred\n",
    "df.head()"
   ]
  },
  {
   "cell_type": "markdown",
   "id": "IF4-UQb7OepE",
   "metadata": {
    "id": "IF4-UQb7OepE"
   },
   "source": [
    "#### 3) Compute Model Score(R2_score for Regression)"
   ]
  },
  {
   "cell_type": "code",
   "execution_count": 17,
   "id": "oasvUDXlOepE",
   "metadata": {
    "id": "oasvUDXlOepE",
    "outputId": "7a328e89-2950-4725-debd-930e701e9b1c"
   },
   "outputs": [
    {
     "name": "stdout",
     "output_type": "stream",
     "text": [
      "Model_Score 0.9656182816033277\n"
     ]
    }
   ],
   "source": [
    "# For Regression models, model.score(), returns R2_Score\n",
    "print('Model_Score',model.score(x,y))"
   ]
  },
  {
   "cell_type": "markdown",
   "id": "xo8kaopKOepF",
   "metadata": {
    "id": "xo8kaopKOepF"
   },
   "source": [
    "#### 4) Compute m(coefficient or slope) and c(intercept) values"
   ]
  },
  {
   "cell_type": "code",
   "execution_count": 18,
   "id": "dv1byf3QOepF",
   "metadata": {
    "id": "dv1byf3QOepF",
    "outputId": "7347fcae-1afa-4edb-b8b7-3ad2365f6b2c"
   },
   "outputs": [
    {
     "name": "stdout",
     "output_type": "stream",
     "text": [
      "Coefficient or Slope [1.61003845]\n",
      "Intercept or Constant 14.560586643884356\n"
     ]
    }
   ],
   "source": [
    "# Y_pred = mx + c\n",
    "m = model.coef_\n",
    "c = model.intercept_\n",
    "print('Coefficient or Slope',m)\n",
    "print('Intercept or Constant',c)"
   ]
  },
  {
   "cell_type": "markdown",
   "id": "bcawfKH9OepG",
   "metadata": {
    "id": "bcawfKH9OepG"
   },
   "source": [
    "#### Equation fo Linear Regression : ypred = mx + c"
   ]
  },
  {
   "cell_type": "code",
   "execution_count": 19,
   "id": "mEnDLeunOepG",
   "metadata": {
    "id": "mEnDLeunOepG",
    "outputId": "78232c88-b54b-4727-a073-084746dab356"
   },
   "outputs": [
    {
     "data": {
      "text/html": [
       "<div>\n",
       "<style scoped>\n",
       "    .dataframe tbody tr th:only-of-type {\n",
       "        vertical-align: middle;\n",
       "    }\n",
       "\n",
       "    .dataframe tbody tr th {\n",
       "        vertical-align: top;\n",
       "    }\n",
       "\n",
       "    .dataframe thead th {\n",
       "        text-align: right;\n",
       "    }\n",
       "</style>\n",
       "<table border=\"1\" class=\"dataframe\">\n",
       "  <thead>\n",
       "    <tr style=\"text-align: right;\">\n",
       "      <th></th>\n",
       "      <th>x</th>\n",
       "      <th>y</th>\n",
       "      <th>y_pred</th>\n",
       "      <th>y_pred_eqn</th>\n",
       "    </tr>\n",
       "  </thead>\n",
       "  <tbody>\n",
       "    <tr>\n",
       "      <th>0</th>\n",
       "      <td>20</td>\n",
       "      <td>41</td>\n",
       "      <td>46.761356</td>\n",
       "      <td>46.761356</td>\n",
       "    </tr>\n",
       "    <tr>\n",
       "      <th>1</th>\n",
       "      <td>30</td>\n",
       "      <td>63</td>\n",
       "      <td>62.861740</td>\n",
       "      <td>62.861740</td>\n",
       "    </tr>\n",
       "    <tr>\n",
       "      <th>2</th>\n",
       "      <td>25</td>\n",
       "      <td>51</td>\n",
       "      <td>54.811548</td>\n",
       "      <td>54.811548</td>\n",
       "    </tr>\n",
       "    <tr>\n",
       "      <th>3</th>\n",
       "      <td>17</td>\n",
       "      <td>39</td>\n",
       "      <td>41.931240</td>\n",
       "      <td>41.931240</td>\n",
       "    </tr>\n",
       "    <tr>\n",
       "      <th>4</th>\n",
       "      <td>36</td>\n",
       "      <td>78</td>\n",
       "      <td>72.521971</td>\n",
       "      <td>72.521971</td>\n",
       "    </tr>\n",
       "  </tbody>\n",
       "</table>\n",
       "</div>"
      ],
      "text/plain": [
       "    x   y     y_pred  y_pred_eqn\n",
       "0  20  41  46.761356   46.761356\n",
       "1  30  63  62.861740   62.861740\n",
       "2  25  51  54.811548   54.811548\n",
       "3  17  39  41.931240   41.931240\n",
       "4  36  78  72.521971   72.521971"
      ]
     },
     "execution_count": 19,
     "metadata": {},
     "output_type": "execute_result"
    }
   ],
   "source": [
    "# Y_pred = mx + c\n",
    "df['y_pred_eqn'] = m*df['x'] + c\n",
    "df.head()"
   ]
  },
  {
   "cell_type": "code",
   "execution_count": 20,
   "id": "EC5cHkpoOepH",
   "metadata": {
    "id": "EC5cHkpoOepH",
    "outputId": "ac518477-9143-415d-b34c-f743445bd450"
   },
   "outputs": [
    {
     "data": {
      "image/png": "[encoded data removed]",
      "text/plain": [
       "<Figure size 640x480 with 1 Axes>"
      ]
     },
     "metadata": {},
     "output_type": "display_data"
    }
   ],
   "source": [
    "plt.scatter(df['x'],df['y'],label='Actual Data')\n",
    "plt.plot(df['x'],df['y_pred'],color='maroon',label='Predicted Line')\n",
    "plt.xlabel('x')\n",
    "plt.ylabel('y')\n",
    "plt.grid()\n",
    "plt.legend()\n",
    "plt.show()"
   ]
  },
  {
   "cell_type": "code",
   "execution_count": 21,
   "id": "3wytkoelOepH",
   "metadata": {
    "id": "3wytkoelOepH",
    "outputId": "144ead68-c3f2-45dc-b7e8-2fe5adf8cc3d"
   },
   "outputs": [
    {
     "data": {
      "text/html": [
       "<div>\n",
       "<style scoped>\n",
       "    .dataframe tbody tr th:only-of-type {\n",
       "        vertical-align: middle;\n",
       "    }\n",
       "\n",
       "    .dataframe tbody tr th {\n",
       "        vertical-align: top;\n",
       "    }\n",
       "\n",
       "    .dataframe thead th {\n",
       "        text-align: right;\n",
       "    }\n",
       "</style>\n",
       "<table border=\"1\" class=\"dataframe\">\n",
       "  <thead>\n",
       "    <tr style=\"text-align: right;\">\n",
       "      <th></th>\n",
       "      <th>x</th>\n",
       "      <th>y</th>\n",
       "      <th>y_pred</th>\n",
       "      <th>y_pred_eqn</th>\n",
       "    </tr>\n",
       "  </thead>\n",
       "  <tbody>\n",
       "    <tr>\n",
       "      <th>0</th>\n",
       "      <td>20</td>\n",
       "      <td>41</td>\n",
       "      <td>46.761356</td>\n",
       "      <td>46.761356</td>\n",
       "    </tr>\n",
       "    <tr>\n",
       "      <th>1</th>\n",
       "      <td>30</td>\n",
       "      <td>63</td>\n",
       "      <td>62.861740</td>\n",
       "      <td>62.861740</td>\n",
       "    </tr>\n",
       "    <tr>\n",
       "      <th>2</th>\n",
       "      <td>25</td>\n",
       "      <td>51</td>\n",
       "      <td>54.811548</td>\n",
       "      <td>54.811548</td>\n",
       "    </tr>\n",
       "    <tr>\n",
       "      <th>3</th>\n",
       "      <td>17</td>\n",
       "      <td>39</td>\n",
       "      <td>41.931240</td>\n",
       "      <td>41.931240</td>\n",
       "    </tr>\n",
       "    <tr>\n",
       "      <th>4</th>\n",
       "      <td>36</td>\n",
       "      <td>78</td>\n",
       "      <td>72.521971</td>\n",
       "      <td>72.521971</td>\n",
       "    </tr>\n",
       "  </tbody>\n",
       "</table>\n",
       "</div>"
      ],
      "text/plain": [
       "    x   y     y_pred  y_pred_eqn\n",
       "0  20  41  46.761356   46.761356\n",
       "1  30  63  62.861740   62.861740\n",
       "2  25  51  54.811548   54.811548\n",
       "3  17  39  41.931240   41.931240\n",
       "4  36  78  72.521971   72.521971"
      ]
     },
     "execution_count": 21,
     "metadata": {},
     "output_type": "execute_result"
    }
   ],
   "source": [
    "df.head()"
   ]
  },
  {
   "cell_type": "markdown",
   "id": "ir2zPiKYOepH",
   "metadata": {
    "id": "ir2zPiKYOepH"
   },
   "source": [
    "### Compute Evaluation Metrics for Regression\n",
    "\n",
    "SSE = sum((yi - ypredi)^2)<br>\n",
    "SSR = sum((ypredi - y_avg)^2)<br>\n",
    "SST = SSR + SSE<br>"
   ]
  },
  {
   "cell_type": "code",
   "execution_count": 22,
   "id": "hJNfZXSPOepI",
   "metadata": {
    "id": "hJNfZXSPOepI",
    "outputId": "772dcab6-2db8-4e78-c802-48bdc76d68ae"
   },
   "outputs": [
    {
     "data": {
      "text/html": [
       "<div>\n",
       "<style scoped>\n",
       "    .dataframe tbody tr th:only-of-type {\n",
       "        vertical-align: middle;\n",
       "    }\n",
       "\n",
       "    .dataframe tbody tr th {\n",
       "        vertical-align: top;\n",
       "    }\n",
       "\n",
       "    .dataframe thead th {\n",
       "        text-align: right;\n",
       "    }\n",
       "</style>\n",
       "<table border=\"1\" class=\"dataframe\">\n",
       "  <thead>\n",
       "    <tr style=\"text-align: right;\">\n",
       "      <th></th>\n",
       "      <th>x</th>\n",
       "      <th>y</th>\n",
       "      <th>y_pred</th>\n",
       "      <th>y_pred_eqn</th>\n",
       "      <th>y_avg</th>\n",
       "      <th>SSE</th>\n",
       "      <th>SSR</th>\n",
       "    </tr>\n",
       "  </thead>\n",
       "  <tbody>\n",
       "    <tr>\n",
       "      <th>0</th>\n",
       "      <td>20</td>\n",
       "      <td>41</td>\n",
       "      <td>46.761356</td>\n",
       "      <td>46.761356</td>\n",
       "      <td>69.761905</td>\n",
       "      <td>33.193218</td>\n",
       "      <td>529.025264</td>\n",
       "    </tr>\n",
       "    <tr>\n",
       "      <th>1</th>\n",
       "      <td>30</td>\n",
       "      <td>63</td>\n",
       "      <td>62.861740</td>\n",
       "      <td>62.861740</td>\n",
       "      <td>69.761905</td>\n",
       "      <td>0.019116</td>\n",
       "      <td>47.612274</td>\n",
       "    </tr>\n",
       "    <tr>\n",
       "      <th>2</th>\n",
       "      <td>25</td>\n",
       "      <td>51</td>\n",
       "      <td>54.811548</td>\n",
       "      <td>54.811548</td>\n",
       "      <td>69.761905</td>\n",
       "      <td>14.527896</td>\n",
       "      <td>223.513174</td>\n",
       "    </tr>\n",
       "    <tr>\n",
       "      <th>3</th>\n",
       "      <td>17</td>\n",
       "      <td>39</td>\n",
       "      <td>41.931240</td>\n",
       "      <td>41.931240</td>\n",
       "      <td>69.761905</td>\n",
       "      <td>8.592169</td>\n",
       "      <td>774.545889</td>\n",
       "    </tr>\n",
       "    <tr>\n",
       "      <th>4</th>\n",
       "      <td>36</td>\n",
       "      <td>78</td>\n",
       "      <td>72.521971</td>\n",
       "      <td>72.521971</td>\n",
       "      <td>69.761905</td>\n",
       "      <td>30.008805</td>\n",
       "      <td>7.617964</td>\n",
       "    </tr>\n",
       "  </tbody>\n",
       "</table>\n",
       "</div>"
      ],
      "text/plain": [
       "    x   y     y_pred  y_pred_eqn      y_avg        SSE         SSR\n",
       "0  20  41  46.761356   46.761356  69.761905  33.193218  529.025264\n",
       "1  30  63  62.861740   62.861740  69.761905   0.019116   47.612274\n",
       "2  25  51  54.811548   54.811548  69.761905  14.527896  223.513174\n",
       "3  17  39  41.931240   41.931240  69.761905   8.592169  774.545889\n",
       "4  36  78  72.521971   72.521971  69.761905  30.008805    7.617964"
      ]
     },
     "execution_count": 22,
     "metadata": {},
     "output_type": "execute_result"
    }
   ],
   "source": [
    "df['y_avg'] = df['y'].mean()\n",
    "df['SSE'] = (df['y'] - df['y_pred'])**2      # SSE = sum of squared Error\n",
    "df['SSR'] = (df['y_pred'] - df['y_avg'])**2  # SSR = Regression sum of square \n",
    "df.head()"
   ]
  },
  {
   "cell_type": "markdown",
   "id": "ipLtOgAKOepI",
   "metadata": {
    "id": "ipLtOgAKOepI"
   },
   "source": [
    "#### Regression Metrics\n",
    "MSE = mean(SSE)<br>\n",
    "RMSE = sqrt(MSE)<br>\n",
    "MAE = mean(|yi - ypred|)<br>\n",
    "R2_Score = 1 - (SSE/SST)"
   ]
  },
  {
   "cell_type": "code",
   "execution_count": 23,
   "id": "tMMwrdDGOepI",
   "metadata": {
    "id": "tMMwrdDGOepI",
    "outputId": "bbae499c-6aa5-4fc5-e845-fc511161f3e3"
   },
   "outputs": [
    {
     "name": "stdout",
     "output_type": "stream",
     "text": [
      "SST 8977.80952380953\n",
      "MAE 3.3830095672043563\n",
      "MSE 14.698691374599107\n",
      "RMSE 3.833887240725672\n",
      "R2_score 0.9656182816033277\n",
      "Model_Score 0.9656182816033277\n"
     ]
    }
   ],
   "source": [
    "sst = df['SSE'].sum() + df['SSR'].sum()\n",
    "print('SST',sst)\n",
    "mse  =  df['SSE'].mean()\n",
    "mae = abs(df['y'] - df['y_pred']).mean()\n",
    "r2_score = 1 - df['SSE'].sum()/sst\n",
    "print('MAE',mae)\n",
    "print('MSE',mse)\n",
    "print('RMSE',np.sqrt(mse))\n",
    "print('R2_score',r2_score)\n",
    "print('Model_Score',model.score(x,y))"
   ]
  },
  {
   "cell_type": "code",
   "execution_count": 24,
   "id": "D2mXIY0fOepJ",
   "metadata": {
    "id": "D2mXIY0fOepJ"
   },
   "outputs": [],
   "source": [
    "from sklearn.metrics import mean_squared_error,mean_absolute_error,r2_score"
   ]
  },
  {
   "cell_type": "code",
   "execution_count": 25,
   "id": "MGjCSeDMOepJ",
   "metadata": {
    "id": "MGjCSeDMOepJ",
    "outputId": "5ad9a3db-6dd7-409b-f864-418670db5ed4"
   },
   "outputs": [
    {
     "name": "stdout",
     "output_type": "stream",
     "text": [
      "MAE 3.3830095672043563\n",
      "MSE 14.698691374599107\n",
      "RMSE 3.833887240725672\n",
      "R2_score 0.9656182816033277\n",
      "Model_Score 0.9656182816033277\n"
     ]
    }
   ],
   "source": [
    "mae = mean_absolute_error(y,ypred)\n",
    "mse = mean_squared_error(y,ypred)\n",
    "rmse = np.sqrt(mean_squared_error(y,ypred))\n",
    "r2s = r2_score(y,ypred)\n",
    "print('MAE',mae)\n",
    "print('MSE',mse)\n",
    "print('RMSE',rmse)\n",
    "print('R2_score',r2s)\n",
    "print('Model_Score',model.score(x,y))"
   ]
  },
  {
   "cell_type": "markdown",
   "id": "XDmJwiHEOepK",
   "metadata": {
    "id": "XDmJwiHEOepK"
   },
   "source": [
    "#### Predictions for a specific value using LinReg Model"
   ]
  },
  {
   "cell_type": "code",
   "execution_count": 26,
   "id": "She95cYLOepK",
   "metadata": {
    "id": "She95cYLOepK",
    "outputId": "2c8d416c-cb8f-419d-f90c-9d5d733f07d1"
   },
   "outputs": [
    {
     "name": "stdout",
     "output_type": "stream",
     "text": [
      "[1.61003845] 14.560586643884356\n"
     ]
    }
   ],
   "source": [
    "print(m,c)"
   ]
  },
  {
   "cell_type": "markdown",
   "id": "yMI0DUGoOepL",
   "metadata": {
    "id": "yMI0DUGoOepL"
   },
   "source": [
    "#### Predictions for single value\n",
    "Predict y for x = 57"
   ]
  },
  {
   "cell_type": "code",
   "execution_count": 27,
   "id": "Qyhjmif2OepL",
   "metadata": {
    "id": "Qyhjmif2OepL",
    "outputId": "a93ebfd4-4e63-451d-b70a-c80b2f8e7196"
   },
   "outputs": [
    {
     "name": "stdout",
     "output_type": "stream",
     "text": [
      "[106.33277802]\n",
      "[106.33277802]\n"
     ]
    },
    {
     "name": "stderr",
     "output_type": "stream",
     "text": [
      "C:\\Users\\HP\\anaconda3\\lib\\site-packages\\sklearn\\base.py:450: UserWarning: X does not have valid feature names, but LinearRegression was fitted with feature names\n",
      "  warnings.warn(\n"
     ]
    }
   ],
   "source": [
    "ypred57_m1 = model.predict([[57]])\n",
    "print(ypred57_m1)\n",
    "ypred57_m2 = m*57 + c\n",
    "print(ypred57_m2)"
   ]
  }
 ],
 "metadata": {
  "colab": {
   "provenance": []
  },
  "kernelspec": {
   "display_name": "Python 3 (ipykernel)",
   "language": "python",
   "name": "python3"
  },
  "language_info": {
   "codemirror_mode": {
    "name": "ipython",
    "version": 3
   },
   "file_extension": ".py",
   "mimetype": "text/x-python",
   "name": "python",
   "nbconvert_exporter": "python",
   "pygments_lexer": "ipython3",
   "version": "3.9.7"
  }
 },
 "nbformat": 4,
 "nbformat_minor": 5
}
