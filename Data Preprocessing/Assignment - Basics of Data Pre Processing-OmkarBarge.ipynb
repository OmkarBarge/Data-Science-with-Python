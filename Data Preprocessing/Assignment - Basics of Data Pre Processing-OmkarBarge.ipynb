{
  "cells": [
    {
      "cell_type": "code",
      "execution_count": 2,
      "metadata": {
        "id": "HUe7bb8o94dK"
      },
      "outputs": [],
      "source": [
        "import numpy as np\n",
        "import matplotlib.pyplot as plt\n",
        "import pandas as pd\n"
      ]
    },
    {
      "cell_type": "code",
      "execution_count": 5,
      "metadata": {
        "id": "ek6M1zPS94dM"
      },
      "outputs": [],
      "source": [
        "# Loading the Dataset\n",
        "df = pd.read_csv(\"/content/Swiggy_Dataset.csv\", encoding='latin-1')"
      ]
    },
    {
      "cell_type": "code",
      "execution_count": 6,
      "metadata": {
        "colab": {
          "base_uri": "https://localhost:8080/",
          "height": 320
        },
        "id": "4st4NQnv94dO",
        "outputId": "6994337f-2d05-49a9-f44d-199cf6678202"
      },
      "outputs": [
        {
          "output_type": "execute_result",
          "data": {
            "text/plain": [
              "                    Restaurant Name       City                     Locality  \\\n",
              "0                  Sultans of Spice  Bangalore  BluPetal Hotel, Koramangala   \n",
              "1  The Fatty Bao - Asian Gastro Bar  Bangalore                  Indiranagar   \n",
              "2                              Toit  Bangalore                  Indiranagar   \n",
              "3               Three Dots & A Dash  Bangalore                  Indiranagar   \n",
              "4                  Bombay Brasserie  Bangalore                  Indiranagar   \n",
              "\n",
              "        Cuisines  Average Cost for two Has Table booking Has Online delivery  \\\n",
              "0   North Indian                  1300               Yes                 Yes   \n",
              "1          Asian                  2400               Yes                 Yes   \n",
              "2        Italian                  2000                No                  No   \n",
              "3       European                  1300               Yes                  No   \n",
              "4  Modern Indian                  1500                No                 Yes   \n",
              "\n",
              "    Rating Stars out of 5 Rating in text  Price range  Votes  \n",
              "0                     4.1      Very Good            3    314  \n",
              "1                     4.7      Excellent            4    591  \n",
              "2                     4.8      Excellent            4    270  \n",
              "3                     3.9           Good            3    365  \n",
              "4                     4.2      Very Good            3    229  "
            ],
            "text/html": [
              "\n",
              "  <div id=\"df-a61edb0c-ef6b-47b8-9860-ab06c5028ab8\">\n",
              "    <div class=\"colab-df-container\">\n",
              "      <div>\n",
              "<style scoped>\n",
              "    .dataframe tbody tr th:only-of-type {\n",
              "        vertical-align: middle;\n",
              "    }\n",
              "\n",
              "    .dataframe tbody tr th {\n",
              "        vertical-align: top;\n",
              "    }\n",
              "\n",
              "    .dataframe thead th {\n",
              "        text-align: right;\n",
              "    }\n",
              "</style>\n",
              "<table border=\"1\" class=\"dataframe\">\n",
              "  <thead>\n",
              "    <tr style=\"text-align: right;\">\n",
              "      <th></th>\n",
              "      <th>Restaurant Name</th>\n",
              "      <th>City</th>\n",
              "      <th>Locality</th>\n",
              "      <th>Cuisines</th>\n",
              "      <th>Average Cost for two</th>\n",
              "      <th>Has Table booking</th>\n",
              "      <th>Has Online delivery</th>\n",
              "      <th>Rating Stars out of 5</th>\n",
              "      <th>Rating in text</th>\n",
              "      <th>Price range</th>\n",
              "      <th>Votes</th>\n",
              "    </tr>\n",
              "  </thead>\n",
              "  <tbody>\n",
              "    <tr>\n",
              "      <th>0</th>\n",
              "      <td>Sultans of Spice</td>\n",
              "      <td>Bangalore</td>\n",
              "      <td>BluPetal Hotel, Koramangala</td>\n",
              "      <td>North Indian</td>\n",
              "      <td>1300</td>\n",
              "      <td>Yes</td>\n",
              "      <td>Yes</td>\n",
              "      <td>4.1</td>\n",
              "      <td>Very Good</td>\n",
              "      <td>3</td>\n",
              "      <td>314</td>\n",
              "    </tr>\n",
              "    <tr>\n",
              "      <th>1</th>\n",
              "      <td>The Fatty Bao - Asian Gastro Bar</td>\n",
              "      <td>Bangalore</td>\n",
              "      <td>Indiranagar</td>\n",
              "      <td>Asian</td>\n",
              "      <td>2400</td>\n",
              "      <td>Yes</td>\n",
              "      <td>Yes</td>\n",
              "      <td>4.7</td>\n",
              "      <td>Excellent</td>\n",
              "      <td>4</td>\n",
              "      <td>591</td>\n",
              "    </tr>\n",
              "    <tr>\n",
              "      <th>2</th>\n",
              "      <td>Toit</td>\n",
              "      <td>Bangalore</td>\n",
              "      <td>Indiranagar</td>\n",
              "      <td>Italian</td>\n",
              "      <td>2000</td>\n",
              "      <td>No</td>\n",
              "      <td>No</td>\n",
              "      <td>4.8</td>\n",
              "      <td>Excellent</td>\n",
              "      <td>4</td>\n",
              "      <td>270</td>\n",
              "    </tr>\n",
              "    <tr>\n",
              "      <th>3</th>\n",
              "      <td>Three Dots &amp; A Dash</td>\n",
              "      <td>Bangalore</td>\n",
              "      <td>Indiranagar</td>\n",
              "      <td>European</td>\n",
              "      <td>1300</td>\n",
              "      <td>Yes</td>\n",
              "      <td>No</td>\n",
              "      <td>3.9</td>\n",
              "      <td>Good</td>\n",
              "      <td>3</td>\n",
              "      <td>365</td>\n",
              "    </tr>\n",
              "    <tr>\n",
              "      <th>4</th>\n",
              "      <td>Bombay Brasserie</td>\n",
              "      <td>Bangalore</td>\n",
              "      <td>Indiranagar</td>\n",
              "      <td>Modern Indian</td>\n",
              "      <td>1500</td>\n",
              "      <td>No</td>\n",
              "      <td>Yes</td>\n",
              "      <td>4.2</td>\n",
              "      <td>Very Good</td>\n",
              "      <td>3</td>\n",
              "      <td>229</td>\n",
              "    </tr>\n",
              "  </tbody>\n",
              "</table>\n",
              "</div>\n",
              "      <button class=\"colab-df-convert\" onclick=\"convertToInteractive('df-a61edb0c-ef6b-47b8-9860-ab06c5028ab8')\"\n",
              "              title=\"Convert this dataframe to an interactive table.\"\n",
              "              style=\"display:none;\">\n",
              "        \n",
              "  <svg xmlns=\"http://www.w3.org/2000/svg\" height=\"24px\"viewBox=\"0 0 24 24\"\n",
              "       width=\"24px\">\n",
              "    <path d=\"M0 0h24v24H0V0z\" fill=\"none\"/>\n",
              "    <path d=\"M18.56 5.44l.94 2.06.94-2.06 2.06-.94-2.06-.94-.94-2.06-.94 2.06-2.06.94zm-11 1L8.5 8.5l.94-2.06 2.06-.94-2.06-.94L8.5 2.5l-.94 2.06-2.06.94zm10 10l.94 2.06.94-2.06 2.06-.94-2.06-.94-.94-2.06-.94 2.06-2.06.94z\"/><path d=\"M17.41 7.96l-1.37-1.37c-.4-.4-.92-.59-1.43-.59-.52 0-1.04.2-1.43.59L10.3 9.45l-7.72 7.72c-.78.78-.78 2.05 0 2.83L4 21.41c.39.39.9.59 1.41.59.51 0 1.02-.2 1.41-.59l7.78-7.78 2.81-2.81c.8-.78.8-2.07 0-2.86zM5.41 20L4 18.59l7.72-7.72 1.47 1.35L5.41 20z\"/>\n",
              "  </svg>\n",
              "      </button>\n",
              "      \n",
              "  <style>\n",
              "    .colab-df-container {\n",
              "      display:flex;\n",
              "      flex-wrap:wrap;\n",
              "      gap: 12px;\n",
              "    }\n",
              "\n",
              "    .colab-df-convert {\n",
              "      background-color: #E8F0FE;\n",
              "      border: none;\n",
              "      border-radius: 50%;\n",
              "      cursor: pointer;\n",
              "      display: none;\n",
              "      fill: #1967D2;\n",
              "      height: 32px;\n",
              "      padding: 0 0 0 0;\n",
              "      width: 32px;\n",
              "    }\n",
              "\n",
              "    .colab-df-convert:hover {\n",
              "      background-color: #E2EBFA;\n",
              "      box-shadow: 0px 1px 2px rgba(60, 64, 67, 0.3), 0px 1px 3px 1px rgba(60, 64, 67, 0.15);\n",
              "      fill: #174EA6;\n",
              "    }\n",
              "\n",
              "    [theme=dark] .colab-df-convert {\n",
              "      background-color: #3B4455;\n",
              "      fill: #D2E3FC;\n",
              "    }\n",
              "\n",
              "    [theme=dark] .colab-df-convert:hover {\n",
              "      background-color: #434B5C;\n",
              "      box-shadow: 0px 1px 3px 1px rgba(0, 0, 0, 0.15);\n",
              "      filter: drop-shadow(0px 1px 2px rgba(0, 0, 0, 0.3));\n",
              "      fill: #FFFFFF;\n",
              "    }\n",
              "  </style>\n",
              "\n",
              "      <script>\n",
              "        const buttonEl =\n",
              "          document.querySelector('#df-a61edb0c-ef6b-47b8-9860-ab06c5028ab8 button.colab-df-convert');\n",
              "        buttonEl.style.display =\n",
              "          google.colab.kernel.accessAllowed ? 'block' : 'none';\n",
              "\n",
              "        async function convertToInteractive(key) {\n",
              "          const element = document.querySelector('#df-a61edb0c-ef6b-47b8-9860-ab06c5028ab8');\n",
              "          const dataTable =\n",
              "            await google.colab.kernel.invokeFunction('convertToInteractive',\n",
              "                                                     [key], {});\n",
              "          if (!dataTable) return;\n",
              "\n",
              "          const docLinkHtml = 'Like what you see? Visit the ' +\n",
              "            '<a target=\"_blank\" href=https://colab.research.google.com/notebooks/data_table.ipynb>data table notebook</a>'\n",
              "            + ' to learn more about interactive tables.';\n",
              "          element.innerHTML = '';\n",
              "          dataTable['output_type'] = 'display_data';\n",
              "          await google.colab.output.renderOutput(dataTable, element);\n",
              "          const docLink = document.createElement('div');\n",
              "          docLink.innerHTML = docLinkHtml;\n",
              "          element.appendChild(docLink);\n",
              "        }\n",
              "      </script>\n",
              "    </div>\n",
              "  </div>\n",
              "  "
            ]
          },
          "metadata": {},
          "execution_count": 6
        }
      ],
      "source": [
        "df.head()"
      ]
    },
    {
      "cell_type": "code",
      "execution_count": 7,
      "metadata": {
        "colab": {
          "base_uri": "https://localhost:8080/"
        },
        "id": "3Xkk0sMC94dQ",
        "outputId": "b94378bf-1269-4bf2-943b-48954b0fe0b7"
      },
      "outputs": [
        {
          "output_type": "execute_result",
          "data": {
            "text/plain": [
              "array(['Bangalore', 'Chandigarh', 'Chennai', 'Goa', 'Guwahati',\n",
              "       'Hyderabad', 'Jaipur', 'Kolkata', 'Lucknow', 'Mumbai', 'Patna',\n",
              "       'Pune', 'Surat'], dtype=object)"
            ]
          },
          "metadata": {},
          "execution_count": 7
        }
      ],
      "source": [
        "df['City'].unique()"
      ]
    },
    {
      "cell_type": "code",
      "execution_count": 8,
      "metadata": {
        "colab": {
          "base_uri": "https://localhost:8080/"
        },
        "id": "O5gRxdNt94dR",
        "outputId": "2188bea7-5089-400b-cad1-3a5a4eae8667"
      },
      "outputs": [
        {
          "output_type": "execute_result",
          "data": {
            "text/plain": [
              "array(['BluPetal Hotel, Koramangala', 'Indiranagar', 'JP Nagar',\n",
              "       'Koramangala 5th Block', 'Koramangala 6th Block',\n",
              "       'Koramangala 7th Block', 'Marathahalli', 'New BEL Road',\n",
              "       'Residency Road', 'Sarjapur Road', 'UB City',\n",
              "       'Chandigarh Industrial Area',\n",
              "       'Elante Mall, Chandigarh Industrial Area', 'Sector 26',\n",
              "       'Sector 28', 'Sector 35', 'Sector 7', 'Sector 8', 'Adyar',\n",
              "       'Anna Nagar East', 'Ashok Nagar',\n",
              "       'Express Avenue Mall,  Royapettah', 'Gopalapuram', 'Kilpauk',\n",
              "       'Kotturpuram', 'Mylapore', 'Nungambakkam', 'Perungudi', 'RA Puram',\n",
              "       'Ramapuram', 'Santhome', 'T. Nagar', 'Velachery', 'Anjuna',\n",
              "       'Anjuna Beach, Anjuna', 'Arambol', 'Baga', 'Betalbatim',\n",
              "       'Calangute', 'Calangute Beach, Calangute', 'Candolim',\n",
              "       'Cavelossim', 'Nerul', 'Panaji', 'Vagator',\n",
              "       'Anil Plaza, Christian Basti', 'Chandmari', 'Christian Basti',\n",
              "       'Dispur', 'Six Mile', 'Ulubari', 'Uzan Bazaar', 'Zoo Tiniali',\n",
              "       '12th Square Building, Banjara Hills', 'Banjara Hills',\n",
              "       'Gachibowli', 'Hitech City', 'Holiday Inn Express & Suites',\n",
              "       'Jubilee Hills', 'Kondapur', 'Madhapur', \"Ohri' Hitech City\",\n",
              "       'C Scheme', 'Chokhi Dhani Village Resort, Tonk Road',\n",
              "       'Civil Lines', 'Devraj Niwas, Bani Park',\n",
              "       'Holiday Inn Jaipur City Centre, Bais Godam',\n",
              "       'Hotel Clarks Amer, Malviya Nagar', 'Lal Kothi', 'Malviya Nagar',\n",
              "       'Tonk Road', 'Vaishali Nagar', 'Vidhyadhar Nagar',\n",
              "       'Acropolis Mall, Kasba ', 'Ballygunge', 'Camac Street Area',\n",
              "       'Elgin', 'Golpark', 'Kidderpore', 'Mani Square Mall, Kankurgachi',\n",
              "       'Park Street Area', 'Quest Mall, Ballygunge',\n",
              "       'Sector 5, Salt Lake', 'Silver Spring Arcade, Science City Area',\n",
              "       'Southern Avenue', 'Aminabad', 'Gomti Nagar', 'Hazratganj',\n",
              "       'Lalbagh', 'Renaissance Lucknow Hotel',\n",
              "       'Riverside Mall, Gomti Nagar', 'Royal Inn, Hazratganj',\n",
              "       'Sadar Bazaar', 'Azad Nagar', 'Borivali East', 'Borivali West',\n",
              "       'Fort', 'Hill Road, Bandra West', 'Juhu',\n",
              "       'Linking Road, Bandra West', 'Lower Parel', 'Majiwada, Thane West',\n",
              "       'Malad West', 'Powai', 'Ramee Guestline Hotel, Juhu',\n",
              "       'Versova, Andheri West', 'Vile Parle East', 'Anandpuri',\n",
              "       'Fraser Road Area', 'Golambar', 'Hotel Maurya, Lodipur',\n",
              "       'Khajpura', 'Lodipur', 'Maurya Lok, Fraser Road Area',\n",
              "       'Patliputra Colony', 'Sri Krishnapuri',\n",
              "       'Balewadi High Street, Balewadi', 'Baner', 'Deccan Gymkhana',\n",
              "       'Kalyani Nagar', 'Koregaon Park', 'Law College Road',\n",
              "       'Phoenix Market City, Viman Nagar', 'R Deccan Mall, JM Road',\n",
              "       'Ravet', 'Senapati Bapat Road', 'Spot 18 Mall, Pimple Saudagar',\n",
              "       'Viman Nagar', 'Wakad', 'Adajan Gam', 'Athwa', 'City Light',\n",
              "       'Golden Square, City Light',\n",
              "       'International Business Center, Piplod', 'Nanpura', 'Piplod',\n",
              "       'Vesu'], dtype=object)"
            ]
          },
          "metadata": {},
          "execution_count": 8
        }
      ],
      "source": [
        "df['Locality'].unique()"
      ]
    },
    {
      "cell_type": "code",
      "execution_count": 9,
      "metadata": {
        "colab": {
          "base_uri": "https://localhost:8080/"
        },
        "id": "7SXZnBgB94dS",
        "outputId": "a08c4c75-0dcb-474a-fece-b8cd98a4f5f8"
      },
      "outputs": [
        {
          "output_type": "execute_result",
          "data": {
            "text/plain": [
              "array(['North Indian', 'Asian', 'Italian', 'European', 'Modern Indian',\n",
              "       'Bakery', 'Fast Food', 'Continental', 'American', 'Mexican',\n",
              "       'Japanese', 'Cafe', 'Mughlai', 'Desserts', 'South Indian',\n",
              "       'Biryani', 'Seafood', 'Goan', 'Chinese', 'Mediterranean',\n",
              "       'Hyderabadi', 'Rajasthani', 'Bengali', 'Healthy Food',\n",
              "       'Street Food', 'Charcoal Grill', 'Lebanese', 'Gujarati'],\n",
              "      dtype=object)"
            ]
          },
          "metadata": {},
          "execution_count": 9
        }
      ],
      "source": [
        "df['Cuisines'].unique()"
      ]
    },
    {
      "cell_type": "code",
      "execution_count": 10,
      "metadata": {
        "colab": {
          "base_uri": "https://localhost:8080/"
        },
        "id": "-5QTKFBk94dT",
        "outputId": "cc598519-547a-4a55-b5c2-e2aea79c27ed"
      },
      "outputs": [
        {
          "output_type": "execute_result",
          "data": {
            "text/plain": [
              "(258, 11)"
            ]
          },
          "metadata": {},
          "execution_count": 10
        }
      ],
      "source": [
        "df.shape"
      ]
    },
    {
      "cell_type": "markdown",
      "metadata": {
        "id": "Ydn3qVJG94dU"
      },
      "source": [
        "*From above we can see that the data contains 258 rows and 11 columns*"
      ]
    },
    {
      "cell_type": "code",
      "execution_count": 11,
      "metadata": {
        "colab": {
          "base_uri": "https://localhost:8080/"
        },
        "id": "_zOth4I394dX",
        "outputId": "482a4e23-ba40-4848-ade9-3317b7a1251d"
      },
      "outputs": [
        {
          "output_type": "execute_result",
          "data": {
            "text/plain": [
              "Restaurant Name            object\n",
              "City                       object\n",
              "Locality                   object\n",
              "Cuisines                   object\n",
              "Average Cost for two        int64\n",
              "Has Table booking          object\n",
              "Has Online delivery        object\n",
              " Rating Stars out of 5    float64\n",
              "Rating in text             object\n",
              "Price range                 int64\n",
              "Votes                       int64\n",
              "dtype: object"
            ]
          },
          "metadata": {},
          "execution_count": 11
        }
      ],
      "source": [
        "df.dtypes"
      ]
    },
    {
      "cell_type": "code",
      "execution_count": 12,
      "metadata": {
        "colab": {
          "base_uri": "https://localhost:8080/"
        },
        "id": "7DZoPUnm94da",
        "outputId": "f068d722-cc9c-4969-a003-3b0e59f3c2e4"
      },
      "outputs": [
        {
          "output_type": "stream",
          "name": "stdout",
          "text": [
            "<class 'pandas.core.frame.DataFrame'>\n",
            "RangeIndex: 258 entries, 0 to 257\n",
            "Data columns (total 11 columns):\n",
            " #   Column                  Non-Null Count  Dtype  \n",
            "---  ------                  --------------  -----  \n",
            " 0   Restaurant Name         258 non-null    object \n",
            " 1   City                    258 non-null    object \n",
            " 2   Locality                258 non-null    object \n",
            " 3   Cuisines                258 non-null    object \n",
            " 4   Average Cost for two    258 non-null    int64  \n",
            " 5   Has Table booking       258 non-null    object \n",
            " 6   Has Online delivery     258 non-null    object \n",
            " 7    Rating Stars out of 5  258 non-null    float64\n",
            " 8   Rating in text          258 non-null    object \n",
            " 9   Price range             258 non-null    int64  \n",
            " 10  Votes                   258 non-null    int64  \n",
            "dtypes: float64(1), int64(3), object(7)\n",
            "memory usage: 22.3+ KB\n"
          ]
        }
      ],
      "source": [
        "df.info()"
      ]
    },
    {
      "cell_type": "code",
      "execution_count": 13,
      "metadata": {
        "colab": {
          "base_uri": "https://localhost:8080/"
        },
        "id": "LYtVmmsg94da",
        "outputId": "2979a470-260a-43d7-9a4f-da6fca58dc47"
      },
      "outputs": [
        {
          "output_type": "execute_result",
          "data": {
            "text/plain": [
              "0"
            ]
          },
          "metadata": {},
          "execution_count": 13
        }
      ],
      "source": [
        "df.duplicated().sum()"
      ]
    },
    {
      "cell_type": "code",
      "execution_count": 14,
      "metadata": {
        "colab": {
          "base_uri": "https://localhost:8080/"
        },
        "id": "DTeKg2ly94db",
        "outputId": "9814552e-b915-46ba-dd7c-5c09595db729"
      },
      "outputs": [
        {
          "output_type": "execute_result",
          "data": {
            "text/plain": [
              "Index(['Restaurant Name', 'City', 'Locality', 'Cuisines',\n",
              "       'Average Cost for two', 'Has Table booking', 'Has Online delivery',\n",
              "       ' Rating Stars out of 5', 'Rating in text', 'Price range', 'Votes'],\n",
              "      dtype='object')"
            ]
          },
          "metadata": {},
          "execution_count": 14
        }
      ],
      "source": [
        "df.columns"
      ]
    },
    {
      "cell_type": "code",
      "execution_count": 15,
      "metadata": {
        "colab": {
          "base_uri": "https://localhost:8080/"
        },
        "id": "QpwWdNtb94dd",
        "outputId": "6a18cb8e-72f0-4569-9882-fa65e29abf12"
      },
      "outputs": [
        {
          "output_type": "execute_result",
          "data": {
            "text/plain": [
              "Restaurant Name           0\n",
              "City                      0\n",
              "Locality                  0\n",
              "Cuisines                  0\n",
              "Average Cost for two      0\n",
              "Has Table booking         0\n",
              "Has Online delivery       0\n",
              " Rating Stars out of 5    0\n",
              "Rating in text            0\n",
              "Price range               0\n",
              "Votes                     0\n",
              "dtype: int64"
            ]
          },
          "metadata": {},
          "execution_count": 15
        }
      ],
      "source": [
        "df.isnull().sum()"
      ]
    },
    {
      "cell_type": "markdown",
      "metadata": {
        "id": "q2vHebaz94df"
      },
      "source": [
        "There are no null values in the dataset"
      ]
    },
    {
      "cell_type": "code",
      "execution_count": 16,
      "metadata": {
        "id": "Odwd8X7K94di"
      },
      "outputs": [],
      "source": [
        "from sklearn.preprocessing import LabelEncoder\n",
        "lb = LabelEncoder()"
      ]
    },
    {
      "cell_type": "code",
      "execution_count": 19,
      "metadata": {
        "id": "Ij0H67he94dj"
      },
      "outputs": [],
      "source": [
        "enc_list=['City', 'Locality', 'Cuisines','Rating in text', 'Has Table booking', 'Has Online delivery']\n",
        "for i in enc_list:\n",
        "    df[i] = lb.fit_transform(df[i])"
      ]
    },
    {
      "cell_type": "code",
      "execution_count": 20,
      "metadata": {
        "colab": {
          "base_uri": "https://localhost:8080/",
          "height": 250
        },
        "id": "hXE_2d4T94dk",
        "outputId": "e957d1d1-aca0-4ea6-d0ed-0d0225739b5d"
      },
      "outputs": [
        {
          "output_type": "execute_result",
          "data": {
            "text/plain": [
              "                    Restaurant Name  City  Locality  Cuisines  \\\n",
              "0                  Sultans of Spice     0        20        23   \n",
              "1  The Fatty Bao - Asian Gastro Bar     0        56         1   \n",
              "2                              Toit     0        56        16   \n",
              "3               Three Dots & A Dash     0        56        10   \n",
              "4                  Bombay Brasserie     0        56        21   \n",
              "\n",
              "   Average Cost for two  Has Table booking  Has Online delivery  \\\n",
              "0                  1300                  1                    1   \n",
              "1                  2400                  1                    1   \n",
              "2                  2000                  0                    0   \n",
              "3                  1300                  1                    0   \n",
              "4                  1500                  0                    1   \n",
              "\n",
              "    Rating Stars out of 5  Rating in text  Price range  Votes  \n",
              "0                     4.1               3            3    314  \n",
              "1                     4.7               1            4    591  \n",
              "2                     4.8               1            4    270  \n",
              "3                     3.9               2            3    365  \n",
              "4                     4.2               3            3    229  "
            ],
            "text/html": [
              "\n",
              "  <div id=\"df-760c3ce0-3a80-4196-9bfa-d9efda756d06\">\n",
              "    <div class=\"colab-df-container\">\n",
              "      <div>\n",
              "<style scoped>\n",
              "    .dataframe tbody tr th:only-of-type {\n",
              "        vertical-align: middle;\n",
              "    }\n",
              "\n",
              "    .dataframe tbody tr th {\n",
              "        vertical-align: top;\n",
              "    }\n",
              "\n",
              "    .dataframe thead th {\n",
              "        text-align: right;\n",
              "    }\n",
              "</style>\n",
              "<table border=\"1\" class=\"dataframe\">\n",
              "  <thead>\n",
              "    <tr style=\"text-align: right;\">\n",
              "      <th></th>\n",
              "      <th>Restaurant Name</th>\n",
              "      <th>City</th>\n",
              "      <th>Locality</th>\n",
              "      <th>Cuisines</th>\n",
              "      <th>Average Cost for two</th>\n",
              "      <th>Has Table booking</th>\n",
              "      <th>Has Online delivery</th>\n",
              "      <th>Rating Stars out of 5</th>\n",
              "      <th>Rating in text</th>\n",
              "      <th>Price range</th>\n",
              "      <th>Votes</th>\n",
              "    </tr>\n",
              "  </thead>\n",
              "  <tbody>\n",
              "    <tr>\n",
              "      <th>0</th>\n",
              "      <td>Sultans of Spice</td>\n",
              "      <td>0</td>\n",
              "      <td>20</td>\n",
              "      <td>23</td>\n",
              "      <td>1300</td>\n",
              "      <td>1</td>\n",
              "      <td>1</td>\n",
              "      <td>4.1</td>\n",
              "      <td>3</td>\n",
              "      <td>3</td>\n",
              "      <td>314</td>\n",
              "    </tr>\n",
              "    <tr>\n",
              "      <th>1</th>\n",
              "      <td>The Fatty Bao - Asian Gastro Bar</td>\n",
              "      <td>0</td>\n",
              "      <td>56</td>\n",
              "      <td>1</td>\n",
              "      <td>2400</td>\n",
              "      <td>1</td>\n",
              "      <td>1</td>\n",
              "      <td>4.7</td>\n",
              "      <td>1</td>\n",
              "      <td>4</td>\n",
              "      <td>591</td>\n",
              "    </tr>\n",
              "    <tr>\n",
              "      <th>2</th>\n",
              "      <td>Toit</td>\n",
              "      <td>0</td>\n",
              "      <td>56</td>\n",
              "      <td>16</td>\n",
              "      <td>2000</td>\n",
              "      <td>0</td>\n",
              "      <td>0</td>\n",
              "      <td>4.8</td>\n",
              "      <td>1</td>\n",
              "      <td>4</td>\n",
              "      <td>270</td>\n",
              "    </tr>\n",
              "    <tr>\n",
              "      <th>3</th>\n",
              "      <td>Three Dots &amp; A Dash</td>\n",
              "      <td>0</td>\n",
              "      <td>56</td>\n",
              "      <td>10</td>\n",
              "      <td>1300</td>\n",
              "      <td>1</td>\n",
              "      <td>0</td>\n",
              "      <td>3.9</td>\n",
              "      <td>2</td>\n",
              "      <td>3</td>\n",
              "      <td>365</td>\n",
              "    </tr>\n",
              "    <tr>\n",
              "      <th>4</th>\n",
              "      <td>Bombay Brasserie</td>\n",
              "      <td>0</td>\n",
              "      <td>56</td>\n",
              "      <td>21</td>\n",
              "      <td>1500</td>\n",
              "      <td>0</td>\n",
              "      <td>1</td>\n",
              "      <td>4.2</td>\n",
              "      <td>3</td>\n",
              "      <td>3</td>\n",
              "      <td>229</td>\n",
              "    </tr>\n",
              "  </tbody>\n",
              "</table>\n",
              "</div>\n",
              "      <button class=\"colab-df-convert\" onclick=\"convertToInteractive('df-760c3ce0-3a80-4196-9bfa-d9efda756d06')\"\n",
              "              title=\"Convert this dataframe to an interactive table.\"\n",
              "              style=\"display:none;\">\n",
              "        \n",
              "  <svg xmlns=\"http://www.w3.org/2000/svg\" height=\"24px\"viewBox=\"0 0 24 24\"\n",
              "       width=\"24px\">\n",
              "    <path d=\"M0 0h24v24H0V0z\" fill=\"none\"/>\n",
              "    <path d=\"M18.56 5.44l.94 2.06.94-2.06 2.06-.94-2.06-.94-.94-2.06-.94 2.06-2.06.94zm-11 1L8.5 8.5l.94-2.06 2.06-.94-2.06-.94L8.5 2.5l-.94 2.06-2.06.94zm10 10l.94 2.06.94-2.06 2.06-.94-2.06-.94-.94-2.06-.94 2.06-2.06.94z\"/><path d=\"M17.41 7.96l-1.37-1.37c-.4-.4-.92-.59-1.43-.59-.52 0-1.04.2-1.43.59L10.3 9.45l-7.72 7.72c-.78.78-.78 2.05 0 2.83L4 21.41c.39.39.9.59 1.41.59.51 0 1.02-.2 1.41-.59l7.78-7.78 2.81-2.81c.8-.78.8-2.07 0-2.86zM5.41 20L4 18.59l7.72-7.72 1.47 1.35L5.41 20z\"/>\n",
              "  </svg>\n",
              "      </button>\n",
              "      \n",
              "  <style>\n",
              "    .colab-df-container {\n",
              "      display:flex;\n",
              "      flex-wrap:wrap;\n",
              "      gap: 12px;\n",
              "    }\n",
              "\n",
              "    .colab-df-convert {\n",
              "      background-color: #E8F0FE;\n",
              "      border: none;\n",
              "      border-radius: 50%;\n",
              "      cursor: pointer;\n",
              "      display: none;\n",
              "      fill: #1967D2;\n",
              "      height: 32px;\n",
              "      padding: 0 0 0 0;\n",
              "      width: 32px;\n",
              "    }\n",
              "\n",
              "    .colab-df-convert:hover {\n",
              "      background-color: #E2EBFA;\n",
              "      box-shadow: 0px 1px 2px rgba(60, 64, 67, 0.3), 0px 1px 3px 1px rgba(60, 64, 67, 0.15);\n",
              "      fill: #174EA6;\n",
              "    }\n",
              "\n",
              "    [theme=dark] .colab-df-convert {\n",
              "      background-color: #3B4455;\n",
              "      fill: #D2E3FC;\n",
              "    }\n",
              "\n",
              "    [theme=dark] .colab-df-convert:hover {\n",
              "      background-color: #434B5C;\n",
              "      box-shadow: 0px 1px 3px 1px rgba(0, 0, 0, 0.15);\n",
              "      filter: drop-shadow(0px 1px 2px rgba(0, 0, 0, 0.3));\n",
              "      fill: #FFFFFF;\n",
              "    }\n",
              "  </style>\n",
              "\n",
              "      <script>\n",
              "        const buttonEl =\n",
              "          document.querySelector('#df-760c3ce0-3a80-4196-9bfa-d9efda756d06 button.colab-df-convert');\n",
              "        buttonEl.style.display =\n",
              "          google.colab.kernel.accessAllowed ? 'block' : 'none';\n",
              "\n",
              "        async function convertToInteractive(key) {\n",
              "          const element = document.querySelector('#df-760c3ce0-3a80-4196-9bfa-d9efda756d06');\n",
              "          const dataTable =\n",
              "            await google.colab.kernel.invokeFunction('convertToInteractive',\n",
              "                                                     [key], {});\n",
              "          if (!dataTable) return;\n",
              "\n",
              "          const docLinkHtml = 'Like what you see? Visit the ' +\n",
              "            '<a target=\"_blank\" href=https://colab.research.google.com/notebooks/data_table.ipynb>data table notebook</a>'\n",
              "            + ' to learn more about interactive tables.';\n",
              "          element.innerHTML = '';\n",
              "          dataTable['output_type'] = 'display_data';\n",
              "          await google.colab.output.renderOutput(dataTable, element);\n",
              "          const docLink = document.createElement('div');\n",
              "          docLink.innerHTML = docLinkHtml;\n",
              "          element.appendChild(docLink);\n",
              "        }\n",
              "      </script>\n",
              "    </div>\n",
              "  </div>\n",
              "  "
            ]
          },
          "metadata": {},
          "execution_count": 20
        }
      ],
      "source": [
        "df.head()"
      ]
    },
    {
      "cell_type": "code",
      "source": [
        "df.to_csv('pre_processeddata.csv')"
      ],
      "metadata": {
        "id": "oBOtWyn8_U7l"
      },
      "execution_count": 21,
      "outputs": []
    }
  ],
  "metadata": {
    "kernelspec": {
      "display_name": "Python 3.8.10 64-bit (windows store)",
      "language": "python",
      "name": "python3"
    },
    "language_info": {
      "codemirror_mode": {
        "name": "ipython",
        "version": 3
      },
      "file_extension": ".py",
      "mimetype": "text/x-python",
      "name": "python",
      "nbconvert_exporter": "python",
      "pygments_lexer": "ipython3",
      "version": "3.8.10"
    },
    "orig_nbformat": 4,
    "vscode": {
      "interpreter": {
        "hash": "d8f38a65f95ae979fba470ab93511c61f11d2b36188dbafc11a6a501c4e93194"
      }
    },
    "colab": {
      "provenance": [],
      "collapsed_sections": []
    }
  },
  "nbformat": 4,
  "nbformat_minor": 0
}