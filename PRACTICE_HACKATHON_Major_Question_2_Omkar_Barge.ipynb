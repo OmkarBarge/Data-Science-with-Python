{
  "nbformat": 4,
  "nbformat_minor": 0,
  "metadata": {
    "colab": {
      "name": "PRACTICE HACKATHON_Major Question 2 -Omkar Barge.ipynb",
      "provenance": [],
      "collapsed_sections": []
    },
    "kernelspec": {
      "name": "python3",
      "display_name": "Python 3"
    },
    "language_info": {
      "name": "python"
    }
  },
  "cells": [
    {
      "cell_type": "markdown",
      "source": [
        "<font color='red'>1.Write a program to print the following pattern.<br>\n",
        "I.</font>\n",
        "\n",
        "                      *\n",
        "                     **\n",
        "                    ***\n",
        "                   ****\n",
        "                  *****"
      ],
      "metadata": {
        "id": "33TgmGFPaDWH"
      }
    },
    {
      "cell_type": "code",
      "source": [
        "n=5\n",
        "k = 2*n - 2\n",
        " \n",
        "for i in range(0, n):\n",
        "  for j in range(0, k):\n",
        "    print(end=\" \")\n",
        "     \n",
        "  k = k - 2\n",
        "  for j in range(0, i+1):\n",
        "    print(\"*\", end=\" \")\n",
        "\n",
        "  print(\"\\r\")"
      ],
      "metadata": {
        "colab": {
          "base_uri": "https://localhost:8080/"
        },
        "id": "YpBV-0headxl",
        "outputId": "7e9f0bbc-5986-4b5b-8847-05789476e638"
      },
      "execution_count": null,
      "outputs": [
        {
          "output_type": "stream",
          "name": "stdout",
          "text": [
            "        * \r\n",
            "      * * \r\n",
            "    * * * \r\n",
            "  * * * * \r\n",
            "* * * * * \r\n"
          ]
        }
      ]
    },
    {
      "cell_type": "markdown",
      "source": [
        "<font color='red'>II.</font>\n",
        "\n",
        "\n",
        "            1\n",
        "            2 3\n",
        "            4 5 6 \n",
        "            7 8 9 10\n",
        "            11 12 13 14 15"
      ],
      "metadata": {
        "id": "ZBdS5KAhblt6"
      }
    },
    {
      "cell_type": "code",
      "source": [
        "current_Number = 1  \n",
        "stop = 2  \n",
        "rows = 5 \n",
        "  \n",
        "for i in range(rows):  \n",
        "    for j in range(1, stop):  \n",
        "        print(current_Number, end=' ')  \n",
        "        current_Number += 1  \n",
        "    print(\"\")  \n",
        "    stop += 1  "
      ],
      "metadata": {
        "colab": {
          "base_uri": "https://localhost:8080/"
        },
        "id": "yO3NFH7GbQ_n",
        "outputId": "e233365d-b1e0-4798-c2d8-b703b5d6c112"
      },
      "execution_count": null,
      "outputs": [
        {
          "output_type": "stream",
          "name": "stdout",
          "text": [
            "1 \n",
            "2 3 \n",
            "4 5 6 \n",
            "7 8 9 10 \n",
            "11 12 13 14 15 \n"
          ]
        }
      ]
    },
    {
      "cell_type": "markdown",
      "source": [
        "<font color='red'>2.Write a program to accept 5 integers from user and print their average valueon the screen</font>"
      ],
      "metadata": {
        "id": "r7edk6gYcK4K"
      }
    },
    {
      "cell_type": "code",
      "source": [
        "# n = list(map(int, input().split()))\n",
        "lst = []\n",
        "for i in range(5):\n",
        "  lst.append(int(input(f'Enter {i+1} Number :')))\n",
        "\n",
        "print('Average is ',sum(lst)/len(lst))"
      ],
      "metadata": {
        "colab": {
          "base_uri": "https://localhost:8080/"
        },
        "id": "B6Yj3yD_b88L",
        "outputId": "cbe1dd4c-b2ae-4811-8d4f-e7d7da63b46e"
      },
      "execution_count": null,
      "outputs": [
        {
          "output_type": "stream",
          "name": "stdout",
          "text": [
            "Enter 1 Number :5\n",
            "Enter 2 Number :6\n",
            "Enter 3 Number :7\n",
            "Enter 4 Number :8\n",
            "Enter 5 Number :9\n",
            "Average is  7.0\n"
          ]
        }
      ]
    },
    {
      "cell_type": "markdown",
      "source": [
        "<font color='red'>3.Write a program to print sum of digits of a number given by the user.</font>\n"
      ],
      "metadata": {
        "id": "dqXjlIgsdZ2L"
      }
    },
    {
      "cell_type": "code",
      "source": [
        "n = int(input(\"How many number do you want to enter to get sum of all : \"))\n",
        "lst_1 = []\n",
        "\n",
        "for i in range(n):\n",
        "  lst_1.append(int(input(f'Enter {i+1} number : ')))\n",
        "\n",
        "print('Sum of all given number is : ',sum(lst_1))"
      ],
      "metadata": {
        "colab": {
          "base_uri": "https://localhost:8080/"
        },
        "id": "ZPVf7lOncZzr",
        "outputId": "905ad839-32f2-40fc-a662-2e7a0ead72a5"
      },
      "execution_count": null,
      "outputs": [
        {
          "output_type": "stream",
          "name": "stdout",
          "text": [
            "How many number do you want to enter to get sum of all : 5\n",
            "Enter 1 number : 1\n",
            "Enter 2 number : 2\n",
            "Enter 3 number : 3\n",
            "Enter 4 number : 4\n",
            "Enter 5 number : 5\n",
            "Sum of all given number is :  15\n"
          ]
        }
      ]
    },
    {
      "cell_type": "markdown",
      "source": [
        ""
      ],
      "metadata": {
        "id": "lD57xE72CpP0"
      }
    },
    {
      "cell_type": "code",
      "source": [
        "class person(object):\n",
        "  def __init__(self,eid,pname):\n",
        "    self.eid = eid\n",
        "    self.pname = pname\n",
        "\n",
        "  def get_pname(self):\n",
        "    return self.pname\n",
        "\n",
        "  def set_pname(self,x):\n",
        "    self.pname = x\n",
        "\n",
        "  \n",
        "  def get_eid(self):\n",
        "    return self.eid\n",
        "\n",
        "  def set_eid(self,y):\n",
        "    self.eid = y\n",
        "\n",
        "\n",
        "\n",
        "class employee(person):\n",
        "  def __init__(self,eid,pname,department,designation):\n",
        "    self.department = department\n",
        "    self.designation = designation\n",
        "\n",
        "    person.__init__(self,eid,pname)\n",
        "\n",
        "  def display_emp_info(self):\n",
        "    print('eid : ',self.eid)\n",
        "    print('pname : ',self.pname)\n",
        "    print('department : ',self.department)\n",
        "    print('designation : ',self.designation)\n",
        "\n",
        "\n",
        "# a = employee(1,'Omkar','IT','Data Analyst')\n",
        "# a.display_emp_info()\n",
        "\n",
        "class salaried_employee(employee):\n",
        "  def __init__(self,eid,pname,salary):\n",
        "    self.salary=salary\n",
        "\n",
        "    person.__init__(self,eid,pname)\n",
        "\n",
        "  # def bonus(self):\n",
        "  #   return (self.salary * 0.2)\n",
        "  \n",
        "  def set_sal(self,a):\n",
        "    self.salary = a\n",
        "\n",
        "  def get_sal(self):\n",
        "    return self.salary\n",
        "  \n",
        "  def calculate_net_sal(self):\n",
        "    print('eid : ',self.eid)\n",
        "    print('pname : ',self.pname)\n",
        "    print('net_sal : ',self.salary + ((0.1)*self.salary) + ((0.15)*self.salary) - ((0.08)*self.salary))\n",
        "\n",
        "\n",
        "class contract_employee(employee):\n",
        "  def __init__(self,eid,pname,hrs_worked, hrs_charge):\n",
        "     self.hrs_worked = hrs_worked\n",
        "     self.hrs_charged = hrs_charge\n",
        "\n",
        "     person.__init__(self,eid,pname)\n",
        "\n",
        "  def get_hrs_worked(self):\n",
        "    self.hrs_worked\n",
        "\n",
        "  def set_hrs_worked(self,x):\n",
        "    self.hrs_worked = x\n",
        "\n",
        "  def get_hrs_charged(self):\n",
        "    self.hrs_charged\n",
        "\n",
        "  def get_hrs_charged(self,y):\n",
        "    self.hrs_charged = y\n",
        "\n",
        "  def calculate_net_sal(self):\n",
        "    print('eid : ',self.eid)\n",
        "    print('pname : ',self.pname)\n",
        "    print('net_sal : ',self.hrs_charged * self.hrs_worked)\n",
        "    \n",
        "a1 = salaried_employee(1,'Omkar',140000)\n",
        "a1.calculate_net_sal()\n",
        "\n",
        "\n",
        "a2 = contract_employee(2,'Aryan',5,500)\n",
        "a2.calculate_net_sal()"
      ],
      "metadata": {
        "id": "jxtj9dMfd9bF",
        "colab": {
          "base_uri": "https://localhost:8080/"
        },
        "outputId": "1bbbb198-eb7a-4897-ec13-e065a18fe2e1"
      },
      "execution_count": 4,
      "outputs": [
        {
          "output_type": "stream",
          "name": "stdout",
          "text": [
            "eid :  1\n",
            "pname :  Omkar\n",
            "net_sal :  163800.0\n",
            "eid :  2\n",
            "pname :  Aryan\n",
            "net_sal :  2500\n"
          ]
        }
      ]
    },
    {
      "cell_type": "code",
      "source": [
        ""
      ],
      "metadata": {
        "id": "3pQOb-vYOpEj"
      },
      "execution_count": null,
      "outputs": []
    }
  ]
}