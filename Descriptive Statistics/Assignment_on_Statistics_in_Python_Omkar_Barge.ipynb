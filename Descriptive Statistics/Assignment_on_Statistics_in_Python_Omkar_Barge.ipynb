{
  "nbformat": 4,
  "nbformat_minor": 0,
  "metadata": {
    "colab": {
      "name": "Assignment on Statistics in Python-Omkar Barge.ipynb",
      "provenance": [],
      "collapsed_sections": []
    },
    "kernelspec": {
      "name": "python3",
      "display_name": "Python 3"
    },
    "language_info": {
      "name": "python"
    }
  },
  "cells": [
    {
      "cell_type": "code",
      "source": [
        "import numpy as np\n",
        "import statistics as stats\n",
        "import scipy.stats as ss\n",
        "from statsmodels.stats.weightstats import ztest\n"
      ],
      "metadata": {
        "colab": {
          "base_uri": "https://localhost:8080/"
        },
        "id": "n-NpYP3pYj6m",
        "outputId": "ab15a355-3433-4f85-ec83-57872d950eaa"
      },
      "execution_count": 12,
      "outputs": [
        {
          "output_type": "stream",
          "name": "stderr",
          "text": [
            "/usr/local/lib/python3.7/dist-packages/statsmodels/tools/_testing.py:19: FutureWarning: pandas.util.testing is deprecated. Use the functions in the public API at pandas.testing instead.\n",
            "  import pandas.util.testing as tm\n"
          ]
        }
      ]
    },
    {
      "cell_type": "code",
      "execution_count": 2,
      "metadata": {
        "colab": {
          "base_uri": "https://localhost:8080/"
        },
        "id": "JuUFhzO9YOM4",
        "outputId": "f8644da4-d1c5-458d-a4ee-c06549b8e6a4"
      },
      "outputs": [
        {
          "output_type": "stream",
          "name": "stdout",
          "text": [
            "Median is  164.0\n"
          ]
        }
      ],
      "source": [
        "# Height of 7 students(incm) is given below.What is the median? Find using python.:-168  170  169  160  162  164  162\n",
        "heights = [168,170,169,160,162,164,162]\n",
        "\n",
        "m = np.median(heights)\n",
        "print('Median is ' ,m)"
      ]
    },
    {
      "cell_type": "code",
      "source": [
        "# Below are the observations of the marks of a student.Find the value of mode using Python?:- 84  85  89  92  93  89  87  89  92\n",
        "marks = [84,85,89,92,93,89,87,89,92]\n",
        "\n",
        "m1 = stats.mode(marks)\n",
        "print('Mode is',m1)"
      ],
      "metadata": {
        "colab": {
          "base_uri": "https://localhost:8080/"
        },
        "id": "w4k3gaf3Y3l3",
        "outputId": "f8696642-1577-4ab9-e39d-e2f0d057f493"
      },
      "execution_count": 3,
      "outputs": [
        {
          "output_type": "stream",
          "name": "stdout",
          "text": [
            "Mode is 89\n"
          ]
        }
      ]
    },
    {
      "cell_type": "code",
      "source": [
        "# From the table given below,what is the mean of marks obtained by 20 students? Solve using python programming.\n",
        "\n",
        "s_marks = [3,4,4,5,5,6,6,6,6,7,7,7,7,7,8,8,8,9,9,10]\n",
        "s_mean = sum(s_marks)/len(s_marks)\n",
        "\n",
        "print('Means of 20 students marks is',s_mean)"
      ],
      "metadata": {
        "colab": {
          "base_uri": "https://localhost:8080/"
        },
        "id": "xepjeByOZZFH",
        "outputId": "3aae6f97-31aa-4c9e-ad44-05962b6ca08e"
      },
      "execution_count": 4,
      "outputs": [
        {
          "output_type": "stream",
          "name": "stdout",
          "text": [
            "Means of 20 students marks is 6.6\n"
          ]
        }
      ]
    },
    {
      "cell_type": "markdown",
      "source": [
        "For a certain type of computer,the length of time between charges of the battery is normally distributed with a mean of 50 hours and a standarddeviation of 15 hours.\n",
        "John owns one of these computers and wants to know the probability that the length of time will be between 50 and 70 hours.\n",
        "\n",
        "\n",
        "Given mean = 50 hours and SD = 15; we have to find P(50 < X < 70) = P(X < 70) - P(X < 50)\n",
        "\n",
        "Converting to Z, we get P(Z < (70 - 50)/15 ) - P( Z < (50 - 50)/15 )\n",
        "\n",
        "= P( Z < 1.33) - P( Z < 0) = 0.0.9088 - 0.5 = 0.4088"
      ],
      "metadata": {
        "id": "t3JI0bc2aahc"
      }
    },
    {
      "cell_type": "code",
      "source": [
        "# 6.Find the range of the following using python.g = [10, 23, 12, 21, 14, 17, 16, 11, 15, 19]\n",
        "\n",
        "g = [10, 23, 12, 21, 14, 17, 16, 11, 15, 19]\n",
        "r_1 = max(g) - min(g)\n",
        "print(r_1)"
      ],
      "metadata": {
        "colab": {
          "base_uri": "https://localhost:8080/"
        },
        "id": "SJSWXUFucJ1k",
        "outputId": "eb8409fc-ab4e-4677-ff3b-0d09bb470465"
      },
      "execution_count": 5,
      "outputs": [
        {
          "output_type": "stream",
          "name": "stdout",
          "text": [
            "13\n"
          ]
        }
      ]
    },
    {
      "cell_type": "code",
      "source": [
        "# 7.Find the sample and population variance and standard deviation ofg = [2.74, 1.23, 2.63, 2.22, 3, 1.98]\n",
        "\n",
        "def var_std(r): \n",
        "  mean_r = sum(r)/len(r)\n",
        "  s = 0\n",
        "  for i in r:\n",
        "    s += (i-mean_r)**2\n",
        "    pop_var = s/len(r)\n",
        "    samp_var = s/(len(r)-1)\n",
        "    pop_std = np.sqrt(pop_var)\n",
        "    samp_std = np.sqrt(samp_var)\n",
        "    print('Pop_Var',pop_var)\n",
        "    print('Samp_Var',samp_var)\n",
        "    print('Pop_Std',pop_std)\n",
        "    print('Samp_Std',samp_std)\n",
        "\n",
        "g = [2.74, 1.23, 2.63, 2.22, 3, 1.98]\n",
        "print(g)\n",
        "var_std(g)"
      ],
      "metadata": {
        "colab": {
          "base_uri": "https://localhost:8080/"
        },
        "id": "uI4zX--rcQf7",
        "outputId": "b2accc23-e8bc-4d97-f690-09e2fcbe08db"
      },
      "execution_count": 6,
      "outputs": [
        {
          "output_type": "stream",
          "name": "stdout",
          "text": [
            "[2.74, 1.23, 2.63, 2.22, 3, 1.98]\n",
            "Pop_Var 0.03226666666666666\n",
            "Samp_Var 0.03871999999999999\n",
            "Pop_Std 0.1796292478040997\n",
            "Samp_Std 0.19677398201998147\n",
            "Pop_Var 0.22308333333333344\n",
            "Samp_Var 0.26770000000000016\n",
            "Pop_Std 0.4723169839560435\n",
            "Samp_Std 0.5173973328110614\n",
            "Pop_Var 0.2412333333333334\n",
            "Samp_Var 0.28948000000000007\n",
            "Pop_Std 0.4911551010967242\n",
            "Samp_Std 0.5380334562088124\n",
            "Pop_Var 0.24230000000000007\n",
            "Samp_Var 0.2907600000000001\n",
            "Pop_Std 0.4922397789695588\n",
            "Samp_Std 0.5392216612859688\n",
            "Pop_Var 0.3239666666666667\n",
            "Samp_Var 0.38876\n",
            "Pop_Std 0.5691806977284689\n",
            "Samp_Std 0.6235062148848237\n",
            "Pop_Var 0.34103333333333335\n",
            "Samp_Var 0.40924000000000005\n",
            "Pop_Std 0.5839805932848569\n",
            "Samp_Std 0.639718688174732\n"
          ]
        }
      ]
    },
    {
      "cell_type": "code",
      "source": [
        "# 8.A random sample of 50 items gives the mean 6.2 and standard deviation 10.24.\n",
        "# Can it be regarded as drawn from a normal population with mean 5.4 at 5% level of significance? Solve using python\n",
        "\n",
        "\n",
        "# Null Hypothesis = 5.4\n",
        "# Alternative Hypothesis != 5.4\n",
        "sam_mean = 6.2\n",
        "pop_mean = 5.4\n",
        "al = 0.5\n",
        "std_d = 10.24\n",
        "n = 50\n",
        "# For a 5% level of significance, the critical value/z-score will be ±1.96.\n",
        "critical_val = 1.96\n",
        "\n",
        "z_score = (sam_mean-pop_mean)/(std_d/np.sqrt(n))\n",
        "\n",
        "if z_score < critical_val:\n",
        "  print('Null Hypothesis Accepted')\n",
        "else:\n",
        "  print('Null Hypothesis Not Accepted')"
      ],
      "metadata": {
        "colab": {
          "base_uri": "https://localhost:8080/"
        },
        "id": "_-LkKzvHcsXJ",
        "outputId": "0f4705c1-0915-4b3f-b213-27ebeec204f2"
      },
      "execution_count": 18,
      "outputs": [
        {
          "output_type": "stream",
          "name": "stdout",
          "text": [
            "Null Hypothesis Accepted\n"
          ]
        }
      ]
    },
    {
      "cell_type": "code",
      "source": [
        "# 9.The mean height of a random sample of 100 individuals from a population is 165.The Standard deviation of the sample is 10.\n",
        "# Would it be reasonable to suppose that the mean height of the population is 160?Solve using python\n",
        "std_d = 10\n",
        "n = 100\n",
        "pop_mean = 160\n",
        "sam_mean = 165\n",
        "c_val = 1.96\n",
        "\n",
        "z_score = (sam_mean-pop_mean)/(std_d/np.sqrt(n))\n",
        "\n",
        "if z_score < c_val:\n",
        "  print('Null Hypothesis Accepted')\n",
        "else:\n",
        "  print('Null Hypothesis Not Accepted')"
      ],
      "metadata": {
        "colab": {
          "base_uri": "https://localhost:8080/"
        },
        "id": "fqMGtMQs9X4-",
        "outputId": "568b30c1-2374-43ea-cdad-7e24a97373bf"
      },
      "execution_count": 19,
      "outputs": [
        {
          "output_type": "stream",
          "name": "stdout",
          "text": [
            "Null Hypothesis Not Accepted\n"
          ]
        }
      ]
    },
    {
      "cell_type": "code",
      "source": [
        "# 11.Find the mean,mode and median of \n",
        "g=[10,23,12,21,14,17,16,11,15,19,12]\n",
        "\n",
        "print('Mean',stats.mean(g))\n",
        "print('Median',stats.median(g))\n",
        "print('Mode',stats.mode(g))"
      ],
      "metadata": {
        "colab": {
          "base_uri": "https://localhost:8080/"
        },
        "id": "sSGaoJSuC0bp",
        "outputId": "bd761917-587e-4ca1-c360-71d51d1e20f5"
      },
      "execution_count": 23,
      "outputs": [
        {
          "output_type": "stream",
          "name": "stdout",
          "text": [
            "Mean 15.454545454545455\n",
            "Median 15\n",
            "Mode 12\n"
          ]
        }
      ]
    },
    {
      "cell_type": "code",
      "source": [
        "# 12.Find the range,sample and population variance and standard deviation of\n",
        "def var(l):\n",
        "  mean = stats.mean(l)  \n",
        "  total = 0\n",
        "  for i in l:\n",
        "    total+=(i-mean)**2\n",
        "\n",
        "  population_var = total/len(l)\n",
        "  sample_var = total/(len(l)-1)\n",
        "\n",
        "  population_std = np.sqrt(population_var)\n",
        "  sample_std = np.sqrt(sample_var)\n",
        "\n",
        "  range = max(l) - min(l)\n",
        "\n",
        "  print(\"Population variance : \",population_var)\n",
        "  print(\"Population standard deviation : \",population_std)\n",
        "  print()\n",
        "  print(\"sample variance : \",sample_var)\n",
        "  print(\"sample standard deviation : \",sample_std)\n",
        "  print()\n",
        "  print(range)\n",
        "\n",
        "\n",
        "d = [15, 26, 32, 51, 13, 47, 63, 61, 25, 49, 92]\n",
        "\n",
        "var(d)"
      ],
      "metadata": {
        "colab": {
          "base_uri": "https://localhost:8080/"
        },
        "id": "OEUsu2C6DKOr",
        "outputId": "6f7bfc70-25b7-419d-949b-1b4fc758bf45"
      },
      "execution_count": 32,
      "outputs": [
        {
          "output_type": "stream",
          "name": "stdout",
          "text": [
            "Population variance :  514.4462809917354\n",
            "Population standard deviation :  22.681408267383564\n",
            "\n",
            "sample variance :  565.890909090909\n",
            "sample standard deviation :  23.788461679791506\n",
            "\n",
            "79\n"
          ]
        }
      ]
    },
    {
      "cell_type": "code",
      "source": [
        ""
      ],
      "metadata": {
        "id": "FojKSWYCDsQK"
      },
      "execution_count": null,
      "outputs": []
    }
  ]
}