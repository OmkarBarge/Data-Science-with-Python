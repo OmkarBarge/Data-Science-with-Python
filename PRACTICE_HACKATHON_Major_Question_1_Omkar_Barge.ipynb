{
  "nbformat": 4,
  "nbformat_minor": 0,
  "metadata": {
    "colab": {
      "name": "PRACTICE HACKATHON_Major Question 1 -Omkar Barge.ipynb",
      "provenance": [],
      "collapsed_sections": []
    },
    "kernelspec": {
      "name": "python3",
      "display_name": "Python 3"
    },
    "language_info": {
      "name": "python"
    }
  },
  "cells": [
    {
      "cell_type": "markdown",
      "source": [
        "# Major Question 1"
      ],
      "metadata": {
        "id": "ZekwnJQyFPI0"
      }
    },
    {
      "cell_type": "markdown",
      "source": [
        "> <font color='red'>1.Write a program to print the following patterns :<br>\n",
        ">I.</font>\n",
        "\n",
        "                  *\n",
        "                  **\n",
        "                  ***\n",
        "                  ****\n",
        "\n"
      ],
      "metadata": {
        "id": "xYUGayu9FVTf"
      }
    },
    {
      "cell_type": "code",
      "source": [
        "for i in range(0, 4):    \n",
        "        for j in range(0, i + 1):  \n",
        "            print(\"*\", end=\"\")         \n",
        "        print()  "
      ],
      "metadata": {
        "colab": {
          "base_uri": "https://localhost:8080/"
        },
        "id": "WTlRQan6FZcE",
        "outputId": "d2d4b18a-f39a-4baa-bef4-96e871585391"
      },
      "execution_count": 2,
      "outputs": [
        {
          "output_type": "stream",
          "name": "stdout",
          "text": [
            "*\n",
            "**\n",
            "***\n",
            "****\n"
          ]
        }
      ]
    },
    {
      "cell_type": "markdown",
      "source": [
        "><font color='red'>II.</font>\n",
        "                \n",
        "                  1\n",
        "                  1 2\n",
        "                  1 2 3\n",
        "                  1 2 3 4\n",
        "                  "
      ],
      "metadata": {
        "id": "J8FgeaTYGuvT"
      }
    },
    {
      "cell_type": "code",
      "source": [
        "for i in range(1, 5):    \n",
        "        for j in range(1, i + 1):  \n",
        "            print(j , end=\" \")         \n",
        "        print()  "
      ],
      "metadata": {
        "colab": {
          "base_uri": "https://localhost:8080/"
        },
        "id": "rKtXL3_KG5kE",
        "outputId": "2bf8b9e2-1aca-4cd8-8e2c-41d31715e7eb"
      },
      "execution_count": 6,
      "outputs": [
        {
          "output_type": "stream",
          "name": "stdout",
          "text": [
            "1 \n",
            "1 2 \n",
            "1 2 3 \n",
            "1 2 3 4 \n"
          ]
        }
      ]
    },
    {
      "cell_type": "markdown",
      "source": [
        "<font color='red'>2.Write a program to print the sum of ‘n’ natural numbers. ‘n’ will be provided by user.</font>"
      ],
      "metadata": {
        "id": "gsknHGd5IvNS"
      }
    },
    {
      "cell_type": "code",
      "source": [
        "n = int(input('Enter number : '))\n",
        "sum = 0\n",
        "for i in range(1 , n+1):\n",
        "  sum+=i\n",
        "\n",
        "print(sum)"
      ],
      "metadata": {
        "colab": {
          "base_uri": "https://localhost:8080/"
        },
        "id": "oCK4fBBiIZBB",
        "outputId": "4d14d27e-b4f6-447c-cd50-3afac395f4e9"
      },
      "execution_count": 8,
      "outputs": [
        {
          "output_type": "stream",
          "name": "stdout",
          "text": [
            "Enter number : 10\n",
            "55\n"
          ]
        }
      ]
    },
    {
      "cell_type": "markdown",
      "source": [
        "<font color='red'>3.Write a program to take a input number from user and print whether the given no. is even or odd.</font>"
      ],
      "metadata": {
        "id": "8VIshaPjKpcE"
      }
    },
    {
      "cell_type": "code",
      "source": [
        "num = int(input('Enter Number : '))\n",
        "\n",
        "if num % 2 == 0:\n",
        "  print(num, 'is even number.')\n",
        "else:\n",
        "  print(num, 'is odd number.')"
      ],
      "metadata": {
        "colab": {
          "base_uri": "https://localhost:8080/"
        },
        "id": "Vjs_L_hxJn1J",
        "outputId": "1ac8560c-4ec7-4e3b-dc33-8f68af8f5486"
      },
      "execution_count": 10,
      "outputs": [
        {
          "output_type": "stream",
          "name": "stdout",
          "text": [
            "Enter Number : 12\n",
            "12 is even number.\n"
          ]
        }
      ]
    },
    {
      "cell_type": "markdown",
      "source": [
        "<font color='red'>4.Define a class person with<br>->properties : eid, pname<br>->methods : set_eid, set_pname, get_pname, get_pid<br>Define an employee class that must inherit person class with<br>->\n",
        "properties : department, Designation<br>\n",
        "->methods : get_salary(abstract), display_emp_info<br>Note: display_emp_info must display eid, pname, department and designation</font>"
      ],
      "metadata": {
        "id": "w-as-TB1OAOD"
      }
    },
    {
      "cell_type": "code",
      "source": [
        "class person(object):\n",
        "  def __init__(self,eid,pname):\n",
        "    self.eid = eid\n",
        "    self.pname = pname\n",
        "\n",
        "  def get_pname(self):\n",
        "    return self.pname\n",
        "\n",
        "  def set_pname(self,x):\n",
        "    self.pname = x\n",
        "\n",
        "  \n",
        "  def get_eid(self):\n",
        "    return self.eid\n",
        "\n",
        "  def set_eid(self,y):\n",
        "    self.eid = y\n",
        "\n",
        "\n",
        "\n",
        "class employee(person):\n",
        "  def __init__(self,eid,pname,department,designation):\n",
        "    self.department = department\n",
        "    self.designation = designation\n",
        "\n",
        "    person.__init__(self,eid,pname)\n",
        "\n",
        "  def display_emp_info(self):\n",
        "    print('eid : ',self.eid)\n",
        "    print('pname : ',self.pname)\n",
        "    print('department : ',self.department)\n",
        "    print('designation : ',self.designation)\n",
        "\n",
        "\n",
        "a = employee(1,'Omkar','IT','Data Analyst')\n",
        "a.display_emp_info()"
      ],
      "metadata": {
        "colab": {
          "base_uri": "https://localhost:8080/"
        },
        "id": "9_nfUpr3LLB_",
        "outputId": "bac6c8f0-0775-4cc7-d734-d43920af5875"
      },
      "execution_count": 14,
      "outputs": [
        {
          "output_type": "stream",
          "name": "stdout",
          "text": [
            "eid :  1\n",
            "pname :  Omkar\n",
            "department :  IT\n",
            "designation :  Data Analyst\n"
          ]
        }
      ]
    },
    {
      "cell_type": "code",
      "source": [
        ""
      ],
      "metadata": {
        "id": "00Yrv4H3W4tO"
      },
      "execution_count": null,
      "outputs": []
    }
  ]
}