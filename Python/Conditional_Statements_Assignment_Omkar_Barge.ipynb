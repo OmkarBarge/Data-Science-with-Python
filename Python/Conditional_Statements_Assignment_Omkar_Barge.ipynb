{
  "cells": [
    {
      "cell_type": "markdown",
      "id": "661d4847",
      "metadata": {
        "id": "661d4847"
      },
      "source": [
        "Question 1 : Write a program to accept percentage from the user and display the grade according to the following criteria:\n",
        "\n",
        "         Marks                                      Grade\n",
        "         > 90                                         A\n",
        "         > 80 and <= 90                               B\n",
        "         >= 60 and <= 80                              C\n",
        "         below 60                                     D"
      ]
    },
    {
      "cell_type": "code",
      "source": [
        "marks = int(input('Enter Marks : '))\n",
        "if marks > 90:\n",
        "  print(\"Grade A\")\n",
        "elif marks > 80 and marks <=90:\n",
        "  print(\"Grade B\")\n",
        "elif marks >= 60 and marks <=80:\n",
        "  print(\"Grade C\")\n",
        "else:\n",
        "  print('Grade D')"
      ],
      "metadata": {
        "colab": {
          "base_uri": "https://localhost:8080/"
        },
        "id": "FezwS1lyTZA0",
        "outputId": "4be1b793-fb23-474f-dc38-647b2da4019c"
      },
      "id": "FezwS1lyTZA0",
      "execution_count": 1,
      "outputs": [
        {
          "output_type": "stream",
          "name": "stdout",
          "text": [
            "Enter Marks : 59\n",
            "Grade D\n"
          ]
        }
      ]
    },
    {
      "cell_type": "markdown",
      "id": "7f970c5b",
      "metadata": {
        "id": "7f970c5b"
      },
      "source": [
        "Question 2 : Write a program to accept a number from 1 to 7 and display the name of the day like 1 for Sunday , 2 for Monday and so on."
      ]
    },
    {
      "cell_type": "code",
      "source": [
        "num = int(input('Enter number between 1 to 7 : '))\n",
        "if num == 1:\n",
        "  print('Sunday')\n",
        "elif num == 2:\n",
        "  print('Monday')\n",
        "elif num == 3:\n",
        "  print('Tuesday')\n",
        "elif num == 4:\n",
        "  print('Wednesday')\n",
        "elif num == 5:\n",
        "  print('Thursday')\n",
        "elif num == 6:\n",
        "  print('Friday')\n",
        "elif num == 7:\n",
        "  print('Saturday')\n",
        "else:\n",
        "  print(\"Please enter number in between 1 to 7\")"
      ],
      "metadata": {
        "colab": {
          "base_uri": "https://localhost:8080/"
        },
        "id": "y766_TzCUBIy",
        "outputId": "2c1e54ea-d432-4a52-88e3-365bf4958b5d"
      },
      "id": "y766_TzCUBIy",
      "execution_count": 2,
      "outputs": [
        {
          "output_type": "stream",
          "name": "stdout",
          "text": [
            "Enter number between 1 to 7 : 5\n",
            "Thursday\n"
          ]
        }
      ]
    },
    {
      "cell_type": "markdown",
      "id": "038fe9f3",
      "metadata": {
        "id": "038fe9f3"
      },
      "source": [
        "Question 3 : Accept any city from the user and display monument of that city.\n",
        "                  City                                 Monument\n",
        "                  Delhi                               Red Fort\n",
        "                  Agra                                Taj Mahal\n",
        "                  Jaipur                              Jal Mahal"
      ]
    },
    {
      "cell_type": "code",
      "source": [
        "city = input(\"Enter City name 1.Delhi 2.Agra 3.Jaipur : \")\n",
        "\n",
        "if city == 'Delhi':\n",
        "  print(\"Monument = Red Fort\")\n",
        "elif city == 'Agra':\n",
        "  print(\"Monument = Taj Mahal\")\n",
        "elif city == 'Jaipur':\n",
        "  print(\"Monument = Jal Mahal\")\n",
        "else:\n",
        "  print(\"Please enter city which is listed.\")"
      ],
      "metadata": {
        "colab": {
          "base_uri": "https://localhost:8080/"
        },
        "id": "SxLXc-D1Uo6Y",
        "outputId": "f0915e97-4126-4180-a29a-c1686241045a"
      },
      "id": "SxLXc-D1Uo6Y",
      "execution_count": 4,
      "outputs": [
        {
          "output_type": "stream",
          "name": "stdout",
          "text": [
            "Enter City name 1.Delhi 2.Agra 3.Jaipur : Delhi\n",
            "Monument = Red Fort\n"
          ]
        }
      ]
    },
    {
      "cell_type": "markdown",
      "id": "33000ac8",
      "metadata": {
        "id": "33000ac8"
      },
      "source": [
        "Question 4 : Write a program to check whether a person is eligible for voting or not.(voting age >=18)"
      ]
    },
    {
      "cell_type": "code",
      "source": [
        "age = int(input('Enter Age : '))\n",
        "\n",
        "if age >= 18:\n",
        "  print('Eligible for voting.')\n",
        "else:\n",
        "  print(\"Not eligible for voting\")"
      ],
      "metadata": {
        "colab": {
          "base_uri": "https://localhost:8080/"
        },
        "id": "EWwOTIQaVNUm",
        "outputId": "732d8cbe-3adf-47f0-c020-fd5852d16445"
      },
      "id": "EWwOTIQaVNUm",
      "execution_count": 6,
      "outputs": [
        {
          "output_type": "stream",
          "name": "stdout",
          "text": [
            "Enter Age : 25\n",
            "Eligible for voting.\n"
          ]
        }
      ]
    },
    {
      "cell_type": "markdown",
      "id": "795006dc",
      "metadata": {
        "id": "795006dc"
      },
      "source": [
        "Question 5 : Write a program to check whether a person is senior citizen or not."
      ]
    },
    {
      "cell_type": "code",
      "source": [
        "a = int(input(\"Enter age : \"))\n",
        "\n",
        "if age >= 60:\n",
        "  print(\"Senoir Citizen\")\n",
        "else:\n",
        "  print(\"Not a senior Citizen\")"
      ],
      "metadata": {
        "colab": {
          "base_uri": "https://localhost:8080/"
        },
        "id": "L8cwMAZ1VcwE",
        "outputId": "91a4ef02-19df-4812-98f1-874e758b1e3b"
      },
      "id": "L8cwMAZ1VcwE",
      "execution_count": 7,
      "outputs": [
        {
          "output_type": "stream",
          "name": "stdout",
          "text": [
            "Enter age : 25\n",
            "Not a senior Citizen\n"
          ]
        }
      ]
    },
    {
      "cell_type": "markdown",
      "id": "84d5aad3",
      "metadata": {
        "id": "84d5aad3"
      },
      "source": [
        "Question 6 : Write a program to find the lowest number out of two numbers excepted from user."
      ]
    },
    {
      "cell_type": "code",
      "source": [
        "x , y = map(int,input().split())\n",
        "if x < y:\n",
        "  print(x,\"is lowest number\")\n",
        "else:\n",
        "  print(y ,\"is lowest number\")"
      ],
      "metadata": {
        "colab": {
          "base_uri": "https://localhost:8080/"
        },
        "id": "f2Xlqu5QVvFY",
        "outputId": "4e9475e7-7903-4f3b-e266-7982a7ee23c6"
      },
      "id": "f2Xlqu5QVvFY",
      "execution_count": 11,
      "outputs": [
        {
          "output_type": "stream",
          "name": "stdout",
          "text": [
            "25 14\n",
            "14 is lowest number\n"
          ]
        }
      ]
    },
    {
      "cell_type": "markdown",
      "id": "11ad8541",
      "metadata": {
        "id": "11ad8541"
      },
      "source": [
        "Question 7 : Write a program to find the largest number out of two numbers excepted from user."
      ]
    },
    {
      "cell_type": "code",
      "source": [
        "x , y = map(int,input().split())\n",
        "if x > y:\n",
        "  print(x,\"is largest number\")\n",
        "else:\n",
        "  print(y ,\"is largest number\")"
      ],
      "metadata": {
        "colab": {
          "base_uri": "https://localhost:8080/"
        },
        "id": "sukfKqJ4WSfF",
        "outputId": "d5a5ac8f-2daf-46e4-954c-8257a64992fa"
      },
      "id": "sukfKqJ4WSfF",
      "execution_count": 12,
      "outputs": [
        {
          "output_type": "stream",
          "name": "stdout",
          "text": [
            "36 50\n",
            "50 is largest number\n"
          ]
        }
      ]
    },
    {
      "cell_type": "markdown",
      "id": "e6e1f0a3",
      "metadata": {
        "id": "e6e1f0a3"
      },
      "source": [
        "Question 8 : Accept the following from the user and calculate the percentage of class attended:\n",
        "\n",
        "a.     Total number of working days\n",
        "\n",
        "b.     Total number of days for absent\n",
        "\n",
        "After calculating percentage show that, If the percentage is less than 75, than student will not be able to sit in exam."
      ]
    },
    {
      "cell_type": "code",
      "source": [
        "work_day = int(input(\"Enter working days : \"))\n",
        "absent_day = int(input(\"Enter absent days : \"))\n",
        "total_days = work_day + absent_day\n",
        "per = (work_day/total_days)*100\n",
        "if per >= 75:\n",
        "  print(\"Eligible\")\n",
        "else:\n",
        "  print(\"Not Eligible\")"
      ],
      "metadata": {
        "colab": {
          "base_uri": "https://localhost:8080/"
        },
        "id": "wOqqyzN4WjLw",
        "outputId": "92ffbdb4-1577-4c0c-89ba-8b6c7670a634"
      },
      "id": "wOqqyzN4WjLw",
      "execution_count": 17,
      "outputs": [
        {
          "output_type": "stream",
          "name": "stdout",
          "text": [
            "Enter working days : 150\n",
            "Enter absent days : 12\n",
            "Eligible\n"
          ]
        }
      ]
    },
    {
      "cell_type": "markdown",
      "id": "566be231",
      "metadata": {
        "id": "566be231"
      },
      "source": [
        "Question 9 : Accept the percentage from the user and display the  grade according to the following criteria:\n",
        "\n",
        "    Below 25 —- D\n",
        "    25 to 45 —- C\n",
        "    45 to 50 —- B\n",
        "    50 to 60 –– B+\n",
        "    60 to 80 — A\n",
        "    Above 80 –- A+"
      ]
    },
    {
      "cell_type": "code",
      "source": [
        "marks = int(input('Enter Marks : '))\n",
        "if marks > 80:\n",
        "  print(\"Grade A+\")\n",
        "elif marks >= 60 and marks <=80:\n",
        "  print(\"Grade A\")\n",
        "elif marks >= 50 and marks <=60:\n",
        "  print(\"Grade B+\")\n",
        "elif marks >= 45 and marks <=50:\n",
        "  print(\"Grade B\")\n",
        "elif marks >= 25 and marks <=45:\n",
        "  print(\"Grade C\")\n",
        "else:\n",
        "  print('Grade D')"
      ],
      "metadata": {
        "colab": {
          "base_uri": "https://localhost:8080/"
        },
        "id": "wK2zVkZtXwNE",
        "outputId": "73149272-7902-4b2e-b525-a891e56c49f3"
      },
      "id": "wK2zVkZtXwNE",
      "execution_count": 18,
      "outputs": [
        {
          "output_type": "stream",
          "name": "stdout",
          "text": [
            "Enter Marks : 25\n",
            "Grade C\n"
          ]
        }
      ]
    },
    {
      "cell_type": "markdown",
      "id": "8d8ce794",
      "metadata": {
        "id": "8d8ce794"
      },
      "source": [
        "Question 10 :Write a program to accept percentage and display the Category according to the  following criteria :\n",
        "\n",
        "Percentage\t Category\n",
        "< 40\t      Failed\n",
        ">=40 & <55\t   Fair\n",
        ">=55 & <65\t   Good\n",
        ">=65\t     Excellent"
      ]
    },
    {
      "cell_type": "code",
      "source": [
        "perr = int(input('Enter Percentage : '))\n",
        "\n",
        "if perr >= 65:\n",
        "  print(\"Excellent\")\n",
        "elif perr >=55 and perr < 65:\n",
        "  print('Good')\n",
        "elif perr >= 40 and perr < 55:\n",
        "  print('Fair')\n",
        "else:\n",
        "  print('Failed')"
      ],
      "metadata": {
        "colab": {
          "base_uri": "https://localhost:8080/"
        },
        "id": "FxMXN886YV1l",
        "outputId": "16bf18a1-cd79-4f0c-815a-8a6ce1442943"
      },
      "id": "FxMXN886YV1l",
      "execution_count": 19,
      "outputs": [
        {
          "output_type": "stream",
          "name": "stdout",
          "text": [
            "Enter Percentage : 99\n",
            "Excellent\n"
          ]
        }
      ]
    },
    {
      "cell_type": "code",
      "source": [
        ""
      ],
      "metadata": {
        "id": "h3EuMszPY4T0"
      },
      "id": "h3EuMszPY4T0",
      "execution_count": null,
      "outputs": []
    }
  ],
  "metadata": {
    "kernelspec": {
      "display_name": "Python 3 (ipykernel)",
      "language": "python",
      "name": "python3"
    },
    "language_info": {
      "codemirror_mode": {
        "name": "ipython",
        "version": 3
      },
      "file_extension": ".py",
      "mimetype": "text/x-python",
      "name": "python",
      "nbconvert_exporter": "python",
      "pygments_lexer": "ipython3",
      "version": "3.9.7"
    },
    "colab": {
      "name": "Conditional Statements - Assignment-Omkar Barge.ipynb",
      "provenance": [],
      "collapsed_sections": []
    }
  },
  "nbformat": 4,
  "nbformat_minor": 5
}