{
  "nbformat": 4,
  "nbformat_minor": 0,
  "metadata": {
    "colab": {
      "name": "List, Set, and Tuples - Assignment- Omkar Barge.ipynb",
      "provenance": [],
      "collapsed_sections": []
    },
    "kernelspec": {
      "name": "python3",
      "display_name": "Python 3"
    },
    "language_info": {
      "name": "python"
    }
  },
  "cells": [
    {
      "cell_type": "markdown",
      "source": [
        "> # 1.What will be the output of the following code snippet?\n",
        "    a=[1,2,3,4,5]<br>\n",
        "    print(a[3:0:-1])<br>\n",
        "    Answer : - [4,3,2]\n",
        "\n",
        "> # 2.Which list index would select the value 'red' from the above list<br>\n",
        "    colors = [\"red\", \"green\", \"burnt sienna\", \"blue\"]<br>\n",
        "    Answer : colors[0]\n",
        "\n",
        "> # 3.What will be the output of the following code snippet?<br>\n",
        "    arr = [[1, 2, 3, 4],[4, 5, 6, 7],[8, 9, 10, 11],[12, 13, 14, 15]]\n",
        "    for i in range(0, 4):\n",
        "      print(arr[i].pop())\n",
        "    Answer:4\n",
        "           7\n",
        "          11\n",
        "          15    \n",
        "\n",
        "> # 4.How to Sort List Of Tuples By Second Element<br>\n",
        "    lang_listtuple= [('C#',1), ('Go',7), ('Basic',8), ('Python',60)]\n",
        "    Write the syntax for the above question.\n",
        "    Answer: lang_listtuple.sort(key = lambda item:item[1]\n",
        "\n",
        "> # 5.How to remove duplicates from a list of tuples using the list        comprehension technique?\n",
        "    tupleslist_of_tuples= [(\"C#\", 1), (\"C#\", 1), (\"C++\", 3),(\"C++\", 3), (\"Python\", 25), (\"Rust\", 30)]\n",
        "    Write the syntax for the above question\n",
        "    Answer:-unique_list_of_tuples=list(set([item for item  in list_of_tuples]\n",
        "\n",
        "> # 6.Convert list to tuple.\n",
        "    listelements = ['C#', 'Java', 'Go', 'Rust']\n",
        "    Write the syntax for the above question.\n",
        "    Answer :- t =  tuple(listelements\n",
        "\n",
        "> # 7.Get the number of items in a set:\n",
        "    thisset = {\"apple\", \"banana\", \"cherry\"}\n",
        "    Write the syntax for the above question.<br>\n",
        "    Answer: len(thisset)\n",
        "\n",
        "> # 8.Check if \"apple\" is present in the ‘fruits’ set using the membership test method.\n",
        "    fruits = {\"apple\", \"banana\", \"cherry\"}\n",
        "    Write the syntax for the above question.\n",
        "    Answer: if \"apple\"  in fruits:\n",
        "    print(\"Yes, apple is a fruit!\"\n",
        "\n",
        "> # 9.Use the correct method to add multiple items (more_fruits) to the fruits set.\n",
        "    fruits = {\"apple\", \"banana\", \"cherry\"}\n",
        "    more_fruits = [\"orange\", \"mango\", \"grapes\"]\n",
        "    Hint: Use ‘update’ method in python\n",
        "    Answer: fruits.update(more_fruits)2\n"
      ],
      "metadata": {
        "id": "RZSUtrQMid9F"
      }
    }
  ]
}