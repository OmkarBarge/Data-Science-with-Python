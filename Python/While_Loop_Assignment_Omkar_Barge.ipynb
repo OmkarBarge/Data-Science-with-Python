{
  "cells": [
    {
      "cell_type": "markdown",
      "metadata": {
        "id": "WuZhpYg_d1BF"
      },
      "source": [
        "Question 1 - Write a program to print n natural number in descending order using a while loop."
      ]
    },
    {
      "cell_type": "code",
      "source": [
        "n = int(input('Enter NUmber : '))\n",
        "\n",
        "while n >= 1:\n",
        "  print(n)\n",
        "  n-=1"
      ],
      "metadata": {
        "colab": {
          "base_uri": "https://localhost:8080/"
        },
        "id": "wv_eWxzBeC8N",
        "outputId": "820bc2cb-d932-43d5-a888-d15213275d04"
      },
      "execution_count": 2,
      "outputs": [
        {
          "output_type": "stream",
          "name": "stdout",
          "text": [
            "Enter NUmber : 25\n",
            "25\n",
            "24\n",
            "23\n",
            "22\n",
            "21\n",
            "20\n",
            "19\n",
            "18\n",
            "17\n",
            "16\n",
            "15\n",
            "14\n",
            "13\n",
            "12\n",
            "11\n",
            "10\n",
            "9\n",
            "8\n",
            "7\n",
            "6\n",
            "5\n",
            "4\n",
            "3\n",
            "2\n",
            "1\n"
          ]
        }
      ]
    },
    {
      "cell_type": "markdown",
      "source": [
        "Question 2 - Write a python program to print the square of all numbers from 0 to 10\n"
      ],
      "metadata": {
        "id": "u6cbV1kGd1BP"
      }
    },
    {
      "cell_type": "code",
      "source": [
        "s = 0\n",
        "while s <= 10:\n",
        "  print(s**2)\n",
        "  s+=1"
      ],
      "metadata": {
        "colab": {
          "base_uri": "https://localhost:8080/"
        },
        "id": "WFk1asgQeluL",
        "outputId": "0aea30fd-3591-4023-8a38-0c423f0460f3"
      },
      "execution_count": 5,
      "outputs": [
        {
          "output_type": "stream",
          "name": "stdout",
          "text": [
            "0\n",
            "1\n",
            "4\n",
            "9\n",
            "16\n",
            "25\n",
            "36\n",
            "49\n",
            "64\n",
            "81\n",
            "100\n"
          ]
        }
      ]
    },
    {
      "cell_type": "markdown",
      "metadata": {
        "id": "ax7BDUupd1BR"
      },
      "source": [
        "Question 3 - Write a python program to write your name 5 times using while loop"
      ]
    },
    {
      "cell_type": "code",
      "source": [
        "n = 1\n",
        "while n <= 5:\n",
        "  print('Omkar')\n",
        "  n+=1"
      ],
      "metadata": {
        "colab": {
          "base_uri": "https://localhost:8080/"
        },
        "id": "AvaMHeD8e61u",
        "outputId": "c555aa0d-e82c-4b62-9d75-892caddab95b"
      },
      "execution_count": 6,
      "outputs": [
        {
          "output_type": "stream",
          "name": "stdout",
          "text": [
            "Omkar\n",
            "Omkar\n",
            "Omkar\n",
            "Omkar\n",
            "Omkar\n"
          ]
        }
      ]
    },
    {
      "cell_type": "markdown",
      "metadata": {
        "id": "KI_rFDRHd1BS"
      },
      "source": [
        "Question 4 - Write a python program to print the factorial of a given number"
      ]
    },
    {
      "cell_type": "code",
      "source": [
        "fact = int(input('ENter Number  : '))\n",
        "f = 1\n",
        "while fact>=1:\n",
        "  f = f * fact\n",
        "  fact-=1\n",
        "\n",
        "print(f)"
      ],
      "metadata": {
        "colab": {
          "base_uri": "https://localhost:8080/"
        },
        "id": "4xSnhvKSfDaP",
        "outputId": "10a9fb6f-0bf5-430c-8c43-b5a4336e3381"
      },
      "execution_count": 10,
      "outputs": [
        {
          "output_type": "stream",
          "name": "stdout",
          "text": [
            "ENter Number  : 5\n",
            "120\n"
          ]
        }
      ]
    },
    {
      "cell_type": "markdown",
      "metadata": {
        "id": "OB1Gv5mrd1BS"
      },
      "source": [
        "Question 5 - Write a python program to find the sum of all even numbers from 0 to 10"
      ]
    },
    {
      "cell_type": "code",
      "source": [
        "en = 1\n",
        "\n",
        "while en <= 10:\n",
        "  if en % 2 == 0:\n",
        "    print(en)\n",
        "  en+=1"
      ],
      "metadata": {
        "colab": {
          "base_uri": "https://localhost:8080/"
        },
        "id": "Y58NdVRSgicQ",
        "outputId": "f752cf89-e0bc-4c6b-d1c1-b566c4557a8c"
      },
      "execution_count": 13,
      "outputs": [
        {
          "output_type": "stream",
          "name": "stdout",
          "text": [
            "2\n",
            "4\n",
            "6\n",
            "8\n",
            "10\n"
          ]
        }
      ]
    },
    {
      "cell_type": "code",
      "source": [
        ""
      ],
      "metadata": {
        "id": "kQuI4q5ZgwA6"
      },
      "execution_count": null,
      "outputs": []
    }
  ],
  "metadata": {
    "language_info": {
      "name": "python"
    },
    "orig_nbformat": 4,
    "colab": {
      "name": "While Loop - Assignment-Omkar Barge.ipynb",
      "provenance": []
    },
    "kernelspec": {
      "name": "python3",
      "display_name": "Python 3"
    },
    "gpuClass": "standard"
  },
  "nbformat": 4,
  "nbformat_minor": 0
}