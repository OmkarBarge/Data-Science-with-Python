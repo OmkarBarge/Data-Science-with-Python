{
  "nbformat": 4,
  "nbformat_minor": 0,
  "metadata": {
    "colab": {
      "name": "Inbuilt Functions - Assignment-Omkar Barge.ipynb",
      "provenance": [],
      "collapsed_sections": []
    },
    "kernelspec": {
      "name": "python3",
      "display_name": "Python 3"
    },
    "language_info": {
      "name": "python"
    }
  },
  "cells": [
    {
      "cell_type": "code",
      "execution_count": 2,
      "metadata": {
        "colab": {
          "base_uri": "https://localhost:8080/"
        },
        "id": "3M5MH5MOI_fr",
        "outputId": "bb057b90-da02-42d0-94ed-16f211e38c54"
      },
      "outputs": [
        {
          "output_type": "stream",
          "name": "stdout",
          "text": [
            "[{'make': 'Nokia', 'model': 216, 'color': 'Black'}, {'make': 'Samsung', 'model': 7, 'color': 'Blue'}, {'make': 'MiMax', 'model': '2', 'color': 'Gold'}]\n"
          ]
        }
      ],
      "source": [
        "# 1.Write a Python program to sort the given list of dictionaries using Lambda\n",
        "\n",
        "models=[{'make':'Nokia','model':216,'color':'Black'},{'make':'MiMax','model':'2', 'color':'Gold'}, {'make':'Samsung', 'model': 7, 'color':'Blue'}]\n",
        "\n",
        "s = sorted(models,key = lambda x:x['color'])\n",
        "\n",
        "print(s)"
      ]
    },
    {
      "cell_type": "code",
      "source": [
        "# 2.Write a python program to filter out the vowels from the given list of alphabets and print the consonants.\n",
        "letters = ['a', 'b', 'd', 'e', 'p', 'j', 'i','s', 'o', 'r',]\n",
        "\n",
        "def filter_non_vowels(letters):\n",
        "  vowels = ['a', 'e', 'i', 'o', 'u']\n",
        "  if(letters in vowels):\n",
        "    return False\n",
        "  else:\n",
        "    return True\n",
        "    \n",
        "filter_non_vowels = filter(filter_non_vowels, letters)\n",
        "print('The filtered non-vowels are:')\n",
        "for non_vowel in filter_non_vowels:\n",
        "  print(non_vowel)\n"
      ],
      "metadata": {
        "colab": {
          "base_uri": "https://localhost:8080/"
        },
        "id": "xcBRFD63JfDM",
        "outputId": "b9f544c1-bd53-43df-97c0-48077a5ff413"
      },
      "execution_count": 3,
      "outputs": [
        {
          "output_type": "stream",
          "name": "stdout",
          "text": [
            "The filtered non-vowels are:\n",
            "b\n",
            "d\n",
            "p\n",
            "j\n",
            "s\n",
            "r\n"
          ]
        }
      ]
    },
    {
      "cell_type": "code",
      "source": [
        "#3.Write a Python program to create a function that takes one argument,and that argument will be multiplied with an unknown given number.Print the double, triple and quadruple of the number\n",
        "\n",
        "def compute(n):\n",
        "  return lambda x : x * n\n",
        "result = compute(2)\n",
        "print(\"Double the number of 25 =\", result(25))\n",
        "result = compute(3)\n",
        "print(\"Triple the number of 25 =\", result(25))\n",
        "result = compute(4)\n",
        "print(\"Quadruple the number of 25 =\", result(25))"
      ],
      "metadata": {
        "colab": {
          "base_uri": "https://localhost:8080/"
        },
        "id": "Ucb9KP8SJ_Bw",
        "outputId": "e0368499-6ab2-4771-d8ed-050de231daba"
      },
      "execution_count": 5,
      "outputs": [
        {
          "output_type": "stream",
          "name": "stdout",
          "text": [
            "Double the number of 25 = 50\n",
            "Triple the number of 25 = 75\n",
            "Quadruple the number of 25 = 100\n"
          ]
        }
      ]
    },
    {
      "cell_type": "code",
      "source": [
        "# 4.Write a Python program to enumerate the string “Python”\n",
        "\n",
        "String = \"Python\"\n",
        "for i, j in enumerate(String):\n",
        "  print(i, j)"
      ],
      "metadata": {
        "colab": {
          "base_uri": "https://localhost:8080/"
        },
        "id": "601APgRZKm2X",
        "outputId": "a0f9c573-faa4-437a-d66b-0c9b61adf1b9"
      },
      "execution_count": 6,
      "outputs": [
        {
          "output_type": "stream",
          "name": "stdout",
          "text": [
            "0 P\n",
            "1 y\n",
            "2 t\n",
            "3 h\n",
            "4 o\n",
            "5 n\n"
          ]
        }
      ]
    },
    {
      "cell_type": "code",
      "source": [
        "# 5.Filter the array,and return a new array with only the values equal to or less than 18\n",
        "\n",
        "Number = [5, 12, 17, 18, 24, 32]\n",
        "def myFunc(x):\n",
        "  if x > 18:\n",
        "    return False\n",
        "  else:\n",
        "    return True\n",
        "    \n",
        "filtered_number = filter(myFunc, Number)\n",
        "for x in filtered_number:\n",
        "  print(x)\n"
      ],
      "metadata": {
        "colab": {
          "base_uri": "https://localhost:8080/"
        },
        "id": "K6vyQJHRKx80",
        "outputId": "5a2e1883-4957-4413-9640-ca7c25f4e069"
      },
      "execution_count": 7,
      "outputs": [
        {
          "output_type": "stream",
          "name": "stdout",
          "text": [
            "5\n",
            "12\n",
            "17\n",
            "18\n"
          ]
        }
      ]
    },
    {
      "cell_type": "code",
      "source": [
        ""
      ],
      "metadata": {
        "id": "GHHNtFIILH2L"
      },
      "execution_count": null,
      "outputs": []
    }
  ]
}