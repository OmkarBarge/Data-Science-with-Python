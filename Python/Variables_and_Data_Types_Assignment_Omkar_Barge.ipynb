{
  "nbformat": 4,
  "nbformat_minor": 0,
  "metadata": {
    "colab": {
      "name": "Variables and Data Types - Assignment Omkar Barge.ipynb",
      "provenance": [],
      "collapsed_sections": []
    },
    "kernelspec": {
      "name": "python3",
      "display_name": "Python 3"
    },
    "language_info": {
      "name": "python"
    }
  },
  "cells": [
    {
      "cell_type": "markdown",
      "source": [
        "> <pre>Python Variable</pre>\n"
      ],
      "metadata": {
        "id": "Q0ZQrl2tjsA9"
      }
    },
    {
      "cell_type": "code",
      "source": [
        "a = 10\n",
        "print(a)"
      ],
      "metadata": {
        "colab": {
          "base_uri": "https://localhost:8080/"
        },
        "id": "qI31PLBdj8L6",
        "outputId": "953f3944-5c71-4b5c-e3a2-34551199750e"
      },
      "execution_count": 1,
      "outputs": [
        {
          "output_type": "stream",
          "name": "stdout",
          "text": [
            "10\n"
          ]
        }
      ]
    },
    {
      "cell_type": "code",
      "source": [
        "#Reassigning values to variable\n",
        "p = 20 \n",
        "print(p)\n",
        "p = 'Python'\n",
        "print(p)"
      ],
      "metadata": {
        "colab": {
          "base_uri": "https://localhost:8080/"
        },
        "id": "DMBSSw10j-oN",
        "outputId": "669e8ae2-b71f-40a1-f245-f6d0ee6d5a18"
      },
      "execution_count": 2,
      "outputs": [
        {
          "output_type": "stream",
          "name": "stdout",
          "text": [
            "20\n",
            "Python\n"
          ]
        }
      ]
    },
    {
      "cell_type": "code",
      "source": [
        "#Python allows you to assign a single value to several variables simultaneously.\n",
        "a = b = c = 1\n",
        "print(a)\n",
        "print(b)\n",
        "print(c)"
      ],
      "metadata": {
        "colab": {
          "base_uri": "https://localhost:8080/"
        },
        "id": "q3JLGZnSkNZP",
        "outputId": "d05a97ee-290e-4079-b30a-e84973c165af"
      },
      "execution_count": 4,
      "outputs": [
        {
          "output_type": "stream",
          "name": "stdout",
          "text": [
            "1\n",
            "1\n",
            "1\n"
          ]
        }
      ]
    },
    {
      "cell_type": "code",
      "source": [
        "#Python also assigns multiple objects to multiple variables.\n",
        "a,b,c = 'John',1,2 \n",
        "print(a)\n",
        "print(b)\n",
        "print(c)"
      ],
      "metadata": {
        "colab": {
          "base_uri": "https://localhost:8080/"
        },
        "id": "ltQ4lb2akTb-",
        "outputId": "5b741805-d704-4b8c-9a40-56a0820b69d7"
      },
      "execution_count": 5,
      "outputs": [
        {
          "output_type": "stream",
          "name": "stdout",
          "text": [
            "John\n",
            "1\n",
            "2\n"
          ]
        }
      ]
    },
    {
      "cell_type": "markdown",
      "source": [
        "> <pre>Python Data Types</pre>"
      ],
      "metadata": {
        "id": "x2SbSrgbkg54"
      }
    },
    {
      "cell_type": "code",
      "source": [
        "#string data type\n",
        "v5 = \"Welcome to Python\"\n",
        "print(v5)\n",
        "print(type(v5))"
      ],
      "metadata": {
        "colab": {
          "base_uri": "https://localhost:8080/"
        },
        "id": "tLfVdaxLkob8",
        "outputId": "938fc466-b18e-4704-dc40-a1c405194b98"
      },
      "execution_count": 6,
      "outputs": [
        {
          "output_type": "stream",
          "name": "stdout",
          "text": [
            "Welcome to Python\n",
            "<class 'str'>\n"
          ]
        }
      ]
    },
    {
      "cell_type": "code",
      "source": [
        "#integer data type\n",
        "v1 = 10\n",
        "print(v1)\n",
        "print(type(v1))"
      ],
      "metadata": {
        "colab": {
          "base_uri": "https://localhost:8080/"
        },
        "id": "CFzkxDMNkvLR",
        "outputId": "02439a83-0897-4e17-830e-938b0322c20d"
      },
      "execution_count": 7,
      "outputs": [
        {
          "output_type": "stream",
          "name": "stdout",
          "text": [
            "10\n",
            "<class 'int'>\n"
          ]
        }
      ]
    },
    {
      "cell_type": "code",
      "source": [
        "#float data type\n",
        "v2 = 10.55\n",
        "print(v2)\n",
        "print(type(v2))"
      ],
      "metadata": {
        "colab": {
          "base_uri": "https://localhost:8080/"
        },
        "id": "abF-JHqEk4i4",
        "outputId": "7c05f8c0-2aa5-49cf-bbaa-fb55ada593ba"
      },
      "execution_count": 8,
      "outputs": [
        {
          "output_type": "stream",
          "name": "stdout",
          "text": [
            "10.55\n",
            "<class 'float'>\n"
          ]
        }
      ]
    },
    {
      "cell_type": "code",
      "source": [
        "#Boolean data type\n",
        "v3 = True\n",
        "print(v3)\n",
        "print(type(v3))"
      ],
      "metadata": {
        "colab": {
          "base_uri": "https://localhost:8080/"
        },
        "id": "5YA50P9wlAcG",
        "outputId": "b6ce8298-0dd5-4500-8881-a0be52a653fa"
      },
      "execution_count": 9,
      "outputs": [
        {
          "output_type": "stream",
          "name": "stdout",
          "text": [
            "True\n",
            "<class 'bool'>\n"
          ]
        }
      ]
    },
    {
      "cell_type": "code",
      "source": [
        "#None data type\n",
        "v4 = None\n",
        "print(v4)\n",
        "print(type(v4))"
      ],
      "metadata": {
        "colab": {
          "base_uri": "https://localhost:8080/"
        },
        "id": "osJn04mmlGRL",
        "outputId": "1b045920-63a2-48a3-99aa-98806800b010"
      },
      "execution_count": 10,
      "outputs": [
        {
          "output_type": "stream",
          "name": "stdout",
          "text": [
            "None\n",
            "<class 'NoneType'>\n"
          ]
        }
      ]
    },
    {
      "cell_type": "code",
      "source": [
        "#1.Assign True or False to the variable below then print it.\n",
        "eating_snacks=True\n",
        "print(eating_snacks)"
      ],
      "metadata": {
        "colab": {
          "base_uri": "https://localhost:8080/"
        },
        "id": "m5t3aVXWlNXh",
        "outputId": "dd261280-bb04-48b8-9e9e-dee661bc879f"
      },
      "execution_count": 11,
      "outputs": [
        {
          "output_type": "stream",
          "name": "stdout",
          "text": [
            "True\n"
          ]
        }
      ]
    },
    {
      "cell_type": "code",
      "source": [
        "#2.Write python program to create a String with double Quotes\n",
        "String1 = \"Skill Academy\"\n",
        "print(\"\\nString with the use of Double Quotes: \")\n",
        "print(String1)\n",
        "print(type(String1))"
      ],
      "metadata": {
        "colab": {
          "base_uri": "https://localhost:8080/"
        },
        "id": "UqS8VhrcmLmO",
        "outputId": "b84181ca-49aa-42a3-9977-d0b3b2af6b9e"
      },
      "execution_count": 13,
      "outputs": [
        {
          "output_type": "stream",
          "name": "stdout",
          "text": [
            "\n",
            "String with the use of Double Quotes: \n",
            "Skill Academy\n",
            "<class 'str'>\n"
          ]
        }
      ]
    },
    {
      "cell_type": "code",
      "source": [
        "#3.Write a python program to access the first and last characters of strings\n",
        "String1 = \"Skill Academy\"\n",
        "print(\"Initial String: \")\n",
        "print(String1)\n",
        "\n",
        "#Printing First character\n",
        "print(\"\\nFirst character of String is: \")\n",
        "print(String1[0])\n",
        "\n",
        "#Printing Last character\n",
        "print(\"\\nLast character of String is: \")\n",
        "print(String1[-1])"
      ],
      "metadata": {
        "colab": {
          "base_uri": "https://localhost:8080/"
        },
        "id": "HZgn_6oZmS4K",
        "outputId": "9b183478-4430-4371-ca9f-b7f9cd604cb5"
      },
      "execution_count": 14,
      "outputs": [
        {
          "output_type": "stream",
          "name": "stdout",
          "text": [
            "Initial String: \n",
            "Skill Academy\n",
            "\n",
            "First character of String is: \n",
            "S\n",
            "\n",
            "Last character of String is: \n",
            "y\n"
          ]
        }
      ]
    },
    {
      "cell_type": "code",
      "source": [
        "# 4.Define two variables, j and k, with values 37 and 52 respectively.\n",
        "#What is the sum and product of `j` and `k`?Now re-assign`j`and`k`to have the values 8 and 3 respectively.Again calculate the sum and product.\n",
        "\n",
        "j=37\n",
        "k=52\n",
        "#sum\n",
        "print(j+k)\n",
        "\n",
        "#product\n",
        "print(j*k)\n",
        "\n",
        "j=8\n",
        "k=3\n",
        "\n",
        "#sum\n",
        "print(j+k)\n",
        "#product\n",
        "print(j*k)"
      ],
      "metadata": {
        "colab": {
          "base_uri": "https://localhost:8080/"
        },
        "id": "IDfBOtPvmlqZ",
        "outputId": "45190b19-8ce8-480f-f503-6de9a7ffadcb"
      },
      "execution_count": 16,
      "outputs": [
        {
          "output_type": "stream",
          "name": "stdout",
          "text": [
            "89\n",
            "1924\n",
            "11\n",
            "24\n"
          ]
        }
      ]
    },
    {
      "cell_type": "code",
      "source": [
        "#5.Calculate the number of minutes in a year using variables for a normal year\n",
        "DaysInYear=365\n",
        "HoursInDay=24\n",
        "MinutesInHour=60\n",
        "print(\"number of minutes:\")\n",
        "print(DaysInYear*HoursInDay*MinutesInHour)"
      ],
      "metadata": {
        "colab": {
          "base_uri": "https://localhost:8080/"
        },
        "id": "Gl0I34VqmqPS",
        "outputId": "21c5d375-cee8-4936-abbc-57e62d96c159"
      },
      "execution_count": 18,
      "outputs": [
        {
          "output_type": "stream",
          "name": "stdout",
          "text": [
            "number of minutes:\n",
            "525600\n"
          ]
        }
      ]
    },
    {
      "cell_type": "code",
      "source": [
        ""
      ],
      "metadata": {
        "id": "Aa9CICUZoxRq"
      },
      "execution_count": null,
      "outputs": []
    }
  ]
}