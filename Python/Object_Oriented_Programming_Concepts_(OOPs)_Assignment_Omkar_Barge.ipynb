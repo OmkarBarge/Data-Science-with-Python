{
  "nbformat": 4,
  "nbformat_minor": 0,
  "metadata": {
    "colab": {
      "name": "Object Oriented Programming Concepts (OOPs) - Assignment-Omkar Barge.ipynb",
      "provenance": [],
      "collapsed_sections": []
    },
    "kernelspec": {
      "name": "python3",
      "display_name": "Python 3"
    },
    "language_info": {
      "name": "python"
    }
  },
  "cells": [
    {
      "cell_type": "code",
      "execution_count": 1,
      "metadata": {
        "colab": {
          "base_uri": "https://localhost:8080/"
        },
        "id": "KLsS7TqeQNQu",
        "outputId": "58f481ea-602e-4fbe-e1b3-f536e96ad3b2"
      },
      "outputs": [
        {
          "output_type": "stream",
          "name": "stdout",
          "text": [
            "Vehicle Name: School Volvo Speed: 180 Mileage: 12\n"
          ]
        }
      ],
      "source": [
        "# 1.Create a child class Bus that will inherit all of the variables and methods of the Vehicle class\n",
        "\n",
        "class Vehicle:\n",
        "  def __init__(self, name, max_speed, mileage):\n",
        "    self.name = name\n",
        "    self.max_speed = max_speed\n",
        "    self.mileage = mileage\n",
        "\n",
        "class Bus(Vehicle):\n",
        "    pass\n",
        "\n",
        "School_bus = Bus(\"School Volvo\", 180, 12)\n",
        "print(\"Vehicle Name:\", School_bus.name, \"Speed:\", School_bus.max_speed, \"Mileage:\", School_bus.mileage)\n",
        " "
      ]
    },
    {
      "cell_type": "code",
      "source": [
        "# 2.Write a simple Python class named Student and display its type.Also,display the__dict__attribute keys and the value of the__module__attribute of the Student class\n",
        "\n",
        "class Student:\n",
        "  pass\n",
        "  \n",
        "print(type(Student))\n",
        "print(Student.__dict__.keys())\n",
        "print(Student.__module__)"
      ],
      "metadata": {
        "colab": {
          "base_uri": "https://localhost:8080/"
        },
        "id": "ri9I6WXpRGm6",
        "outputId": "eb14bae8-861f-4730-c1b8-6ec3a81fd651"
      },
      "execution_count": 2,
      "outputs": [
        {
          "output_type": "stream",
          "name": "stdout",
          "text": [
            "<class 'type'>\n",
            "dict_keys(['__module__', '__dict__', '__weakref__', '__doc__'])\n",
            "__main__\n"
          ]
        }
      ]
    },
    {
      "cell_type": "code",
      "source": [
        "# 3.Write a Python class named Student with two attributes student_id,student_name.Add a new attribute student_class.Create a function to display the entire attribute and their values in Student class\n",
        "\n",
        "class Student:\n",
        "  student_id = '22'\n",
        "  student_name = 'Omkar Barge'\n",
        "  \n",
        "  def display():\n",
        "    print(f'Studentid:{Student.student_id}\\nStudentName:{Student.student_name}')\n",
        "    \n",
        "Student.display()"
      ],
      "metadata": {
        "colab": {
          "base_uri": "https://localhost:8080/"
        },
        "id": "0nCxLyvXRZDN",
        "outputId": "d23b63d7-44da-46a4-9cf6-486981736f3d"
      },
      "execution_count": 5,
      "outputs": [
        {
          "output_type": "stream",
          "name": "stdout",
          "text": [
            "Studentid:22\n",
            "StudentName:Omkar Barge\n"
          ]
        }
      ]
    },
    {
      "cell_type": "markdown",
      "source": [
        ".Write a Python class named Student with two instances student1,student2 and assign given values to the said instances attributes.Print all the attributes of student1,student2 instances with their values in the given format.<br>\n",
        "Input values of the instances:<br>student_1:<br>student_id = \"V12\"<br>student_name = \"Ernesto Mendez\"<br>student_2:student_id = \"V12\"<br>marks_language = 85<br>marks_science = 93<br>marks_math = 95"
      ],
      "metadata": {
        "id": "RM4-y68kR_RP"
      }
    },
    {
      "cell_type": "code",
      "source": [
        "class Student:\n",
        "  school = 'Skill Academy'\n",
        "  address = 'India'\n",
        "  \n",
        "student1 = Student()\n",
        "student2 = Student()\n",
        "student1.student_id = \"V12\"\n",
        "student1.student_name = \"Ernesto Mendez\"\n",
        "student2.student_id = \"V12\"\n",
        "student2.marks_language = 85\n",
        "student2.marks_science = 93\n",
        "student2.marks_math = 95\n",
        "students = [student1, student2]\n",
        "for student in students:\n",
        "  print('\\n')\n",
        "for attr in student.__dict__:\n",
        "  print(f'{attr} -> {getattr(student, attr)}')"
      ],
      "metadata": {
        "colab": {
          "base_uri": "https://localhost:8080/"
        },
        "id": "SNyumV8kSrOk",
        "outputId": "3ff17664-2c1b-4956-cf85-5653b923290d"
      },
      "execution_count": 6,
      "outputs": [
        {
          "output_type": "stream",
          "name": "stdout",
          "text": [
            "\n",
            "\n",
            "\n",
            "\n",
            "student_id -> V12\n",
            "marks_language -> 85\n",
            "marks_science -> 93\n",
            "marks_math -> 95\n"
          ]
        }
      ]
    },
    {
      "cell_type": "code",
      "source": [
        "# 5.Define a Book class with the following attributes: Title,Author(Fullname),Price.Define a constructor used to initialize the attributes of the method with values entered by the user.Set the View() method to display information for the current book.Write a program to testing the Book class\n",
        "class Book:\n",
        "  def __init__(self , Title , Author , Price):\n",
        "    self.Title  =  Title\n",
        "    self.Author =  Author\n",
        "    self.Price  =  Price\n",
        "\n",
        "  def view(self ):\n",
        "    return(\"BookTitle:\",self.Title,\"BookAuthor:\",self.Author,\"BookPrice:\" , self.Price)\n",
        "\n",
        "MyBook = Book(\"Python Crash Course\" , \"Eric Matthes\" , \"23 $\")\n",
        "print( MyBook.view())"
      ],
      "metadata": {
        "colab": {
          "base_uri": "https://localhost:8080/"
        },
        "id": "hreH_m7MTArt",
        "outputId": "bb2ff85c-c8c8-449c-f724-05eccda0bb38"
      },
      "execution_count": 8,
      "outputs": [
        {
          "output_type": "stream",
          "name": "stdout",
          "text": [
            "('BookTitle:', 'Python Crash Course', 'BookAuthor:', 'Eric Matthes', 'BookPrice:', '23 $')\n"
          ]
        }
      ]
    },
    {
      "cell_type": "code",
      "source": [
        ""
      ],
      "metadata": {
        "id": "6_PKZIalTntQ"
      },
      "execution_count": null,
      "outputs": []
    }
  ]
}