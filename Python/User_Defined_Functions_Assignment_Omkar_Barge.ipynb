{
  "nbformat": 4,
  "nbformat_minor": 0,
  "metadata": {
    "colab": {
      "name": "User Defined Functions - Assignment-Omkar Barge.ipynb",
      "provenance": [],
      "collapsed_sections": []
    },
    "kernelspec": {
      "name": "python3",
      "display_name": "Python 3"
    },
    "language_info": {
      "name": "python"
    }
  },
  "cells": [
    {
      "cell_type": "code",
      "source": [
        "#1.Write a Python function to find the min of three number\n",
        "\n",
        "def min_n(n):\n",
        "  n.sort()\n",
        "  return n[0]\n",
        "\n",
        "\n",
        "n = list(map(int,input().split()))\n",
        "print(min_n(n))\n"
      ],
      "metadata": {
        "colab": {
          "base_uri": "https://localhost:8080/"
        },
        "id": "7xY2gCUwCU4M",
        "outputId": "6b47db6f-242b-4dca-f701-6466d1f0c175"
      },
      "execution_count": 2,
      "outputs": [
        {
          "output_type": "stream",
          "name": "stdout",
          "text": [
            "5 8 2 6\n",
            "2\n"
          ]
        }
      ]
    },
    {
      "cell_type": "code",
      "source": [
        "# 2.Write a function that takes user input and then check whether x is even or odd\n",
        "\n",
        "def even_or_odd(x):\n",
        "  if x % 2 == 0:\n",
        "    return 'Even'\n",
        "  else:\n",
        "    return 'Odd'\n",
        "\n",
        "x = int(input('Enter Number : '))\n",
        "\n",
        "print(even_or_odd(x))"
      ],
      "metadata": {
        "colab": {
          "base_uri": "https://localhost:8080/"
        },
        "id": "NNRnhlncDSeD",
        "outputId": "9ce3a095-ec40-4fe4-eaad-f5f2597da9d1"
      },
      "execution_count": 3,
      "outputs": [
        {
          "output_type": "stream",
          "name": "stdout",
          "text": [
            "Enter Number : 226\n",
            "Even\n"
          ]
        }
      ]
    },
    {
      "cell_type": "code",
      "source": [
        "# 3.Define a function to Test if two words start with the same character,and returns True/False. Case distinction is ignored.\n",
        "\n",
        "def mat(w1,w2):\n",
        "  l1 = w1.lower()\n",
        "  l2 = w2.lower()\n",
        "  if l1[0] == l2[0]:\n",
        "    print('Same Character')\n",
        "  else:\n",
        "    print('Not a same character')\n",
        "\n",
        "w1 = input('Enter Word : ')\n",
        "w2 = input('Enter Word : ')\n",
        "\n",
        "mat(w1,w2)"
      ],
      "metadata": {
        "colab": {
          "base_uri": "https://localhost:8080/"
        },
        "id": "372DdCW8EeaI",
        "outputId": "34387e2b-e8ae-49ba-fe85-f1783b5b5d32"
      },
      "execution_count": 8,
      "outputs": [
        {
          "output_type": "stream",
          "name": "stdout",
          "text": [
            "Enter Word : Omkar\n",
            "Enter Word : ok\n",
            "Same Character\n"
          ]
        }
      ]
    },
    {
      "cell_type": "code",
      "source": [
        "# 4.Take a name from user and print a greeting message using user defined function\n",
        "\n",
        "def greeting(name):\n",
        "  print('Hello Welcome',name)\n",
        "\n",
        "name = input('Enter Name : ')\n",
        "greeting(name)"
      ],
      "metadata": {
        "colab": {
          "base_uri": "https://localhost:8080/"
        },
        "id": "WkEkfw_CF7N6",
        "outputId": "431d6231-803c-493a-cc82-694eb34fd54d"
      },
      "execution_count": 9,
      "outputs": [
        {
          "output_type": "stream",
          "name": "stdout",
          "text": [
            "Enter Name : omkar\n",
            "Hello Welcome omkar\n"
          ]
        }
      ]
    },
    {
      "cell_type": "code",
      "source": [
        "# Define a Python function to multiply all the numbers in a list.y=[5,7,12,35\n",
        "def mul(l):\n",
        "  m = 1\n",
        "  for i in l:\n",
        "    m = m * i\n",
        "  print(m)\n",
        "\n",
        "y = [5,7,12,35]\n",
        "mul(y)"
      ],
      "metadata": {
        "colab": {
          "base_uri": "https://localhost:8080/"
        },
        "id": "-xLAIbiOGOIJ",
        "outputId": "3a4ca026-51e9-43ae-adac-f794dce3fdbc"
      },
      "execution_count": 10,
      "outputs": [
        {
          "output_type": "stream",
          "name": "stdout",
          "text": [
            "14700\n"
          ]
        }
      ]
    },
    {
      "cell_type": "code",
      "source": [
        ""
      ],
      "metadata": {
        "id": "AavuuGDPHyXm"
      },
      "execution_count": null,
      "outputs": []
    }
  ]
}