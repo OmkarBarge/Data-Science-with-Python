{
  "nbformat": 4,
  "nbformat_minor": 0,
  "metadata": {
    "colab": {
      "name": "Indexing and Slicing - Assignment-Omkar Barge.ipynb",
      "provenance": [],
      "collapsed_sections": []
    },
    "kernelspec": {
      "name": "python3",
      "display_name": "Python 3"
    },
    "language_info": {
      "name": "python"
    }
  },
  "cells": [
    {
      "cell_type": "code",
      "source": [
        "import numpy as np"
      ],
      "metadata": {
        "id": "XbOdxU1oV6R2"
      },
      "execution_count": 3,
      "outputs": []
    },
    {
      "cell_type": "code",
      "execution_count": 1,
      "metadata": {
        "colab": {
          "base_uri": "https://localhost:8080/"
        },
        "id": "vmo9eJVKVJ_c",
        "outputId": "2041aa25-641d-48a9-8c8b-f6e494030988"
      },
      "outputs": [
        {
          "output_type": "stream",
          "name": "stdout",
          "text": [
            "[26 19 29 18 11 23]\n"
          ]
        }
      ],
      "source": [
        "# 1.Write a NumPy program to generate six random integers between 10 and 30.\n",
        "\n",
        "r = np.random.randint(10,30,6)\n",
        "print(r)"
      ]
    },
    {
      "cell_type": "code",
      "source": [
        "# 2.Write a NumPy program to create a 3x3 matrix with values ranging from 20to 28\n",
        "\n",
        "m =  np.arange(20,29).reshape(3,3)\n",
        "print(m)"
      ],
      "metadata": {
        "colab": {
          "base_uri": "https://localhost:8080/"
        },
        "id": "CC4AGMfgVi7J",
        "outputId": "9fe3b875-940a-46f7-f30c-9669e7bab0bc"
      },
      "execution_count": 4,
      "outputs": [
        {
          "output_type": "stream",
          "name": "stdout",
          "text": [
            "[[20 21 22]\n",
            " [23 24 25]\n",
            " [26 27 28]]\n"
          ]
        }
      ]
    },
    {
      "cell_type": "code",
      "source": [
        "# 3.Write a NumPy program to create a vector filled with 1s of size 10 and update the sixth value to 25\n",
        "\n",
        "ones = np.ones(10)\n",
        "print('Before adding 25',ones)\n",
        "ones[6] = 25\n",
        "print('After adding 25',ones)"
      ],
      "metadata": {
        "colab": {
          "base_uri": "https://localhost:8080/"
        },
        "id": "AmqhT7HZWFqh",
        "outputId": "24115ced-616f-4e79-c196-3b451486bcfb"
      },
      "execution_count": 6,
      "outputs": [
        {
          "output_type": "stream",
          "name": "stdout",
          "text": [
            "Before adding 25 [1. 1. 1. 1. 1. 1. 1. 1. 1. 1.]\n",
            "After adding 25 [ 1.  1.  1.  1.  1.  1. 25.  1.  1.  1.]\n"
          ]
        }
      ]
    },
    {
      "cell_type": "code",
      "source": [
        "# 4.Write a program to get fourth and seventh elements from the following array and add them.\n",
        "\n",
        "arr = np.array([10,20,30,40,50,60,70,80,90])\n",
        "print(arr[3] + arr[6])"
      ],
      "metadata": {
        "colab": {
          "base_uri": "https://localhost:8080/"
        },
        "id": "ssKezrAAWfFF",
        "outputId": "c27c9fdc-35cb-45fc-f7de-9540887e49e4"
      },
      "execution_count": 7,
      "outputs": [
        {
          "output_type": "stream",
          "name": "stdout",
          "text": [
            "110\n"
          ]
        }
      ]
    },
    {
      "cell_type": "code",
      "source": [
        "# 5.Write a program to get the first three elements of the second column of the array\n",
        "\n",
        "arr = np.array([[1,2,3],[4,5,6],[7,8,9],[10,11,12],[13,14,15],[16,17,18]])\n",
        "print(arr[0:3, 1])"
      ],
      "metadata": {
        "colab": {
          "base_uri": "https://localhost:8080/"
        },
        "id": "3XjERqBcW-pe",
        "outputId": "90dcbfa9-baa7-4315-b8da-7fea9a63d765"
      },
      "execution_count": 8,
      "outputs": [
        {
          "output_type": "stream",
          "name": "stdout",
          "text": [
            "[2 5 8]\n"
          ]
        }
      ]
    },
    {
      "cell_type": "code",
      "source": [
        ""
      ],
      "metadata": {
        "id": "QjUB86GVXPdS"
      },
      "execution_count": null,
      "outputs": []
    }
  ]
}