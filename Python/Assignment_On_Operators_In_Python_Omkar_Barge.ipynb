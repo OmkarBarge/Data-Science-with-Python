{
  "cells": [
    {
      "cell_type": "code",
      "execution_count": 2,
      "id": "e3728e5d",
      "metadata": {
        "colab": {
          "base_uri": "https://localhost:8080/"
        },
        "id": "e3728e5d",
        "outputId": "0fb9d269-44e2-4f2c-dd39-5d84f3911643"
      },
      "outputs": [
        {
          "output_type": "stream",
          "name": "stdout",
          "text": [
            "3.5\n"
          ]
        }
      ],
      "source": [
        "# What would be the output of the following code?\n",
        "\n",
        "x = 3\n",
        "y = 2.5\n",
        "z = 5\n",
        "print(x + y / z)"
      ]
    },
    {
      "cell_type": "code",
      "execution_count": 3,
      "id": "7cd76811",
      "metadata": {
        "colab": {
          "base_uri": "https://localhost:8080/"
        },
        "id": "7cd76811",
        "outputId": "7e3821c8-1c97-4c3d-b80d-5454f53fb1b5"
      },
      "outputs": [
        {
          "output_type": "execute_result",
          "data": {
            "text/plain": [
              "-2"
            ]
          },
          "metadata": {},
          "execution_count": 3
        }
      ],
      "source": [
        "4 % (1 + 9)**2 - 60 // (7 + 2)"
      ]
    },
    {
      "cell_type": "code",
      "execution_count": 4,
      "id": "97a77621",
      "metadata": {
        "colab": {
          "base_uri": "https://localhost:8080/"
        },
        "id": "97a77621",
        "outputId": "c9ed54e6-5fc2-41e1-9ab8-880e24cb2640"
      },
      "outputs": [
        {
          "output_type": "stream",
          "name": "stdout",
          "text": [
            "[10, 20, 30, 40]\n",
            "[10, 20, 30, 40]\n"
          ]
        }
      ],
      "source": [
        "# What is the output of the following addition (+) operator?\n",
        "\n",
        "a = [10, 20]\n",
        "b = a\n",
        "b += [30, 40]\n",
        "print(a)\n",
        "print(b)"
      ]
    },
    {
      "cell_type": "code",
      "execution_count": 5,
      "id": "a255711c",
      "metadata": {
        "colab": {
          "base_uri": "https://localhost:8080/"
        },
        "id": "a255711c",
        "outputId": "1fb2a33d-e4d9-4b6b-be30-6a0b30f9bf39"
      },
      "outputs": [
        {
          "output_type": "stream",
          "name": "stdout",
          "text": [
            "36\n",
            "3\n"
          ]
        }
      ],
      "source": [
        "# What would be the output of the following code?\n",
        "\n",
        "x = 6\n",
        "y = 2\n",
        "print(x ** y)\n",
        "print(x // y)"
      ]
    },
    {
      "cell_type": "code",
      "execution_count": 6,
      "id": "57cafe1b",
      "metadata": {
        "colab": {
          "base_uri": "https://localhost:8080/"
        },
        "id": "57cafe1b",
        "outputId": "1e271d52-bda4-4c96-8379-1f0a7a3aeee6"
      },
      "outputs": [
        {
          "output_type": "stream",
          "name": "stdout",
          "text": [
            "False True True True\n"
          ]
        }
      ],
      "source": [
        "# What is the output of the following code\n",
        "\n",
        "print(bool(0), bool(3.14159), bool(-3), bool(1.0+1j))"
      ]
    },
    {
      "cell_type": "code",
      "execution_count": 7,
      "id": "5ea6209c",
      "metadata": {
        "colab": {
          "base_uri": "https://localhost:8080/"
        },
        "id": "5ea6209c",
        "outputId": "f9a154f1-9a29-4b9c-aa37-3701626d58bc"
      },
      "outputs": [
        {
          "output_type": "stream",
          "name": "stdout",
          "text": [
            "-5\n"
          ]
        }
      ],
      "source": [
        "# What is the output of the expression?\n",
        "\n",
        "print(-18 // 4)"
      ]
    },
    {
      "cell_type": "code",
      "execution_count": 8,
      "id": "c95831b2",
      "metadata": {
        "colab": {
          "base_uri": "https://localhost:8080/"
        },
        "id": "c95831b2",
        "outputId": "2997583c-3ede-4f31-b09f-17535c7d7a7c"
      },
      "outputs": [
        {
          "output_type": "stream",
          "name": "stdout",
          "text": [
            "Addition  =  13\n",
            "Substraction =  -1\n",
            "Multiplication =  42\n",
            "Division =  0.8571428571428571\n",
            "Floor Division =  0\n",
            "Modulus or remainder 6\n",
            "Exponential =  279936\n"
          ]
        }
      ],
      "source": [
        "a = 6\n",
        "b = 7\n",
        "print(\"Addition  = \", a + b)  \n",
        "print(\"Substraction = \", a - b) \n",
        "print(\"Multiplication = \", a * b) \n",
        "print(\"Division = \", a / b)\n",
        "print(\"Floor Division = \", a // b) \n",
        "print(\"Modulus or remainder\",a % b) \n",
        "print(\"Exponential = \", a ** b)"
      ]
    },
    {
      "cell_type": "code",
      "execution_count": 9,
      "id": "a57bfb7a",
      "metadata": {
        "colab": {
          "base_uri": "https://localhost:8080/"
        },
        "id": "a57bfb7a",
        "outputId": "42aef367-d7b6-4280-c728-46223a189ef4"
      },
      "outputs": [
        {
          "output_type": "stream",
          "name": "stdout",
          "text": [
            "11.857142857142858\n"
          ]
        }
      ],
      "source": [
        "print((4 * 5) - 9 + 6 / 7)"
      ]
    },
    {
      "cell_type": "code",
      "execution_count": 10,
      "id": "b2c87ad0",
      "metadata": {
        "colab": {
          "base_uri": "https://localhost:8080/"
        },
        "id": "b2c87ad0",
        "outputId": "c4e79864-9956-48f1-f92a-3d2434a34979"
      },
      "outputs": [
        {
          "output_type": "stream",
          "name": "stdout",
          "text": [
            "The remainder is 2\n"
          ]
        }
      ],
      "source": [
        "# Find the modulus and print the result:\n",
        "print('The remainder is',6%4)"
      ]
    },
    {
      "cell_type": "code",
      "execution_count": 12,
      "id": "7b836889",
      "metadata": {
        "colab": {
          "base_uri": "https://localhost:8080/"
        },
        "id": "7b836889",
        "outputId": "52dfdf85-d6bd-45f2-f0e8-827952810aed"
      },
      "outputs": [
        {
          "output_type": "stream",
          "name": "stdout",
          "text": [
            "I can't study any longer\n"
          ]
        }
      ],
      "source": [
        "# Solve the error in code below and print the correct result.\n",
        "\n",
        "# Given:\n",
        "print(\"I can't study any longer\")\n",
        "      \n",
        "# Corrected solution:"
      ]
    },
    {
      "cell_type": "code",
      "source": [
        ""
      ],
      "metadata": {
        "id": "L0rhI4MhI1ao"
      },
      "id": "L0rhI4MhI1ao",
      "execution_count": null,
      "outputs": []
    }
  ],
  "metadata": {
    "kernelspec": {
      "display_name": "Python 3 (ipykernel)",
      "language": "python",
      "name": "python3"
    },
    "language_info": {
      "codemirror_mode": {
        "name": "ipython",
        "version": 3
      },
      "file_extension": ".py",
      "mimetype": "text/x-python",
      "name": "python",
      "nbconvert_exporter": "python",
      "pygments_lexer": "ipython3",
      "version": "3.9.7"
    },
    "colab": {
      "name": "Assignment On Operators In Python_Omkar Barge.ipynb",
      "provenance": []
    }
  },
  "nbformat": 4,
  "nbformat_minor": 5
}