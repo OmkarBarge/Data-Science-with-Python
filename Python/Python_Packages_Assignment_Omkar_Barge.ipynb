{
  "nbformat": 4,
  "nbformat_minor": 0,
  "metadata": {
    "colab": {
      "name": "Python Packages - Assignment-Omkar Barge.ipynb",
      "provenance": [],
      "collapsed_sections": []
    },
    "kernelspec": {
      "name": "python3",
      "display_name": "Python 3"
    },
    "language_info": {
      "name": "python"
    }
  },
  "cells": [
    {
      "cell_type": "code",
      "execution_count": 1,
      "metadata": {
        "colab": {
          "base_uri": "https://localhost:8080/"
        },
        "id": "RH4gaDAbLpY7",
        "outputId": "f79c9135-29ec-4a12-b43f-274d673a7f4b"
      },
      "outputs": [
        {
          "output_type": "stream",
          "name": "stdout",
          "text": [
            "429.7183463481174\n",
            "0.1308996938995747\n"
          ]
        }
      ],
      "source": [
        "# 1.Write a python program to convert radian into degrees and vice versa\n",
        "\n",
        "import math\n",
        "print (math.degrees(7.50))\n",
        "print (math.radians(7.50))"
      ]
    },
    {
      "cell_type": "code",
      "source": [
        "# 2.Write a Python program to find the occurrence of each letter in the given text\n",
        "\n",
        "from collections import Counter\n",
        "s = 'pythonjupyternotebook'\n",
        "c = Counter(s)\n",
        "print(c)"
      ],
      "metadata": {
        "colab": {
          "base_uri": "https://localhost:8080/"
        },
        "id": "uLuID6KrMEpv",
        "outputId": "eaf6817a-0eda-40c0-9d6d-8c94a5c1554e"
      },
      "execution_count": 2,
      "outputs": [
        {
          "output_type": "stream",
          "name": "stdout",
          "text": [
            "Counter({'o': 4, 't': 3, 'p': 2, 'y': 2, 'n': 2, 'e': 2, 'h': 1, 'j': 1, 'u': 1, 'r': 1, 'b': 1, 'k': 1})\n"
          ]
        }
      ]
    },
    {
      "cell_type": "code",
      "source": [
        "# 3.Write a python program to generate 3 random integers between 10 and 99 which is divisible by 5\n",
        "import random\n",
        "for num in range(3):\n",
        "  print(random.randrange(10, 99, 5), end=',') "
      ],
      "metadata": {
        "colab": {
          "base_uri": "https://localhost:8080/"
        },
        "id": "L4feRYzaMWZE",
        "outputId": "9fad3170-559d-4d2b-cf74-c2dd3dbf9f6d"
      },
      "execution_count": 4,
      "outputs": [
        {
          "output_type": "stream",
          "name": "stdout",
          "text": [
            "30,10,90,"
          ]
        }
      ]
    },
    {
      "cell_type": "code",
      "source": [
        "# 4.Write a Python program to choose two colours from four different colours and generate all the combinations with repetitions.l = [\"Red\",\"Green\",\"Blue\",\"Pink\"]\n",
        "\n",
        "from itertools import combinations_with_replacement\n",
        "def combinations_colors(l, n):\n",
        "  return combinations_with_replacement(l,n)\n",
        "  \n",
        "l = [\"Red\",\"Green\",\"Blue\",\"Pink\"]\n",
        "print(list(combinations_colors(l, 2)))\n"
      ],
      "metadata": {
        "colab": {
          "base_uri": "https://localhost:8080/"
        },
        "id": "H1V6aBRlMlzN",
        "outputId": "5d0abe5c-e2d3-4d68-a5fa-e182f4086d38"
      },
      "execution_count": 9,
      "outputs": [
        {
          "output_type": "stream",
          "name": "stdout",
          "text": [
            "[('Red', 'Red'), ('Red', 'Green'), ('Red', 'Blue'), ('Red', 'Pink'), ('Green', 'Green'), ('Green', 'Blue'), ('Green', 'Pink'), ('Blue', 'Blue'), ('Blue', 'Pink'), ('Pink', 'Pink')]\n"
          ]
        }
      ]
    },
    {
      "cell_type": "code",
      "source": [
        "# 5.Write a python program to pick a random character from a given String name = 'pythonnotebook'\n",
        "import random\n",
        "name = 'pythonnotebook'\n",
        "char = random.choice(name)\n",
        "print(\"random char is \", char)"
      ],
      "metadata": {
        "colab": {
          "base_uri": "https://localhost:8080/"
        },
        "id": "dNzQv9ohNKC0",
        "outputId": "931b6899-1740-4cd3-8011-05483b55fdc2"
      },
      "execution_count": 10,
      "outputs": [
        {
          "output_type": "stream",
          "name": "stdout",
          "text": [
            "random char is  o\n"
          ]
        }
      ]
    },
    {
      "cell_type": "code",
      "source": [
        ""
      ],
      "metadata": {
        "id": "vsrJBUVSNjTM"
      },
      "execution_count": null,
      "outputs": []
    }
  ]
}