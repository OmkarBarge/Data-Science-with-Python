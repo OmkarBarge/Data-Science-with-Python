{
  "cells": [
    {
      "cell_type": "markdown",
      "id": "6caf26f3",
      "metadata": {
        "id": "6caf26f3"
      },
      "source": [
        "Question 1: Calculate the square of each number of list"
      ]
    },
    {
      "cell_type": "code",
      "source": [
        "lst = [2,4,6,8,10]\n",
        "for i in lst:\n",
        "  print(i ** 2)"
      ],
      "metadata": {
        "colab": {
          "base_uri": "https://localhost:8080/"
        },
        "id": "bGcIQbBhaZm_",
        "outputId": "30b82981-a6db-4a67-cc3d-4bbfc0840829"
      },
      "id": "bGcIQbBhaZm_",
      "execution_count": 1,
      "outputs": [
        {
          "output_type": "stream",
          "name": "stdout",
          "text": [
            "4\n",
            "16\n",
            "36\n",
            "64\n",
            "100\n"
          ]
        }
      ]
    },
    {
      "cell_type": "markdown",
      "id": "9826b727",
      "metadata": {
        "id": "9826b727"
      },
      "source": [
        "Question 2: Print all even and odd numbers"
      ]
    },
    {
      "cell_type": "code",
      "source": [
        "lst_1 = [1,2,3,4,5,6,7,8,9,10,11,12,13,14,15,16,17,18,19,20,21,22,23,24,25,26,27,28,29,30]\n",
        "even = []\n",
        "odd = []\n",
        "for j in lst_1:\n",
        "  if j % 2 == 0:\n",
        "    even.append(j)\n",
        "  else:\n",
        "    odd.append(j)\n",
        "\n",
        "print(\"Even Numbers : \") \n",
        "for e in even:\n",
        "  print(e)\n",
        "\n",
        "print(\"Odd Numbers : \") \n",
        "for o in odd:\n",
        "  print(o)\n"
      ],
      "metadata": {
        "colab": {
          "base_uri": "https://localhost:8080/"
        },
        "id": "-0q0ikhUai3z",
        "outputId": "35a65b3d-a16e-4f3c-8ae0-c4ad13edebd4"
      },
      "id": "-0q0ikhUai3z",
      "execution_count": 2,
      "outputs": [
        {
          "output_type": "stream",
          "name": "stdout",
          "text": [
            "Even Numbers : \n",
            "2\n",
            "4\n",
            "6\n",
            "8\n",
            "10\n",
            "12\n",
            "14\n",
            "16\n",
            "18\n",
            "20\n",
            "22\n",
            "24\n",
            "26\n",
            "28\n",
            "30\n",
            "Odd Numbers : \n",
            "1\n",
            "3\n",
            "5\n",
            "7\n",
            "9\n",
            "11\n",
            "13\n",
            "15\n",
            "17\n",
            "19\n",
            "21\n",
            "23\n",
            "25\n",
            "27\n",
            "29\n"
          ]
        }
      ]
    },
    {
      "cell_type": "markdown",
      "id": "8ad800c4",
      "metadata": {
        "id": "8ad800c4"
      },
      "source": [
        "Question 3: Reverse the given list using a loop \n",
        "             numbers = [1, 2, 3, 4]"
      ]
    },
    {
      "cell_type": "code",
      "source": [
        "numbers = [1,2,3,4]\n",
        "re = []\n",
        "# l = len(numbers)\n",
        "for k in range(len(numbers)-1,-1,-1):\n",
        "  a = numbers[k]\n",
        "  re.append(a)\n",
        "print(re)\n"
      ],
      "metadata": {
        "colab": {
          "base_uri": "https://localhost:8080/"
        },
        "id": "uLP_13GJbKKU",
        "outputId": "c9893198-af15-4823-e12d-9565e643ac2f"
      },
      "id": "uLP_13GJbKKU",
      "execution_count": 9,
      "outputs": [
        {
          "output_type": "stream",
          "name": "stdout",
          "text": [
            "[4, 3, 2, 1]\n"
          ]
        }
      ]
    },
    {
      "cell_type": "markdown",
      "id": "318d7776",
      "metadata": {
        "id": "318d7776"
      },
      "source": [
        "Question 4: Printing the elements of the list with its index number using the range() function"
      ]
    },
    {
      "cell_type": "code",
      "source": [
        "ll = [99,98,97,96,95,94,93,92,91]\n",
        "\n",
        "for i in range(len(ll)):\n",
        "  print('index - ',i,'element',ll[i])"
      ],
      "metadata": {
        "colab": {
          "base_uri": "https://localhost:8080/"
        },
        "id": "UI1bxBqFc0Nx",
        "outputId": "7bd3b63a-73cd-42a3-c06a-a9c47702f7fc"
      },
      "id": "UI1bxBqFc0Nx",
      "execution_count": 10,
      "outputs": [
        {
          "output_type": "stream",
          "name": "stdout",
          "text": [
            "index -  0 element 99\n",
            "index -  1 element 98\n",
            "index -  2 element 97\n",
            "index -  3 element 96\n",
            "index -  4 element 95\n",
            "index -  5 element 94\n",
            "index -  6 element 93\n",
            "index -  7 element 92\n",
            "index -  8 element 91\n"
          ]
        }
      ]
    },
    {
      "cell_type": "markdown",
      "id": "4a92d000",
      "metadata": {
        "id": "4a92d000"
      },
      "source": [
        "Question 5: Iterate string in reverse order"
      ]
    },
    {
      "cell_type": "code",
      "source": [
        "t = 'testbook'\n",
        "\n",
        "for i in range(len(t)-1,-1,-1):\n",
        "  print(t[i],end='')"
      ],
      "metadata": {
        "colab": {
          "base_uri": "https://localhost:8080/"
        },
        "id": "DtlgRun3dEZ0",
        "outputId": "b5fd2f53-e56f-47e6-9e02-26c2ecf18781"
      },
      "id": "DtlgRun3dEZ0",
      "execution_count": 12,
      "outputs": [
        {
          "output_type": "stream",
          "name": "stdout",
          "text": [
            "koobtset"
          ]
        }
      ]
    },
    {
      "cell_type": "code",
      "source": [
        ""
      ],
      "metadata": {
        "id": "kbrhDI3fdPaG"
      },
      "id": "kbrhDI3fdPaG",
      "execution_count": null,
      "outputs": []
    }
  ],
  "metadata": {
    "kernelspec": {
      "display_name": "Python 3 (ipykernel)",
      "language": "python",
      "name": "python3"
    },
    "language_info": {
      "codemirror_mode": {
        "name": "ipython",
        "version": 3
      },
      "file_extension": ".py",
      "mimetype": "text/x-python",
      "name": "python",
      "nbconvert_exporter": "python",
      "pygments_lexer": "ipython3",
      "version": "3.9.7"
    },
    "colab": {
      "name": "For Loop - Assignment-Omkar Barge.ipynb",
      "provenance": [],
      "collapsed_sections": []
    }
  },
  "nbformat": 4,
  "nbformat_minor": 5
}