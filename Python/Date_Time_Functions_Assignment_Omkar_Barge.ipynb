{
  "nbformat": 4,
  "nbformat_minor": 0,
  "metadata": {
    "colab": {
      "name": "Date Time Functions - Assignment-Omkar Barge.ipynb",
      "provenance": [],
      "collapsed_sections": []
    },
    "kernelspec": {
      "name": "python3",
      "display_name": "Python 3"
    },
    "language_info": {
      "name": "python"
    }
  },
  "cells": [
    {
      "cell_type": "code",
      "execution_count": 1,
      "metadata": {
        "colab": {
          "base_uri": "https://localhost:8080/"
        },
        "id": "31lLZfjjOPgK",
        "outputId": "cabe2203-fd80-422d-b9a6-5ea6fdad133d"
      },
      "outputs": [
        {
          "output_type": "stream",
          "name": "stdout",
          "text": [
            "Current Date : 2022-08-04\n",
            "5 days after Current Date : 2022-08-09\n"
          ]
        }
      ],
      "source": [
        "# 1.Write a Python program to add five days from the current date.\n",
        "from datetime import date, timedelta\n",
        "dt = date.today() + timedelta(5)\n",
        "print('Current Date :',date.today())\n",
        "print('5 days after Current Date :',dt)"
      ]
    },
    {
      "cell_type": "code",
      "source": [
        "# 2.Write a Python program to print the calendar for the year 2021.\n",
        "import calendar\n",
        "s = calendar.prcal(2021)"
      ],
      "metadata": {
        "colab": {
          "base_uri": "https://localhost:8080/"
        },
        "id": "9A9qnT2tOdyF",
        "outputId": "3ee260bb-8d04-49c8-d246-dde4724ecda2"
      },
      "execution_count": 2,
      "outputs": [
        {
          "output_type": "stream",
          "name": "stdout",
          "text": [
            "                                  2021\n",
            "\n",
            "      January                   February                   March\n",
            "Mo Tu We Th Fr Sa Su      Mo Tu We Th Fr Sa Su      Mo Tu We Th Fr Sa Su\n",
            "             1  2  3       1  2  3  4  5  6  7       1  2  3  4  5  6  7\n",
            " 4  5  6  7  8  9 10       8  9 10 11 12 13 14       8  9 10 11 12 13 14\n",
            "11 12 13 14 15 16 17      15 16 17 18 19 20 21      15 16 17 18 19 20 21\n",
            "18 19 20 21 22 23 24      22 23 24 25 26 27 28      22 23 24 25 26 27 28\n",
            "25 26 27 28 29 30 31                                29 30 31\n",
            "\n",
            "       April                      May                       June\n",
            "Mo Tu We Th Fr Sa Su      Mo Tu We Th Fr Sa Su      Mo Tu We Th Fr Sa Su\n",
            "          1  2  3  4                      1  2          1  2  3  4  5  6\n",
            " 5  6  7  8  9 10 11       3  4  5  6  7  8  9       7  8  9 10 11 12 13\n",
            "12 13 14 15 16 17 18      10 11 12 13 14 15 16      14 15 16 17 18 19 20\n",
            "19 20 21 22 23 24 25      17 18 19 20 21 22 23      21 22 23 24 25 26 27\n",
            "26 27 28 29 30            24 25 26 27 28 29 30      28 29 30\n",
            "                          31\n",
            "\n",
            "        July                     August                  September\n",
            "Mo Tu We Th Fr Sa Su      Mo Tu We Th Fr Sa Su      Mo Tu We Th Fr Sa Su\n",
            "          1  2  3  4                         1             1  2  3  4  5\n",
            " 5  6  7  8  9 10 11       2  3  4  5  6  7  8       6  7  8  9 10 11 12\n",
            "12 13 14 15 16 17 18       9 10 11 12 13 14 15      13 14 15 16 17 18 19\n",
            "19 20 21 22 23 24 25      16 17 18 19 20 21 22      20 21 22 23 24 25 26\n",
            "26 27 28 29 30 31         23 24 25 26 27 28 29      27 28 29 30\n",
            "                          30 31\n",
            "\n",
            "      October                   November                  December\n",
            "Mo Tu We Th Fr Sa Su      Mo Tu We Th Fr Sa Su      Mo Tu We Th Fr Sa Su\n",
            "             1  2  3       1  2  3  4  5  6  7             1  2  3  4  5\n",
            " 4  5  6  7  8  9 10       8  9 10 11 12 13 14       6  7  8  9 10 11 12\n",
            "11 12 13 14 15 16 17      15 16 17 18 19 20 21      13 14 15 16 17 18 19\n",
            "18 19 20 21 22 23 24      22 23 24 25 26 27 28      20 21 22 23 24 25 26\n",
            "25 26 27 28 29 30 31      29 30                     27 28 29 30 31\n"
          ]
        }
      ]
    },
    {
      "cell_type": "code",
      "source": [
        "# 3.Write a Python program to get days between two dates.\n",
        "from datetime import date\n",
        "a = date(2022,2,28)\n",
        "b = date(2021,2,28)\n",
        "print(b-a)"
      ],
      "metadata": {
        "colab": {
          "base_uri": "https://localhost:8080/"
        },
        "id": "gdHwPrVuOmFn",
        "outputId": "b2aa6d47-c8ad-47f9-9551-5e16d6f8821a"
      },
      "execution_count": 3,
      "outputs": [
        {
          "output_type": "stream",
          "name": "stdout",
          "text": [
            "-365 days, 0:00:00\n"
          ]
        }
      ]
    },
    {
      "cell_type": "code",
      "source": [
        "# 4.Write a Python program to convert a string to datetime.\n",
        "from datetime import datetime \n",
        "date_object=datetime.strptime('Jul2420222:43PM','%b%d%Y%I:%M%p')\n",
        "print(date_object)"
      ],
      "metadata": {
        "colab": {
          "base_uri": "https://localhost:8080/"
        },
        "id": "u9yNYvXLOugK",
        "outputId": "bf7992ca-da79-42e4-b7d8-6b06e37dd12f"
      },
      "execution_count": 4,
      "outputs": [
        {
          "output_type": "stream",
          "name": "stdout",
          "text": [
            "2022-07-24 14:43:00\n"
          ]
        }
      ]
    },
    {
      "cell_type": "markdown",
      "source": [
        "5.Write a Python script to display the various Date Time formats -<br>\n",
        "a.Current date and time<br>\n",
        "b.Current year<br>\n",
        "c.Month of year<br>\n",
        "d.Week number of the year<br>\n",
        "e.Weekday of the week<br>\n",
        "f.Day of year<br>\n",
        "g.Day of the month<br>\n",
        "h.Day of week"
      ],
      "metadata": {
        "id": "pwI-3066O5kZ"
      }
    },
    {
      "cell_type": "code",
      "source": [
        "import time\n",
        "import datetime\n",
        "print(\"Current date and time: \" , datetime.datetime.now())\n",
        "print(\"Current year: \", datetime.date.today().strftime(\"%Y\"))\n",
        "print(\"Month of year: \", datetime.date.today().strftime(\"%B\"))\n",
        "print(\"Week number of the year: \", datetime.date.today().strftime(\"%W\"))\n",
        "print(\"Weekday of the week: \", datetime.date.today().strftime(\"%w\"))\n",
        "print(\"Day of year: \", datetime.date.today().strftime(\"%j\"))\n",
        "print(\"Day of the month : \", datetime.date.today().strftime(\"%d\"))\n",
        "print(\"Day of week: \", datetime.date.today().strftime(\"%A\"))"
      ],
      "metadata": {
        "colab": {
          "base_uri": "https://localhost:8080/"
        },
        "id": "OBeAiio6PSXh",
        "outputId": "730ec146-1044-43d5-8a55-2d1443ec40cf"
      },
      "execution_count": 6,
      "outputs": [
        {
          "output_type": "stream",
          "name": "stdout",
          "text": [
            "Current date and time:  2022-08-04 19:03:39.260901\n",
            "Current year:  2022\n",
            "Month of year:  August\n",
            "Week number of the year:  31\n",
            "Weekday of the week:  4\n",
            "Day of year:  216\n",
            "Day of the month :  04\n",
            "Day of week:  Thursday\n"
          ]
        }
      ]
    },
    {
      "cell_type": "code",
      "source": [
        ""
      ],
      "metadata": {
        "id": "fnmyQ5rRPdfm"
      },
      "execution_count": null,
      "outputs": []
    }
  ]
}