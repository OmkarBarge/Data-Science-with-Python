{
  "cells": [
    {
      "cell_type": "markdown",
      "id": "26354247",
      "metadata": {
        "id": "26354247"
      },
      "source": [
        "Question 1: Find the length of string given below and print the result."
      ]
    },
    {
      "cell_type": "code",
      "execution_count": 1,
      "id": "8096701f",
      "metadata": {
        "colab": {
          "base_uri": "https://localhost:8080/"
        },
        "id": "8096701f",
        "outputId": "b790aaad-5567-4573-9ddb-996d00a3498a"
      },
      "outputs": [
        {
          "output_type": "stream",
          "name": "stdout",
          "text": [
            "54\n"
          ]
        }
      ],
      "source": [
        "# Given below is the string:\n",
        "string='Hi, I hope you are having a great learning experience.'\n",
        "\n",
        "l = len(string)\n",
        "print(l)\n",
        "# Calculate and print the length:"
      ]
    },
    {
      "cell_type": "markdown",
      "id": "4208f6e3",
      "metadata": {
        "id": "4208f6e3"
      },
      "source": [
        "Question 2: Write the output of the following code :"
      ]
    },
    {
      "cell_type": "code",
      "execution_count": 3,
      "id": "9259fdce",
      "metadata": {
        "colab": {
          "base_uri": "https://localhost:8080/"
        },
        "id": "9259fdce",
        "outputId": "3b4d6045-f21e-42f4-e821-791f4dedbecf"
      },
      "outputs": [
        {
          "output_type": "stream",
          "name": "stdout",
          "text": [
            "A\n",
            "B\n",
            "C\n"
          ]
        }
      ],
      "source": [
        "a = '''A\n",
        "B\n",
        "C'''\n",
        "\n",
        "print(a)"
      ]
    },
    {
      "cell_type": "markdown",
      "id": "1e6e63d8",
      "metadata": {
        "id": "1e6e63d8"
      },
      "source": [
        "Question 3: Create a string of length=10. Obtain the fifth and seventh character of the string. "
      ]
    },
    {
      "cell_type": "code",
      "source": [
        "st = 'abcdefghij'\n",
        "print(st[5])\n",
        "print(st[7])"
      ],
      "metadata": {
        "colab": {
          "base_uri": "https://localhost:8080/"
        },
        "id": "jX2qUMVzKP21",
        "outputId": "a204aaec-97f4-40fb-dcf7-772bbe5c99aa"
      },
      "id": "jX2qUMVzKP21",
      "execution_count": 4,
      "outputs": [
        {
          "output_type": "stream",
          "name": "stdout",
          "text": [
            "f\n",
            "h\n"
          ]
        }
      ]
    },
    {
      "cell_type": "markdown",
      "id": "a2b8d64a",
      "metadata": {
        "id": "a2b8d64a"
      },
      "source": [
        "Question 4: Take the user input to print the current date"
      ]
    },
    {
      "cell_type": "code",
      "execution_count": 5,
      "id": "1dd3a6fa",
      "metadata": {
        "colab": {
          "base_uri": "https://localhost:8080/"
        },
        "id": "1dd3a6fa",
        "outputId": "d3cff298-a5df-4644-ea29-3e7c5d2acdaf"
      },
      "outputs": [
        {
          "output_type": "stream",
          "name": "stdout",
          "text": [
            "Enter the date22/03/2022\n",
            "22/03/2022\n"
          ]
        }
      ],
      "source": [
        "# Take the user input into a string:\n",
        "var2=input('Enter the date')\n",
        "print(var2)\n",
        "# Print the date:"
      ]
    },
    {
      "cell_type": "markdown",
      "id": "c3960e1d",
      "metadata": {
        "id": "c3960e1d"
      },
      "source": [
        "string = \"I have not failed. I’ve just found 10,000 ways that won’t work. – Thomas A. Edison\"\n",
        "\n",
        "Question 5: Given above is the string.\n",
        "a) Find the len.\n",
        "b)Accessing first character\n",
        "c)Accessing last character using negative indexing\n",
        "d)change the character at index 2 with 'y'"
      ]
    },
    {
      "cell_type": "code",
      "source": [
        "string = \"I have not failed. I’ve just found 10,000 ways that won’t work. – Thomas A. Edison\"\n",
        "\n",
        "print(len(string))\n",
        "print(string[0])\n",
        "print(string[-1])\n",
        "print(\"We cannot change the character in string becoz string is immutable\")"
      ],
      "metadata": {
        "colab": {
          "base_uri": "https://localhost:8080/"
        },
        "id": "G8LBmjcqKqJh",
        "outputId": "89930639-2f81-44ba-9871-d189661d86e2"
      },
      "id": "G8LBmjcqKqJh",
      "execution_count": 6,
      "outputs": [
        {
          "output_type": "stream",
          "name": "stdout",
          "text": [
            "82\n",
            "I\n",
            "n\n",
            "We cannot change the character in string becoz string is immutable\n"
          ]
        }
      ]
    },
    {
      "cell_type": "markdown",
      "id": "faefeb8e",
      "metadata": {
        "id": "faefeb8e"
      },
      "source": [
        "Question 6: batch = \"5 girls 3 boys in a class\"\n",
        "a)Find the len\n",
        "b)Write the code to get \"5 girls\" from the string.\n",
        "c)Write the code to get \"3 boys in a class\"."
      ]
    },
    {
      "cell_type": "code",
      "source": [
        "batch = \"5 girls 3 boys in a class\" \n",
        "print(len(batch))\n",
        "print(batch[:7])\n",
        "print(batch[8:19])"
      ],
      "metadata": {
        "colab": {
          "base_uri": "https://localhost:8080/"
        },
        "id": "_aB6AylVLKrp",
        "outputId": "9ee1b49e-8e66-41b6-baec-5ccdff614bf4"
      },
      "id": "_aB6AylVLKrp",
      "execution_count": 8,
      "outputs": [
        {
          "output_type": "stream",
          "name": "stdout",
          "text": [
            "25\n",
            "5 girls\n",
            "3 boys in a\n"
          ]
        }
      ]
    },
    {
      "cell_type": "markdown",
      "id": "d588417c",
      "metadata": {
        "id": "d588417c"
      },
      "source": [
        "s = \"Skill Academy Testbook\"\n",
        "\n",
        "Question 7: Write the code to get these outputs:\n",
        "                a)kbeydA\n",
        "                b)SilAaey"
      ]
    },
    {
      "cell_type": "code",
      "source": [
        "s = \"Skill Academy Testbook\"\n",
        "print(s[-1:-17:-3])\n",
        "print(s[:13:2])"
      ],
      "metadata": {
        "colab": {
          "base_uri": "https://localhost:8080/"
        },
        "id": "FkuiYI13MVZY",
        "outputId": "4620266e-e1f8-457c-e671-c5d9b1865a80"
      },
      "id": "FkuiYI13MVZY",
      "execution_count": 12,
      "outputs": [
        {
          "output_type": "stream",
          "name": "stdout",
          "text": [
            "kbeydA\n",
            "SilAaey\n"
          ]
        }
      ]
    },
    {
      "cell_type": "code",
      "source": [
        ""
      ],
      "metadata": {
        "id": "bfRinLfRMlDp"
      },
      "id": "bfRinLfRMlDp",
      "execution_count": null,
      "outputs": []
    }
  ],
  "metadata": {
    "kernelspec": {
      "display_name": "Python 3 (ipykernel)",
      "language": "python",
      "name": "python3"
    },
    "language_info": {
      "codemirror_mode": {
        "name": "ipython",
        "version": 3
      },
      "file_extension": ".py",
      "mimetype": "text/x-python",
      "name": "python",
      "nbconvert_exporter": "python",
      "pygments_lexer": "ipython3",
      "version": "3.9.7"
    },
    "colab": {
      "name": "String Slicing - Assignment Omkar Barge.ipynb",
      "provenance": []
    }
  },
  "nbformat": 4,
  "nbformat_minor": 5
}