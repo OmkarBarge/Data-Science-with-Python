{
  "cells": [
    {
      "cell_type": "markdown",
      "id": "066da71d",
      "metadata": {
        "id": "066da71d"
      },
      "source": [
        "Question 1: Print the '$' symbol 20 times without having to type it for 20 times."
      ]
    },
    {
      "cell_type": "code",
      "source": [
        "print('$' * 20)"
      ],
      "metadata": {
        "colab": {
          "base_uri": "https://localhost:8080/"
        },
        "id": "FU8Kwuq9RADH",
        "outputId": "06633541-eb1a-48e4-d62b-d01a3d0f2020"
      },
      "id": "FU8Kwuq9RADH",
      "execution_count": 1,
      "outputs": [
        {
          "output_type": "stream",
          "name": "stdout",
          "text": [
            "$$$$$$$$$$$$$$$$$$$$\n"
          ]
        }
      ]
    },
    {
      "cell_type": "markdown",
      "id": "b25d4fd7",
      "metadata": {
        "id": "b25d4fd7"
      },
      "source": [
        "Question 2: Find the product of two numbers input by the user.\n",
        "-Take input of the first number and store it in a variable\n",
        "-Take input of the second number and store it in a variable\n",
        "-You will need to typecast the input strings into integers\n",
        "-Calculate the product\n",
        "-Print the result"
      ]
    },
    {
      "cell_type": "code",
      "source": [
        "x = int(input('Enter 1st number : '))\n",
        "y = int(input('Enter 2nd number : '))\n",
        "\n",
        "print(x * y)"
      ],
      "metadata": {
        "colab": {
          "base_uri": "https://localhost:8080/"
        },
        "id": "gNEdgZBxRF0y",
        "outputId": "48c9ce8b-6a6b-47ff-e57d-c4cd11d47782"
      },
      "id": "gNEdgZBxRF0y",
      "execution_count": 2,
      "outputs": [
        {
          "output_type": "stream",
          "name": "stdout",
          "text": [
            "Enter 1st number : 2\n",
            "Enter 2nd number : 2\n",
            "4\n"
          ]
        }
      ]
    },
    {
      "cell_type": "markdown",
      "id": "51f18a3c",
      "metadata": {
        "id": "51f18a3c"
      },
      "source": [
        "Question 3: Concatenate the given strings and print the result:\n",
        "string1= 'Welcome to Data Science With Python'\n",
        "string2= 'coding practice session.'"
      ]
    },
    {
      "cell_type": "code",
      "source": [
        "string1= 'Welcome to Data Science With Python' \n",
        "string2= 'coding practice session.'\n",
        "\n",
        "print(string1 +\" \"+string2)"
      ],
      "metadata": {
        "colab": {
          "base_uri": "https://localhost:8080/"
        },
        "id": "0RkpeoP3RSCJ",
        "outputId": "4f5ee44f-e19e-4c20-f19a-aee045a6c09e"
      },
      "id": "0RkpeoP3RSCJ",
      "execution_count": 5,
      "outputs": [
        {
          "output_type": "stream",
          "name": "stdout",
          "text": [
            "Welcome to Data Science With Python coding practice session.\n"
          ]
        }
      ]
    },
    {
      "cell_type": "markdown",
      "id": "1a5f392c",
      "metadata": {
        "id": "1a5f392c"
      },
      "source": [
        "Question 4:Using String Functions/Methods solve the given questions:\n",
        "a)some_sentence = \"Today is a beautiful day    \" # use rstrip () function\n",
        "b)large = \"CONVERT ME TO LOWER CASED\"            # use lower() function\n",
        "c)small = \"convert me to upper cased\"            # use upper() function\n",
        "d)spaces = \"   welcome to testbook data science course \"  # use strip() function \n",
        "e)s = \"Python on Jupyter Notebook\"                # use index() function \n",
        "  Find i) Note\n",
        "      ii) thon\n",
        "     iii) yter\n",
        "f)string = \"This is a sample sentence\"          # use count() method\n",
        "  Find i) is\n",
        "      ii) sample\n",
        "     iii) tence"
      ]
    },
    {
      "cell_type": "code",
      "source": [
        "some_sentence = \"Today is a beautiful day \"\n",
        "some_sentence.rstrip()"
      ],
      "metadata": {
        "colab": {
          "base_uri": "https://localhost:8080/",
          "height": 36
        },
        "id": "slECk-UPRjGm",
        "outputId": "d767cde1-ddcb-449e-99a9-918998ed67fb"
      },
      "id": "slECk-UPRjGm",
      "execution_count": 6,
      "outputs": [
        {
          "output_type": "execute_result",
          "data": {
            "text/plain": [
              "'Today is a beautiful day'"
            ],
            "application/vnd.google.colaboratory.intrinsic+json": {
              "type": "string"
            }
          },
          "metadata": {},
          "execution_count": 6
        }
      ]
    },
    {
      "cell_type": "code",
      "source": [
        "large = \"CONVERT ME TO LOWER CASED\"\n",
        "large.lower()"
      ],
      "metadata": {
        "colab": {
          "base_uri": "https://localhost:8080/",
          "height": 36
        },
        "id": "oN_5P_qcRmdd",
        "outputId": "879bb5dc-fb1d-4332-baa6-b4d1a87aa050"
      },
      "id": "oN_5P_qcRmdd",
      "execution_count": 7,
      "outputs": [
        {
          "output_type": "execute_result",
          "data": {
            "text/plain": [
              "'convert me to lower cased'"
            ],
            "application/vnd.google.colaboratory.intrinsic+json": {
              "type": "string"
            }
          },
          "metadata": {},
          "execution_count": 7
        }
      ]
    },
    {
      "cell_type": "code",
      "source": [
        "small = \"convert me to upper cased\"\n",
        "small.upper()"
      ],
      "metadata": {
        "colab": {
          "base_uri": "https://localhost:8080/",
          "height": 36
        },
        "id": "Unn2_2rIR7DT",
        "outputId": "d8485bdd-ca4a-49df-965c-0ac0c0a96e54"
      },
      "id": "Unn2_2rIR7DT",
      "execution_count": 8,
      "outputs": [
        {
          "output_type": "execute_result",
          "data": {
            "text/plain": [
              "'CONVERT ME TO UPPER CASED'"
            ],
            "application/vnd.google.colaboratory.intrinsic+json": {
              "type": "string"
            }
          },
          "metadata": {},
          "execution_count": 8
        }
      ]
    },
    {
      "cell_type": "code",
      "source": [
        "spaces = \" welcome to testbook data science course     \"\n",
        "spaces.strip()"
      ],
      "metadata": {
        "colab": {
          "base_uri": "https://localhost:8080/",
          "height": 36
        },
        "id": "mNWlg4pHR_dQ",
        "outputId": "0e354f81-4b95-4f50-c1d9-75ffa7f5cb81"
      },
      "id": "mNWlg4pHR_dQ",
      "execution_count": 10,
      "outputs": [
        {
          "output_type": "execute_result",
          "data": {
            "text/plain": [
              "'welcome to testbook data science course'"
            ],
            "application/vnd.google.colaboratory.intrinsic+json": {
              "type": "string"
            }
          },
          "metadata": {},
          "execution_count": 10
        }
      ]
    },
    {
      "cell_type": "code",
      "source": [
        "s = \"Python on Jupyter Notebook\"\n",
        "print(s.index('Note'))\n",
        "print(s.index('thon'))\n",
        "print(s.index('yter'))"
      ],
      "metadata": {
        "colab": {
          "base_uri": "https://localhost:8080/"
        },
        "id": "dlqJ8XcLSDvW",
        "outputId": "57daebe5-5c5d-40c9-afbf-a2f1c31cd3ab"
      },
      "id": "dlqJ8XcLSDvW",
      "execution_count": 12,
      "outputs": [
        {
          "output_type": "stream",
          "name": "stdout",
          "text": [
            "18\n",
            "2\n",
            "13\n"
          ]
        }
      ]
    },
    {
      "cell_type": "code",
      "source": [
        "string = \"This is a sample sentence\"\n",
        "print(string.count('is'))\n",
        "print(string.count('sample'))\n",
        "print(string.count('tence'))"
      ],
      "metadata": {
        "colab": {
          "base_uri": "https://localhost:8080/"
        },
        "id": "cPWRGLrfSLwf",
        "outputId": "bbe8997c-e9f4-491a-9737-747db7ef6600"
      },
      "id": "cPWRGLrfSLwf",
      "execution_count": 14,
      "outputs": [
        {
          "output_type": "stream",
          "name": "stdout",
          "text": [
            "2\n",
            "1\n",
            "1\n"
          ]
        }
      ]
    }
  ],
  "metadata": {
    "kernelspec": {
      "display_name": "Python 3 (ipykernel)",
      "language": "python",
      "name": "python3"
    },
    "language_info": {
      "codemirror_mode": {
        "name": "ipython",
        "version": 3
      },
      "file_extension": ".py",
      "mimetype": "text/x-python",
      "name": "python",
      "nbconvert_exporter": "python",
      "pygments_lexer": "ipython3",
      "version": "3.9.7"
    },
    "colab": {
      "name": "String Functions Assignment-Omkar Barge.ipynb",
      "provenance": [],
      "collapsed_sections": []
    }
  },
  "nbformat": 4,
  "nbformat_minor": 5
}